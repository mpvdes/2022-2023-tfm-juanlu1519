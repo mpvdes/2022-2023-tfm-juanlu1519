{
 "cells": [
  {
   "cell_type": "markdown",
   "id": "95858640",
   "metadata": {},
   "source": [
    "# ¿A qué van destinados los presupuestos del ayuntamiento de Girona?"
   ]
  },
  {
   "cell_type": "markdown",
   "id": "35d3270c",
   "metadata": {},
   "source": [
    "En los presupuestos de los ayuntamientos se especifican los gastos que se realizarán en la ciudad durante el año y los ingresos que se prevén obtener. En este notebook queremos ver cuánto ha destinado el ayuntamiento de Girona a partidas relacionadas con el turismo, la cultura, los derechos sociales y la movilidad."
   ]
  },
  {
   "cell_type": "markdown",
   "id": "f2bcaab2",
   "metadata": {},
   "source": [
    "Para el tratamiento de los datos necesitaremos instalar e importar las librerías Numpy y Pandas de Python."
   ]
  },
  {
   "cell_type": "code",
   "execution_count": 2,
   "id": "89b8f127",
   "metadata": {},
   "outputs": [],
   "source": [
    "#!pip install numpy\n",
    "#!pip install pandas\n",
    "\n",
    "import numpy as np\n",
    "import pandas as pd"
   ]
  },
  {
   "cell_type": "markdown",
   "id": "82145f15",
   "metadata": {},
   "source": [
    "Los presupuestos los encontramos en archivos en formato *.csv* en la web del Ayuntamiento de Girona dedicada a los datos abiertos, [Girona Open Data](https://www.girona.cat/opendata/dataset/pressupost). En el mismo enlace podemos ver una descripción que nos ayuda a entender los presupuestos. Cada año tiene una manera diferente de organizar los departamentos."
   ]
  },
  {
   "cell_type": "code",
   "execution_count": 3,
   "id": "892779f5",
   "metadata": {
    "scrolled": true
   },
   "outputs": [],
   "source": [
    "descripcion15 = pd.read_csv('../data/descripcion15.csv', sep = ';', encoding='latin-1')\n",
    "descripcion16 = pd.read_csv('../data/descripcion16.csv', sep = ';')\n",
    "descripcion17 = pd.read_csv('../data/descripcion17.csv', sep = ';')\n",
    "descripcion18 = pd.read_csv('../data/descripcion18.csv', sep = ';')\n",
    "descripcion19 = pd.read_csv('../data/descripcion19.csv', sep = ';')\n",
    "descripcion20 = pd.read_csv('../data/descripcion20.csv', sep = ';')\n",
    "descripcion21 = pd.read_csv('../data/descripcion21.csv', sep = ';')\n",
    "descripcion22 = pd.read_csv('../data/descripcion22.csv', sep = ';')\n",
    "descripcion23 = pd.read_csv('../data/descripcion23.csv', sep = ';')"
   ]
  },
  {
   "cell_type": "code",
   "execution_count": 3,
   "id": "fef292a5",
   "metadata": {},
   "outputs": [
    {
     "data": {
      "text/html": [
       "<div>\n",
       "<style scoped>\n",
       "    .dataframe tbody tr th:only-of-type {\n",
       "        vertical-align: middle;\n",
       "    }\n",
       "\n",
       "    .dataframe tbody tr th {\n",
       "        vertical-align: top;\n",
       "    }\n",
       "\n",
       "    .dataframe thead th {\n",
       "        text-align: right;\n",
       "    }\n",
       "</style>\n",
       "<table border=\"1\" class=\"dataframe\">\n",
       "  <thead>\n",
       "    <tr style=\"text-align: right;\">\n",
       "      <th></th>\n",
       "      <th>ÀREA\\t</th>\n",
       "      <th>ÀREA_descripció</th>\n",
       "      <th>UNITAT</th>\n",
       "      <th>UNITAT_descripció</th>\n",
       "      <th>DEPARTAMENT</th>\n",
       "      <th>\\tDEPARTAMENT_descripció</th>\n",
       "    </tr>\n",
       "  </thead>\n",
       "  <tbody>\n",
       "    <tr>\n",
       "      <th>0</th>\n",
       "      <td>1</td>\n",
       "      <td>ALCALDIA</td>\n",
       "      <td>10</td>\n",
       "      <td>PRESIDÈNCIA</td>\n",
       "      <td>100</td>\n",
       "      <td>PRESIDENCIA</td>\n",
       "    </tr>\n",
       "    <tr>\n",
       "      <th>1</th>\n",
       "      <td>1</td>\n",
       "      <td>ALCALDIA</td>\n",
       "      <td>11</td>\n",
       "      <td>OFICINA DEFENSOR DE LA CIUTADANIA</td>\n",
       "      <td>110</td>\n",
       "      <td>OFICINA DEFENSOR DE LA CIUTADANIA</td>\n",
       "    </tr>\n",
       "    <tr>\n",
       "      <th>2</th>\n",
       "      <td>1</td>\n",
       "      <td>ALCALDIA</td>\n",
       "      <td>12</td>\n",
       "      <td>UMAT</td>\n",
       "      <td>120</td>\n",
       "      <td>UMAT</td>\n",
       "    </tr>\n",
       "    <tr>\n",
       "      <th>3</th>\n",
       "      <td>1</td>\n",
       "      <td>ALCALDIA</td>\n",
       "      <td>13</td>\n",
       "      <td>GESTIÓ DOCUMENTAL, ARXIUS I PUBLICACIONS</td>\n",
       "      <td>130</td>\n",
       "      <td>GESTIÓ DOCUMENTAL, ARXIU I PUBLICACIONS</td>\n",
       "    </tr>\n",
       "    <tr>\n",
       "      <th>4</th>\n",
       "      <td>1</td>\n",
       "      <td>ALCALDIA</td>\n",
       "      <td>14</td>\n",
       "      <td>DRETS SOCIALS</td>\n",
       "      <td>140</td>\n",
       "      <td>SERVEIS SOCIALS</td>\n",
       "    </tr>\n",
       "    <tr>\n",
       "      <th>5</th>\n",
       "      <td>1</td>\n",
       "      <td>ALCALDIA</td>\n",
       "      <td>14</td>\n",
       "      <td>DRETS SOCIALS</td>\n",
       "      <td>141</td>\n",
       "      <td>SERVEIS SOCIALS ATENCIÓ PRIMÀRIA</td>\n",
       "    </tr>\n",
       "    <tr>\n",
       "      <th>6</th>\n",
       "      <td>1</td>\n",
       "      <td>ALCALDIA</td>\n",
       "      <td>14</td>\n",
       "      <td>DRETS SOCIALS</td>\n",
       "      <td>142</td>\n",
       "      <td>SERVEIS SOCIALS ESPECIALITZATS</td>\n",
       "    </tr>\n",
       "    <tr>\n",
       "      <th>7</th>\n",
       "      <td>1</td>\n",
       "      <td>ALCALDIA</td>\n",
       "      <td>14</td>\n",
       "      <td>DRETS SOCIALS</td>\n",
       "      <td>143</td>\n",
       "      <td>CENTRES CÍVICS</td>\n",
       "    </tr>\n",
       "    <tr>\n",
       "      <th>8</th>\n",
       "      <td>1</td>\n",
       "      <td>ALCALDIA</td>\n",
       "      <td>14</td>\n",
       "      <td>DRETS SOCIALS</td>\n",
       "      <td>144</td>\n",
       "      <td>HABITATGE</td>\n",
       "    </tr>\n",
       "    <tr>\n",
       "      <th>9</th>\n",
       "      <td>1</td>\n",
       "      <td>ALCALDIA</td>\n",
       "      <td>14</td>\n",
       "      <td>DRETS SOCIALS</td>\n",
       "      <td>145</td>\n",
       "      <td>COOPERACIÓ</td>\n",
       "    </tr>\n",
       "    <tr>\n",
       "      <th>10</th>\n",
       "      <td>1</td>\n",
       "      <td>ALCALDIA</td>\n",
       "      <td>15</td>\n",
       "      <td>SEGURETAT CIUTADANA</td>\n",
       "      <td>150</td>\n",
       "      <td>SEGURETAT CIUTADANA</td>\n",
       "    </tr>\n",
       "    <tr>\n",
       "      <th>11</th>\n",
       "      <td>1</td>\n",
       "      <td>ALCALDIA</td>\n",
       "      <td>16</td>\n",
       "      <td>SALUT</td>\n",
       "      <td>160</td>\n",
       "      <td>SALUT</td>\n",
       "    </tr>\n",
       "    <tr>\n",
       "      <th>12</th>\n",
       "      <td>3</td>\n",
       "      <td>TERRITORI</td>\n",
       "      <td>30</td>\n",
       "      <td>URBANISME I ACTIVITATS</td>\n",
       "      <td>300</td>\n",
       "      <td>URBANISME I ACTIVITATS</td>\n",
       "    </tr>\n",
       "    <tr>\n",
       "      <th>13</th>\n",
       "      <td>3</td>\n",
       "      <td>TERRITORI</td>\n",
       "      <td>31</td>\n",
       "      <td>MOBILITAT I VIA PÚBLICA</td>\n",
       "      <td>310</td>\n",
       "      <td>MOBILITAT I VIA PÚBLICA</td>\n",
       "    </tr>\n",
       "    <tr>\n",
       "      <th>14</th>\n",
       "      <td>3</td>\n",
       "      <td>TERRITORI</td>\n",
       "      <td>32</td>\n",
       "      <td>MEDI AMBIENT</td>\n",
       "      <td>320</td>\n",
       "      <td>SOSTENIBILITAT</td>\n",
       "    </tr>\n",
       "    <tr>\n",
       "      <th>15</th>\n",
       "      <td>3</td>\n",
       "      <td>TERRITORI</td>\n",
       "      <td>32</td>\n",
       "      <td>MEDI AMBIENT</td>\n",
       "      <td>321</td>\n",
       "      <td>PARCS I JARDINS, PROTECCIÓ DEL MEDI</td>\n",
       "    </tr>\n",
       "    <tr>\n",
       "      <th>16</th>\n",
       "      <td>3</td>\n",
       "      <td>TERRITORI</td>\n",
       "      <td>32</td>\n",
       "      <td>MEDI AMBIENT</td>\n",
       "      <td>322</td>\n",
       "      <td>SERVEIS URBANS</td>\n",
       "    </tr>\n",
       "    <tr>\n",
       "      <th>17</th>\n",
       "      <td>3</td>\n",
       "      <td>TERRITORI</td>\n",
       "      <td>32</td>\n",
       "      <td>MEDI AMBIENT</td>\n",
       "      <td>323</td>\n",
       "      <td>QUALITAT AMBIENTAL I PROTECCIÓ DE LA SALUT</td>\n",
       "    </tr>\n",
       "    <tr>\n",
       "      <th>18</th>\n",
       "      <td>4</td>\n",
       "      <td>HISENDA I RÈGIM INTERIOR</td>\n",
       "      <td>40</td>\n",
       "      <td>HISENDA</td>\n",
       "      <td>400</td>\n",
       "      <td>HISENDA</td>\n",
       "    </tr>\n",
       "    <tr>\n",
       "      <th>19</th>\n",
       "      <td>4</td>\n",
       "      <td>HISENDA I RÈGIM INTERIOR</td>\n",
       "      <td>41</td>\n",
       "      <td>RÈGIM INTERIOR</td>\n",
       "      <td>410</td>\n",
       "      <td>RÈGIM INTERIOR</td>\n",
       "    </tr>\n",
       "    <tr>\n",
       "      <th>20</th>\n",
       "      <td>4</td>\n",
       "      <td>HISENDA I RÈGIM INTERIOR</td>\n",
       "      <td>41</td>\n",
       "      <td>RÈGIM INTERIOR</td>\n",
       "      <td>411</td>\n",
       "      <td>PATRIMONI</td>\n",
       "    </tr>\n",
       "    <tr>\n",
       "      <th>21</th>\n",
       "      <td>4</td>\n",
       "      <td>HISENDA I RÈGIM INTERIOR</td>\n",
       "      <td>41</td>\n",
       "      <td>RÈGIM INTERIOR</td>\n",
       "      <td>412</td>\n",
       "      <td>RECURSOS HUMANS</td>\n",
       "    </tr>\n",
       "    <tr>\n",
       "      <th>22</th>\n",
       "      <td>4</td>\n",
       "      <td>HISENDA I RÈGIM INTERIOR</td>\n",
       "      <td>41</td>\n",
       "      <td>RÈGIM INTERIOR</td>\n",
       "      <td>413</td>\n",
       "      <td>SERVEI DE SISTEMES I TECNOLOGIES DE LA INFORMACIÓ</td>\n",
       "    </tr>\n",
       "    <tr>\n",
       "      <th>23</th>\n",
       "      <td>4</td>\n",
       "      <td>HISENDA I RÈGIM INTERIOR</td>\n",
       "      <td>41</td>\n",
       "      <td>RÈGIM INTERIOR</td>\n",
       "      <td>414</td>\n",
       "      <td>REGISTRE GENERAL, ESTADÍSTICA I OIAC</td>\n",
       "    </tr>\n",
       "    <tr>\n",
       "      <th>24</th>\n",
       "      <td>5</td>\n",
       "      <td>ÀREA DRET A LES PERSONES</td>\n",
       "      <td>50</td>\n",
       "      <td>CULTURA</td>\n",
       "      <td>500</td>\n",
       "      <td>CULTURA</td>\n",
       "    </tr>\n",
       "    <tr>\n",
       "      <th>25</th>\n",
       "      <td>5</td>\n",
       "      <td>ÀREA DRET A LES PERSONES</td>\n",
       "      <td>50</td>\n",
       "      <td>CULTURA</td>\n",
       "      <td>501</td>\n",
       "      <td>BIBLIOTEQUES</td>\n",
       "    </tr>\n",
       "    <tr>\n",
       "      <th>26</th>\n",
       "      <td>5</td>\n",
       "      <td>ÀREA DRET A LES PERSONES</td>\n",
       "      <td>50</td>\n",
       "      <td>CULTURA</td>\n",
       "      <td>502</td>\n",
       "      <td>MUSEU D'HISTÒRIA DE GIRONA</td>\n",
       "    </tr>\n",
       "    <tr>\n",
       "      <th>27</th>\n",
       "      <td>5</td>\n",
       "      <td>ÀREA DRET A LES PERSONES</td>\n",
       "      <td>50</td>\n",
       "      <td>CULTURA</td>\n",
       "      <td>503</td>\n",
       "      <td>TEATRE MUNICIPAL</td>\n",
       "    </tr>\n",
       "    <tr>\n",
       "      <th>28</th>\n",
       "      <td>5</td>\n",
       "      <td>ÀREA DRET A LES PERSONES</td>\n",
       "      <td>50</td>\n",
       "      <td>CULTURA</td>\n",
       "      <td>504</td>\n",
       "      <td>LA MERCÈ</td>\n",
       "    </tr>\n",
       "    <tr>\n",
       "      <th>29</th>\n",
       "      <td>5</td>\n",
       "      <td>ÀREA DRET A LES PERSONES</td>\n",
       "      <td>50</td>\n",
       "      <td>CULTURA</td>\n",
       "      <td>505</td>\n",
       "      <td>BÒLIT- CENTRE ART CONTEMPORANI</td>\n",
       "    </tr>\n",
       "    <tr>\n",
       "      <th>30</th>\n",
       "      <td>5</td>\n",
       "      <td>ÀREA DRET A LES PERSONES</td>\n",
       "      <td>50</td>\n",
       "      <td>CULTURA</td>\n",
       "      <td>506</td>\n",
       "      <td>ESPAI MARFÀ</td>\n",
       "    </tr>\n",
       "    <tr>\n",
       "      <th>31</th>\n",
       "      <td>5</td>\n",
       "      <td>ÀREA DRET A LES PERSONES</td>\n",
       "      <td>50</td>\n",
       "      <td>CULTURA</td>\n",
       "      <td>507</td>\n",
       "      <td>DINAMITZACIÓ DEL TERRITORI</td>\n",
       "    </tr>\n",
       "    <tr>\n",
       "      <th>32</th>\n",
       "      <td>5</td>\n",
       "      <td>ÀREA DRET A LES PERSONES</td>\n",
       "      <td>50</td>\n",
       "      <td>CULTURA</td>\n",
       "      <td>508</td>\n",
       "      <td>JOVENTUT</td>\n",
       "    </tr>\n",
       "    <tr>\n",
       "      <th>33</th>\n",
       "      <td>5</td>\n",
       "      <td>ÀREA DRET A LES PERSONES</td>\n",
       "      <td>51</td>\n",
       "      <td>EDUCACIÓ, ESPORTS I SEGURETAT EN EL TREBALL</td>\n",
       "      <td>510</td>\n",
       "      <td>EDUCACIÓ</td>\n",
       "    </tr>\n",
       "    <tr>\n",
       "      <th>34</th>\n",
       "      <td>5</td>\n",
       "      <td>ÀREA DRET A LES PERSONES</td>\n",
       "      <td>51</td>\n",
       "      <td>EDUCACIÓ, ESPORTS I SEGURETAT EN EL TREBALL</td>\n",
       "      <td>511</td>\n",
       "      <td>ESPORTS</td>\n",
       "    </tr>\n",
       "    <tr>\n",
       "      <th>35</th>\n",
       "      <td>5</td>\n",
       "      <td>ÀREA DRET A LES PERSONES</td>\n",
       "      <td>51</td>\n",
       "      <td>EDUCACIÓ, ESPORTS I SEGURETAT EN EL TREBALL</td>\n",
       "      <td>512</td>\n",
       "      <td>SEGURETAT EN EL TREBALL</td>\n",
       "    </tr>\n",
       "    <tr>\n",
       "      <th>36</th>\n",
       "      <td>6</td>\n",
       "      <td>PROMOCIÓ ECONÒMICA DESENVOLUPAMENT LOCAL, TURI...</td>\n",
       "      <td>60</td>\n",
       "      <td>PROMOCIÓ ECONÒMICA DESENVOLUPAMENT LOCAL, TURI...</td>\n",
       "      <td>600</td>\n",
       "      <td>PROMOCIÓ ECONÒMICA</td>\n",
       "    </tr>\n",
       "    <tr>\n",
       "      <th>37</th>\n",
       "      <td>6</td>\n",
       "      <td>PROMOCIÓ ECONÒMICA DESENVOLUPAMENT LOCAL, TURI...</td>\n",
       "      <td>60</td>\n",
       "      <td>PROMOCIÓ ECONÒMICA DESENVOLUPAMENT LOCAL, TURI...</td>\n",
       "      <td>601</td>\n",
       "      <td>TURISME</td>\n",
       "    </tr>\n",
       "    <tr>\n",
       "      <th>38</th>\n",
       "      <td>6</td>\n",
       "      <td>PROMOCIÓ ECONÒMICA DESENVOLUPAMENT LOCAL, TURI...</td>\n",
       "      <td>60</td>\n",
       "      <td>PROMOCIÓ ECONÒMICA DESENVOLUPAMENT LOCAL, TURI...</td>\n",
       "      <td>602</td>\n",
       "      <td>EMPRESA</td>\n",
       "    </tr>\n",
       "    <tr>\n",
       "      <th>39</th>\n",
       "      <td>6</td>\n",
       "      <td>PROMOCIÓ ECONÒMICA DESENVOLUPAMENT LOCAL, TURI...</td>\n",
       "      <td>60</td>\n",
       "      <td>PROMOCIÓ ECONÒMICA DESENVOLUPAMENT LOCAL, TURI...</td>\n",
       "      <td>603</td>\n",
       "      <td>COMERÇ</td>\n",
       "    </tr>\n",
       "    <tr>\n",
       "      <th>40</th>\n",
       "      <td>6</td>\n",
       "      <td>PROMOCIÓ ECONÒMICA DESENVOLUPAMENT LOCAL, TURI...</td>\n",
       "      <td>60</td>\n",
       "      <td>PROMOCIÓ ECONÒMICA DESENVOLUPAMENT LOCAL, TURI...</td>\n",
       "      <td>604</td>\n",
       "      <td>SERVEI MUNICIPAL D'OCUPACIÓ</td>\n",
       "    </tr>\n",
       "    <tr>\n",
       "      <th>41</th>\n",
       "      <td>6</td>\n",
       "      <td>PROMOCIÓ ECONÒMICA DESENVOLUPAMENT LOCAL, TURI...</td>\n",
       "      <td>60</td>\n",
       "      <td>PROMOCIÓ ECONÒMICA DESENVOLUPAMENT LOCAL, TURI...</td>\n",
       "      <td>605</td>\n",
       "      <td>OFICINA MUNICIPAL ATENCIÓ AL CONSUMIDOR</td>\n",
       "    </tr>\n",
       "  </tbody>\n",
       "</table>\n",
       "</div>"
      ],
      "text/plain": [
       "    ÀREA\\t                                    ÀREA_descripció  UNITAT  \\\n",
       "0        1                                           ALCALDIA      10   \n",
       "1        1                                           ALCALDIA      11   \n",
       "2        1                                           ALCALDIA      12   \n",
       "3        1                                           ALCALDIA      13   \n",
       "4        1                                           ALCALDIA      14   \n",
       "5        1                                           ALCALDIA      14   \n",
       "6        1                                           ALCALDIA      14   \n",
       "7        1                                           ALCALDIA      14   \n",
       "8        1                                           ALCALDIA      14   \n",
       "9        1                                           ALCALDIA      14   \n",
       "10       1                                           ALCALDIA      15   \n",
       "11       1                                           ALCALDIA      16   \n",
       "12       3                                          TERRITORI      30   \n",
       "13       3                                          TERRITORI      31   \n",
       "14       3                                          TERRITORI      32   \n",
       "15       3                                          TERRITORI      32   \n",
       "16       3                                          TERRITORI      32   \n",
       "17       3                                          TERRITORI      32   \n",
       "18       4                           HISENDA I RÈGIM INTERIOR      40   \n",
       "19       4                           HISENDA I RÈGIM INTERIOR      41   \n",
       "20       4                           HISENDA I RÈGIM INTERIOR      41   \n",
       "21       4                           HISENDA I RÈGIM INTERIOR      41   \n",
       "22       4                           HISENDA I RÈGIM INTERIOR      41   \n",
       "23       4                           HISENDA I RÈGIM INTERIOR      41   \n",
       "24       5                           ÀREA DRET A LES PERSONES      50   \n",
       "25       5                           ÀREA DRET A LES PERSONES      50   \n",
       "26       5                           ÀREA DRET A LES PERSONES      50   \n",
       "27       5                           ÀREA DRET A LES PERSONES      50   \n",
       "28       5                           ÀREA DRET A LES PERSONES      50   \n",
       "29       5                           ÀREA DRET A LES PERSONES      50   \n",
       "30       5                           ÀREA DRET A LES PERSONES      50   \n",
       "31       5                           ÀREA DRET A LES PERSONES      50   \n",
       "32       5                           ÀREA DRET A LES PERSONES      50   \n",
       "33       5                           ÀREA DRET A LES PERSONES      51   \n",
       "34       5                           ÀREA DRET A LES PERSONES      51   \n",
       "35       5                           ÀREA DRET A LES PERSONES      51   \n",
       "36       6  PROMOCIÓ ECONÒMICA DESENVOLUPAMENT LOCAL, TURI...      60   \n",
       "37       6  PROMOCIÓ ECONÒMICA DESENVOLUPAMENT LOCAL, TURI...      60   \n",
       "38       6  PROMOCIÓ ECONÒMICA DESENVOLUPAMENT LOCAL, TURI...      60   \n",
       "39       6  PROMOCIÓ ECONÒMICA DESENVOLUPAMENT LOCAL, TURI...      60   \n",
       "40       6  PROMOCIÓ ECONÒMICA DESENVOLUPAMENT LOCAL, TURI...      60   \n",
       "41       6  PROMOCIÓ ECONÒMICA DESENVOLUPAMENT LOCAL, TURI...      60   \n",
       "\n",
       "                                    UNITAT_descripció  DEPARTAMENT  \\\n",
       "0                                         PRESIDÈNCIA          100   \n",
       "1                   OFICINA DEFENSOR DE LA CIUTADANIA          110   \n",
       "2                                                UMAT          120   \n",
       "3            GESTIÓ DOCUMENTAL, ARXIUS I PUBLICACIONS          130   \n",
       "4                                       DRETS SOCIALS          140   \n",
       "5                                       DRETS SOCIALS          141   \n",
       "6                                       DRETS SOCIALS          142   \n",
       "7                                       DRETS SOCIALS          143   \n",
       "8                                       DRETS SOCIALS          144   \n",
       "9                                       DRETS SOCIALS          145   \n",
       "10                                SEGURETAT CIUTADANA          150   \n",
       "11                                              SALUT          160   \n",
       "12                             URBANISME I ACTIVITATS          300   \n",
       "13                            MOBILITAT I VIA PÚBLICA          310   \n",
       "14                                       MEDI AMBIENT          320   \n",
       "15                                       MEDI AMBIENT          321   \n",
       "16                                       MEDI AMBIENT          322   \n",
       "17                                       MEDI AMBIENT          323   \n",
       "18                                            HISENDA          400   \n",
       "19                                     RÈGIM INTERIOR          410   \n",
       "20                                     RÈGIM INTERIOR          411   \n",
       "21                                     RÈGIM INTERIOR          412   \n",
       "22                                     RÈGIM INTERIOR          413   \n",
       "23                                     RÈGIM INTERIOR          414   \n",
       "24                                            CULTURA          500   \n",
       "25                                            CULTURA          501   \n",
       "26                                            CULTURA          502   \n",
       "27                                            CULTURA          503   \n",
       "28                                            CULTURA          504   \n",
       "29                                            CULTURA          505   \n",
       "30                                            CULTURA          506   \n",
       "31                                            CULTURA          507   \n",
       "32                                            CULTURA          508   \n",
       "33        EDUCACIÓ, ESPORTS I SEGURETAT EN EL TREBALL          510   \n",
       "34        EDUCACIÓ, ESPORTS I SEGURETAT EN EL TREBALL          511   \n",
       "35        EDUCACIÓ, ESPORTS I SEGURETAT EN EL TREBALL          512   \n",
       "36  PROMOCIÓ ECONÒMICA DESENVOLUPAMENT LOCAL, TURI...          600   \n",
       "37  PROMOCIÓ ECONÒMICA DESENVOLUPAMENT LOCAL, TURI...          601   \n",
       "38  PROMOCIÓ ECONÒMICA DESENVOLUPAMENT LOCAL, TURI...          602   \n",
       "39  PROMOCIÓ ECONÒMICA DESENVOLUPAMENT LOCAL, TURI...          603   \n",
       "40  PROMOCIÓ ECONÒMICA DESENVOLUPAMENT LOCAL, TURI...          604   \n",
       "41  PROMOCIÓ ECONÒMICA DESENVOLUPAMENT LOCAL, TURI...          605   \n",
       "\n",
       "                             \\tDEPARTAMENT_descripció  \n",
       "0                                         PRESIDENCIA  \n",
       "1                   OFICINA DEFENSOR DE LA CIUTADANIA  \n",
       "2                                                UMAT  \n",
       "3             GESTIÓ DOCUMENTAL, ARXIU I PUBLICACIONS  \n",
       "4                                     SERVEIS SOCIALS  \n",
       "5                    SERVEIS SOCIALS ATENCIÓ PRIMÀRIA  \n",
       "6                      SERVEIS SOCIALS ESPECIALITZATS  \n",
       "7                                      CENTRES CÍVICS  \n",
       "8                                           HABITATGE  \n",
       "9                                          COOPERACIÓ  \n",
       "10                                SEGURETAT CIUTADANA  \n",
       "11                                              SALUT  \n",
       "12                             URBANISME I ACTIVITATS  \n",
       "13                            MOBILITAT I VIA PÚBLICA  \n",
       "14                                     SOSTENIBILITAT  \n",
       "15                PARCS I JARDINS, PROTECCIÓ DEL MEDI  \n",
       "16                                     SERVEIS URBANS  \n",
       "17         QUALITAT AMBIENTAL I PROTECCIÓ DE LA SALUT  \n",
       "18                                            HISENDA  \n",
       "19                                     RÈGIM INTERIOR  \n",
       "20                                          PATRIMONI  \n",
       "21                                    RECURSOS HUMANS  \n",
       "22  SERVEI DE SISTEMES I TECNOLOGIES DE LA INFORMACIÓ  \n",
       "23               REGISTRE GENERAL, ESTADÍSTICA I OIAC  \n",
       "24                                            CULTURA  \n",
       "25                                       BIBLIOTEQUES  \n",
       "26                         MUSEU D'HISTÒRIA DE GIRONA  \n",
       "27                                   TEATRE MUNICIPAL  \n",
       "28                                           LA MERCÈ  \n",
       "29                     BÒLIT- CENTRE ART CONTEMPORANI  \n",
       "30                                        ESPAI MARFÀ  \n",
       "31                         DINAMITZACIÓ DEL TERRITORI  \n",
       "32                                           JOVENTUT  \n",
       "33                                           EDUCACIÓ  \n",
       "34                                            ESPORTS  \n",
       "35                            SEGURETAT EN EL TREBALL  \n",
       "36                                 PROMOCIÓ ECONÒMICA  \n",
       "37                                            TURISME  \n",
       "38                                            EMPRESA  \n",
       "39                                             COMERÇ  \n",
       "40                        SERVEI MUNICIPAL D'OCUPACIÓ  \n",
       "41            OFICINA MUNICIPAL ATENCIÓ AL CONSUMIDOR  "
      ]
     },
     "execution_count": 3,
     "metadata": {},
     "output_type": "execute_result"
    }
   ],
   "source": [
    "descripcion23"
   ]
  },
  {
   "cell_type": "markdown",
   "id": "534ab0b2",
   "metadata": {},
   "source": [
    "## Turismo"
   ]
  },
  {
   "cell_type": "markdown",
   "id": "be69d55c",
   "metadata": {},
   "source": [
    "En este bloque vamos a ver las partidas relacionadas con el sector turístico. "
   ]
  },
  {
   "cell_type": "markdown",
   "id": "d275cc5a",
   "metadata": {},
   "source": [
    "Primero de todo, importamos los presupuestos disponibles (2015-2023) para poder analizarlos."
   ]
  },
  {
   "cell_type": "code",
   "execution_count": 4,
   "id": "0d145f76",
   "metadata": {},
   "outputs": [],
   "source": [
    "# Indicaremos el tipo de separación, decimal y millares.\n",
    "pres15 = pd.read_csv('../data/presupuesto2015.csv', sep = ';', decimal = ',', thousands = '.', encoding='latin-1')\n",
    "pres16 = pd.read_csv('../data/presupuesto2016.csv', sep = ';', decimal = ',', thousands = '.')\n",
    "pres17 = pd.read_csv('../data/presupuesto2017.csv', sep = ';', decimal = ',', thousands = '.')\n",
    "pres18 = pd.read_csv('../data/presupuesto2018.csv', sep = ';', decimal = ',', thousands = '.')\n",
    "pres19 = pd.read_csv('../data/presupuesto2019.csv', sep = ';', decimal = ',', thousands = '.')\n",
    "pres20 = pd.read_csv('../data/presupuesto2020.csv', sep = ';', decimal = ',', thousands = '.')\n",
    "pres21 = pd.read_csv('../data/presupuesto2021.csv', sep = ';', decimal = ',', thousands = '.')\n",
    "pres22 = pd.read_csv('../data/presupuesto2022.csv', sep = ';', decimal = ',', thousands = '.')\n",
    "pres23 = pd.read_csv('../data/presupuesto2023.csv', sep = ';', decimal = ',', thousands = '.')"
   ]
  },
  {
   "cell_type": "markdown",
   "id": "14d05bb2",
   "metadata": {},
   "source": [
    "Haremos un primer análisis del presupuesto de 2023 para luego aplicarlo a los demás presupuestos."
   ]
  },
  {
   "cell_type": "code",
   "execution_count": 5,
   "id": "1f3d1e55",
   "metadata": {},
   "outputs": [
    {
     "data": {
      "text/html": [
       "<div>\n",
       "<style scoped>\n",
       "    .dataframe tbody tr th:only-of-type {\n",
       "        vertical-align: middle;\n",
       "    }\n",
       "\n",
       "    .dataframe tbody tr th {\n",
       "        vertical-align: top;\n",
       "    }\n",
       "\n",
       "    .dataframe thead th {\n",
       "        text-align: right;\n",
       "    }\n",
       "</style>\n",
       "<table border=\"1\" class=\"dataframe\">\n",
       "  <thead>\n",
       "    <tr style=\"text-align: right;\">\n",
       "      <th></th>\n",
       "      <th>Orgànica</th>\n",
       "      <th>Programa</th>\n",
       "      <th>Econòmica</th>\n",
       "      <th>Descripció</th>\n",
       "      <th>Crèdits inicials</th>\n",
       "      <th>Modificacions de crèdit</th>\n",
       "      <th>Crèdits totals consignats</th>\n",
       "      <th>Obligacions reconegudes</th>\n",
       "    </tr>\n",
       "  </thead>\n",
       "  <tbody>\n",
       "    <tr>\n",
       "      <th>0</th>\n",
       "      <td>100</td>\n",
       "      <td>15210</td>\n",
       "      <td>22600</td>\n",
       "      <td>PACTE PER L'HABITATGE I PLA ESTRATÈGIC</td>\n",
       "      <td>30000.00</td>\n",
       "      <td>-23073.84</td>\n",
       "      <td>6926.16</td>\n",
       "      <td>751.32</td>\n",
       "    </tr>\n",
       "    <tr>\n",
       "      <th>1</th>\n",
       "      <td>100</td>\n",
       "      <td>49100</td>\n",
       "      <td>22600</td>\n",
       "      <td>DESPESES GESTIÓ RADIO MUNICIPAL</td>\n",
       "      <td>157583.60</td>\n",
       "      <td>105122.24</td>\n",
       "      <td>262705.84</td>\n",
       "      <td>51219.58</td>\n",
       "    </tr>\n",
       "    <tr>\n",
       "      <th>2</th>\n",
       "      <td>100</td>\n",
       "      <td>91210</td>\n",
       "      <td>10000</td>\n",
       "      <td>ÒRGANS DE GOVERN</td>\n",
       "      <td>405690.52</td>\n",
       "      <td>15770.23</td>\n",
       "      <td>421460.75</td>\n",
       "      <td>116755.92</td>\n",
       "    </tr>\n",
       "    <tr>\n",
       "      <th>3</th>\n",
       "      <td>100</td>\n",
       "      <td>91210</td>\n",
       "      <td>11000</td>\n",
       "      <td>P EVENTUAL PRESIDÈNCIA</td>\n",
       "      <td>570826.18</td>\n",
       "      <td>22727.29</td>\n",
       "      <td>593553.47</td>\n",
       "      <td>158927.24</td>\n",
       "    </tr>\n",
       "    <tr>\n",
       "      <th>4</th>\n",
       "      <td>100</td>\n",
       "      <td>91210</td>\n",
       "      <td>16000</td>\n",
       "      <td>QUOTES SOCIALS ÒRGANS DE GOVERN</td>\n",
       "      <td>263274.42</td>\n",
       "      <td>22473.47</td>\n",
       "      <td>285747.89</td>\n",
       "      <td>108787.13</td>\n",
       "    </tr>\n",
       "    <tr>\n",
       "      <th>...</th>\n",
       "      <td>...</td>\n",
       "      <td>...</td>\n",
       "      <td>...</td>\n",
       "      <td>...</td>\n",
       "      <td>...</td>\n",
       "      <td>...</td>\n",
       "      <td>...</td>\n",
       "      <td>...</td>\n",
       "    </tr>\n",
       "    <tr>\n",
       "      <th>1458</th>\n",
       "      <td>605</td>\n",
       "      <td>92500</td>\n",
       "      <td>12009</td>\n",
       "      <td>ATRES RETRIB. BÀSIQUES P.FUNCIONARI OMIC</td>\n",
       "      <td>1822.21</td>\n",
       "      <td>93.31</td>\n",
       "      <td>1915.52</td>\n",
       "      <td>0.00</td>\n",
       "    </tr>\n",
       "    <tr>\n",
       "      <th>1459</th>\n",
       "      <td>605</td>\n",
       "      <td>92500</td>\n",
       "      <td>12100</td>\n",
       "      <td>COMPLEMENT DESTINACIÓ OMIC</td>\n",
       "      <td>5291.44</td>\n",
       "      <td>335.48</td>\n",
       "      <td>5626.92</td>\n",
       "      <td>3173.44</td>\n",
       "    </tr>\n",
       "    <tr>\n",
       "      <th>1460</th>\n",
       "      <td>605</td>\n",
       "      <td>92500</td>\n",
       "      <td>12101</td>\n",
       "      <td>COMPLEMENT ESPECÍFIC FUNCIONARIS OMIC</td>\n",
       "      <td>5641.81</td>\n",
       "      <td>1707.86</td>\n",
       "      <td>7349.67</td>\n",
       "      <td>4683.98</td>\n",
       "    </tr>\n",
       "    <tr>\n",
       "      <th>1461</th>\n",
       "      <td>605</td>\n",
       "      <td>92500</td>\n",
       "      <td>13000</td>\n",
       "      <td>RETR.BAS.P.LABORAL OMIC</td>\n",
       "      <td>52965.96</td>\n",
       "      <td>898.92</td>\n",
       "      <td>53864.88</td>\n",
       "      <td>2481.34</td>\n",
       "    </tr>\n",
       "    <tr>\n",
       "      <th>1462</th>\n",
       "      <td>605</td>\n",
       "      <td>92500</td>\n",
       "      <td>16000</td>\n",
       "      <td>QUOTES SOCIALS OMIC</td>\n",
       "      <td>21177.51</td>\n",
       "      <td>419.20</td>\n",
       "      <td>21596.71</td>\n",
       "      <td>5088.88</td>\n",
       "    </tr>\n",
       "  </tbody>\n",
       "</table>\n",
       "<p>1463 rows × 8 columns</p>\n",
       "</div>"
      ],
      "text/plain": [
       "      Orgànica Programa  Econòmica                                Descripció  \\\n",
       "0          100    15210      22600    PACTE PER L'HABITATGE I PLA ESTRATÈGIC   \n",
       "1          100    49100      22600           DESPESES GESTIÓ RADIO MUNICIPAL   \n",
       "2          100    91210      10000                          ÒRGANS DE GOVERN   \n",
       "3          100    91210      11000                    P EVENTUAL PRESIDÈNCIA   \n",
       "4          100    91210      16000           QUOTES SOCIALS ÒRGANS DE GOVERN   \n",
       "...        ...      ...        ...                                       ...   \n",
       "1458       605    92500      12009  ATRES RETRIB. BÀSIQUES P.FUNCIONARI OMIC   \n",
       "1459       605    92500      12100                COMPLEMENT DESTINACIÓ OMIC   \n",
       "1460       605    92500      12101     COMPLEMENT ESPECÍFIC FUNCIONARIS OMIC   \n",
       "1461       605    92500      13000                   RETR.BAS.P.LABORAL OMIC   \n",
       "1462       605    92500      16000                       QUOTES SOCIALS OMIC   \n",
       "\n",
       "      Crèdits inicials  Modificacions de crèdit  Crèdits totals consignats  \\\n",
       "0             30000.00                -23073.84                    6926.16   \n",
       "1            157583.60                105122.24                  262705.84   \n",
       "2            405690.52                 15770.23                  421460.75   \n",
       "3            570826.18                 22727.29                  593553.47   \n",
       "4            263274.42                 22473.47                  285747.89   \n",
       "...                ...                      ...                        ...   \n",
       "1458           1822.21                    93.31                    1915.52   \n",
       "1459           5291.44                   335.48                    5626.92   \n",
       "1460           5641.81                  1707.86                    7349.67   \n",
       "1461          52965.96                   898.92                   53864.88   \n",
       "1462          21177.51                   419.20                   21596.71   \n",
       "\n",
       "      Obligacions reconegudes  \n",
       "0                      751.32  \n",
       "1                    51219.58  \n",
       "2                   116755.92  \n",
       "3                   158927.24  \n",
       "4                   108787.13  \n",
       "...                       ...  \n",
       "1458                     0.00  \n",
       "1459                  3173.44  \n",
       "1460                  4683.98  \n",
       "1461                  2481.34  \n",
       "1462                  5088.88  \n",
       "\n",
       "[1463 rows x 8 columns]"
      ]
     },
     "execution_count": 5,
     "metadata": {},
     "output_type": "execute_result"
    }
   ],
   "source": [
    "pres23"
   ]
  },
  {
   "cell_type": "markdown",
   "id": "375fb8b7",
   "metadata": {},
   "source": [
    "Echando un vistazo rápido observamos que esas partidas están recogidas en la columna *Orgànica* bajo los departamentos 600 (Promoción económica), 601 (Turismo) y 602 (Empresa). En estos departamentos se recogen actividades como la exposición *Temps de Flors*, el evento ciclista *Sea Otter Europe Costa Brava Girona* y gastos de personal, entre otros. "
   ]
  },
  {
   "cell_type": "code",
   "execution_count": 6,
   "id": "156d3654",
   "metadata": {},
   "outputs": [
    {
     "data": {
      "text/html": [
       "<div>\n",
       "<style scoped>\n",
       "    .dataframe tbody tr th:only-of-type {\n",
       "        vertical-align: middle;\n",
       "    }\n",
       "\n",
       "    .dataframe tbody tr th {\n",
       "        vertical-align: top;\n",
       "    }\n",
       "\n",
       "    .dataframe thead th {\n",
       "        text-align: right;\n",
       "    }\n",
       "</style>\n",
       "<table border=\"1\" class=\"dataframe\">\n",
       "  <thead>\n",
       "    <tr style=\"text-align: right;\">\n",
       "      <th></th>\n",
       "      <th>Orgànica</th>\n",
       "      <th>Programa</th>\n",
       "      <th>Econòmica</th>\n",
       "      <th>Descripció</th>\n",
       "      <th>Crèdits inicials</th>\n",
       "      <th>Modificacions de crèdit</th>\n",
       "      <th>Crèdits totals consignats</th>\n",
       "      <th>Obligacions reconegudes</th>\n",
       "    </tr>\n",
       "  </thead>\n",
       "  <tbody>\n",
       "    <tr>\n",
       "      <th>1304</th>\n",
       "      <td>601</td>\n",
       "      <td>43200</td>\n",
       "      <td>12001</td>\n",
       "      <td>SBASE PFUNCIONARI A2 TURISME</td>\n",
       "      <td>16392.88</td>\n",
       "      <td>1027.34</td>\n",
       "      <td>17420.22</td>\n",
       "      <td>4374.41</td>\n",
       "    </tr>\n",
       "    <tr>\n",
       "      <th>1305</th>\n",
       "      <td>601</td>\n",
       "      <td>43200</td>\n",
       "      <td>12003</td>\n",
       "      <td>RETR.BAS.P. FUNCIONARI C1 TURISME</td>\n",
       "      <td>11040.39</td>\n",
       "      <td>445.68</td>\n",
       "      <td>11486.07</td>\n",
       "      <td>2754.74</td>\n",
       "    </tr>\n",
       "    <tr>\n",
       "      <th>1306</th>\n",
       "      <td>601</td>\n",
       "      <td>43200</td>\n",
       "      <td>12004</td>\n",
       "      <td>RETRIB.BÀS. FUNCIONARI C2 TURISME</td>\n",
       "      <td>9358.08</td>\n",
       "      <td>992.91</td>\n",
       "      <td>10350.99</td>\n",
       "      <td>5467.16</td>\n",
       "    </tr>\n",
       "    <tr>\n",
       "      <th>1307</th>\n",
       "      <td>601</td>\n",
       "      <td>43200</td>\n",
       "      <td>12006</td>\n",
       "      <td>TRIENNIS P. FUNCIONARI TURISME</td>\n",
       "      <td>7933.41</td>\n",
       "      <td>404.84</td>\n",
       "      <td>8338.25</td>\n",
       "      <td>2285.31</td>\n",
       "    </tr>\n",
       "    <tr>\n",
       "      <th>1308</th>\n",
       "      <td>601</td>\n",
       "      <td>43200</td>\n",
       "      <td>12009</td>\n",
       "      <td>ALTRES RETRIBUCIONS BÀSIQUES P. FUNCIONARI TUR...</td>\n",
       "      <td>7281.01</td>\n",
       "      <td>301.19</td>\n",
       "      <td>7582.20</td>\n",
       "      <td>0.00</td>\n",
       "    </tr>\n",
       "    <tr>\n",
       "      <th>1309</th>\n",
       "      <td>601</td>\n",
       "      <td>43200</td>\n",
       "      <td>12100</td>\n",
       "      <td>COMPLEMENT DESTINACIÓ RETR.BAS.P. FUNCIONARI T...</td>\n",
       "      <td>17794.25</td>\n",
       "      <td>1187.57</td>\n",
       "      <td>18981.82</td>\n",
       "      <td>6862.46</td>\n",
       "    </tr>\n",
       "    <tr>\n",
       "      <th>1310</th>\n",
       "      <td>601</td>\n",
       "      <td>43200</td>\n",
       "      <td>12101</td>\n",
       "      <td>COMPLEMENT ESPECÍFIC RETR.BAS.P. FUNCIONARI TU...</td>\n",
       "      <td>25891.81</td>\n",
       "      <td>5731.02</td>\n",
       "      <td>31622.83</td>\n",
       "      <td>10361.92</td>\n",
       "    </tr>\n",
       "    <tr>\n",
       "      <th>1311</th>\n",
       "      <td>601</td>\n",
       "      <td>43200</td>\n",
       "      <td>12110</td>\n",
       "      <td>ALTRES COMPLEMENTS IT PFUNC.TURISME</td>\n",
       "      <td>0.00</td>\n",
       "      <td>0.00</td>\n",
       "      <td>0.00</td>\n",
       "      <td>1783.77</td>\n",
       "    </tr>\n",
       "    <tr>\n",
       "      <th>1312</th>\n",
       "      <td>601</td>\n",
       "      <td>43200</td>\n",
       "      <td>13000</td>\n",
       "      <td>RETR.BAS.P.LABORAL TURISME</td>\n",
       "      <td>129438.94</td>\n",
       "      <td>7039.74</td>\n",
       "      <td>136478.68</td>\n",
       "      <td>27349.44</td>\n",
       "    </tr>\n",
       "    <tr>\n",
       "      <th>1313</th>\n",
       "      <td>601</td>\n",
       "      <td>43200</td>\n",
       "      <td>15100</td>\n",
       "      <td>GRATIFICACIONS TURISME</td>\n",
       "      <td>3165.80</td>\n",
       "      <td>63.32</td>\n",
       "      <td>3229.12</td>\n",
       "      <td>253.52</td>\n",
       "    </tr>\n",
       "    <tr>\n",
       "      <th>1314</th>\n",
       "      <td>601</td>\n",
       "      <td>43200</td>\n",
       "      <td>15300</td>\n",
       "      <td>COMPLEMENT DEDICACIÓ ESPECIAL TURISME</td>\n",
       "      <td>4535.40</td>\n",
       "      <td>43.73</td>\n",
       "      <td>4579.13</td>\n",
       "      <td>1262.68</td>\n",
       "    </tr>\n",
       "    <tr>\n",
       "      <th>1315</th>\n",
       "      <td>601</td>\n",
       "      <td>43200</td>\n",
       "      <td>16000</td>\n",
       "      <td>QUOTES SOCIALS TURISME</td>\n",
       "      <td>61824.51</td>\n",
       "      <td>5209.89</td>\n",
       "      <td>67034.40</td>\n",
       "      <td>21481.77</td>\n",
       "    </tr>\n",
       "    <tr>\n",
       "      <th>1316</th>\n",
       "      <td>601</td>\n",
       "      <td>43200</td>\n",
       "      <td>22199</td>\n",
       "      <td>ALTRES SUBMINISTRAMENTS OFICINA DE TURISME</td>\n",
       "      <td>21185.00</td>\n",
       "      <td>-14332.92</td>\n",
       "      <td>6852.08</td>\n",
       "      <td>698.41</td>\n",
       "    </tr>\n",
       "    <tr>\n",
       "      <th>1317</th>\n",
       "      <td>601</td>\n",
       "      <td>43200</td>\n",
       "      <td>22615</td>\n",
       "      <td>FOMENT INDUSTRIA TURÍSTICA</td>\n",
       "      <td>177000.00</td>\n",
       "      <td>-56825.85</td>\n",
       "      <td>120174.15</td>\n",
       "      <td>0.00</td>\n",
       "    </tr>\n",
       "    <tr>\n",
       "      <th>1318</th>\n",
       "      <td>601</td>\n",
       "      <td>43200</td>\n",
       "      <td>22616</td>\n",
       "      <td>TURISME RESPONSABLE</td>\n",
       "      <td>25000.00</td>\n",
       "      <td>-20000.00</td>\n",
       "      <td>5000.00</td>\n",
       "      <td>0.00</td>\n",
       "    </tr>\n",
       "    <tr>\n",
       "      <th>1319</th>\n",
       "      <td>601</td>\n",
       "      <td>43200</td>\n",
       "      <td>22700</td>\n",
       "      <td>NETEJA OFICINES DE TURISME</td>\n",
       "      <td>18030.47</td>\n",
       "      <td>2492.17</td>\n",
       "      <td>20522.64</td>\n",
       "      <td>4867.37</td>\n",
       "    </tr>\n",
       "    <tr>\n",
       "      <th>1320</th>\n",
       "      <td>601</td>\n",
       "      <td>43200</td>\n",
       "      <td>22712</td>\n",
       "      <td>CONVENIS PRÀCTIQUES OFICINA TURISME</td>\n",
       "      <td>2000.00</td>\n",
       "      <td>0.00</td>\n",
       "      <td>2000.00</td>\n",
       "      <td>0.00</td>\n",
       "    </tr>\n",
       "    <tr>\n",
       "      <th>1321</th>\n",
       "      <td>601</td>\n",
       "      <td>43210</td>\n",
       "      <td>22100</td>\n",
       "      <td>SUBM. ENERGIA ELÈCTRICA PUNT DE BENVINGUDA</td>\n",
       "      <td>1284.47</td>\n",
       "      <td>875.11</td>\n",
       "      <td>2159.58</td>\n",
       "      <td>325.78</td>\n",
       "    </tr>\n",
       "    <tr>\n",
       "      <th>1322</th>\n",
       "      <td>601</td>\n",
       "      <td>43210</td>\n",
       "      <td>22612</td>\n",
       "      <td>MÀRKETING TERRITORIAL</td>\n",
       "      <td>23730.00</td>\n",
       "      <td>-22709.60</td>\n",
       "      <td>1020.40</td>\n",
       "      <td>0.00</td>\n",
       "    </tr>\n",
       "    <tr>\n",
       "      <th>1323</th>\n",
       "      <td>601</td>\n",
       "      <td>43210</td>\n",
       "      <td>22711</td>\n",
       "      <td>GESTIÓ PUNT BENVINGUDA</td>\n",
       "      <td>20000.00</td>\n",
       "      <td>0.00</td>\n",
       "      <td>20000.00</td>\n",
       "      <td>0.00</td>\n",
       "    </tr>\n",
       "    <tr>\n",
       "      <th>1324</th>\n",
       "      <td>601</td>\n",
       "      <td>43220</td>\n",
       "      <td>48002</td>\n",
       "      <td>FIRA DE GIRONA</td>\n",
       "      <td>95000.00</td>\n",
       "      <td>0.00</td>\n",
       "      <td>95000.00</td>\n",
       "      <td>0.00</td>\n",
       "    </tr>\n",
       "    <tr>\n",
       "      <th>1325</th>\n",
       "      <td>601</td>\n",
       "      <td>43220</td>\n",
       "      <td>22614</td>\n",
       "      <td>PROMOCIÓ I DIFUSIÓ TURÍSTICA</td>\n",
       "      <td>109495.00</td>\n",
       "      <td>-584.48</td>\n",
       "      <td>108910.52</td>\n",
       "      <td>36506.97</td>\n",
       "    </tr>\n",
       "    <tr>\n",
       "      <th>1326</th>\n",
       "      <td>601</td>\n",
       "      <td>43220</td>\n",
       "      <td>48001</td>\n",
       "      <td>CONVENIS TURISME</td>\n",
       "      <td>55000.00</td>\n",
       "      <td>83000.00</td>\n",
       "      <td>138000.00</td>\n",
       "      <td>55240.00</td>\n",
       "    </tr>\n",
       "  </tbody>\n",
       "</table>\n",
       "</div>"
      ],
      "text/plain": [
       "      Orgànica Programa  Econòmica  \\\n",
       "1304       601    43200      12001   \n",
       "1305       601    43200      12003   \n",
       "1306       601    43200      12004   \n",
       "1307       601    43200      12006   \n",
       "1308       601    43200      12009   \n",
       "1309       601    43200      12100   \n",
       "1310       601    43200      12101   \n",
       "1311       601    43200      12110   \n",
       "1312       601    43200      13000   \n",
       "1313       601    43200      15100   \n",
       "1314       601    43200      15300   \n",
       "1315       601    43200      16000   \n",
       "1316       601    43200      22199   \n",
       "1317       601    43200      22615   \n",
       "1318       601    43200      22616   \n",
       "1319       601    43200      22700   \n",
       "1320       601    43200      22712   \n",
       "1321       601    43210      22100   \n",
       "1322       601    43210      22612   \n",
       "1323       601    43210      22711   \n",
       "1324       601    43220      48002   \n",
       "1325       601    43220      22614   \n",
       "1326       601    43220      48001   \n",
       "\n",
       "                                             Descripció  Crèdits inicials  \\\n",
       "1304                       SBASE PFUNCIONARI A2 TURISME          16392.88   \n",
       "1305                  RETR.BAS.P. FUNCIONARI C1 TURISME          11040.39   \n",
       "1306                  RETRIB.BÀS. FUNCIONARI C2 TURISME           9358.08   \n",
       "1307                     TRIENNIS P. FUNCIONARI TURISME           7933.41   \n",
       "1308  ALTRES RETRIBUCIONS BÀSIQUES P. FUNCIONARI TUR...           7281.01   \n",
       "1309  COMPLEMENT DESTINACIÓ RETR.BAS.P. FUNCIONARI T...          17794.25   \n",
       "1310  COMPLEMENT ESPECÍFIC RETR.BAS.P. FUNCIONARI TU...          25891.81   \n",
       "1311                ALTRES COMPLEMENTS IT PFUNC.TURISME              0.00   \n",
       "1312                         RETR.BAS.P.LABORAL TURISME         129438.94   \n",
       "1313                             GRATIFICACIONS TURISME           3165.80   \n",
       "1314              COMPLEMENT DEDICACIÓ ESPECIAL TURISME           4535.40   \n",
       "1315                             QUOTES SOCIALS TURISME          61824.51   \n",
       "1316         ALTRES SUBMINISTRAMENTS OFICINA DE TURISME          21185.00   \n",
       "1317                         FOMENT INDUSTRIA TURÍSTICA         177000.00   \n",
       "1318                                TURISME RESPONSABLE          25000.00   \n",
       "1319                         NETEJA OFICINES DE TURISME          18030.47   \n",
       "1320                CONVENIS PRÀCTIQUES OFICINA TURISME           2000.00   \n",
       "1321         SUBM. ENERGIA ELÈCTRICA PUNT DE BENVINGUDA           1284.47   \n",
       "1322                              MÀRKETING TERRITORIAL          23730.00   \n",
       "1323                             GESTIÓ PUNT BENVINGUDA          20000.00   \n",
       "1324                                     FIRA DE GIRONA          95000.00   \n",
       "1325                       PROMOCIÓ I DIFUSIÓ TURÍSTICA         109495.00   \n",
       "1326                                   CONVENIS TURISME          55000.00   \n",
       "\n",
       "      Modificacions de crèdit  Crèdits totals consignats  \\\n",
       "1304                  1027.34                   17420.22   \n",
       "1305                   445.68                   11486.07   \n",
       "1306                   992.91                   10350.99   \n",
       "1307                   404.84                    8338.25   \n",
       "1308                   301.19                    7582.20   \n",
       "1309                  1187.57                   18981.82   \n",
       "1310                  5731.02                   31622.83   \n",
       "1311                     0.00                       0.00   \n",
       "1312                  7039.74                  136478.68   \n",
       "1313                    63.32                    3229.12   \n",
       "1314                    43.73                    4579.13   \n",
       "1315                  5209.89                   67034.40   \n",
       "1316                -14332.92                    6852.08   \n",
       "1317                -56825.85                  120174.15   \n",
       "1318                -20000.00                    5000.00   \n",
       "1319                  2492.17                   20522.64   \n",
       "1320                     0.00                    2000.00   \n",
       "1321                   875.11                    2159.58   \n",
       "1322                -22709.60                    1020.40   \n",
       "1323                     0.00                   20000.00   \n",
       "1324                     0.00                   95000.00   \n",
       "1325                  -584.48                  108910.52   \n",
       "1326                 83000.00                  138000.00   \n",
       "\n",
       "      Obligacions reconegudes  \n",
       "1304                  4374.41  \n",
       "1305                  2754.74  \n",
       "1306                  5467.16  \n",
       "1307                  2285.31  \n",
       "1308                     0.00  \n",
       "1309                  6862.46  \n",
       "1310                 10361.92  \n",
       "1311                  1783.77  \n",
       "1312                 27349.44  \n",
       "1313                   253.52  \n",
       "1314                  1262.68  \n",
       "1315                 21481.77  \n",
       "1316                   698.41  \n",
       "1317                     0.00  \n",
       "1318                     0.00  \n",
       "1319                  4867.37  \n",
       "1320                     0.00  \n",
       "1321                   325.78  \n",
       "1322                     0.00  \n",
       "1323                     0.00  \n",
       "1324                     0.00  \n",
       "1325                 36506.97  \n",
       "1326                 55240.00  "
      ]
     },
     "execution_count": 6,
     "metadata": {},
     "output_type": "execute_result"
    }
   ],
   "source": [
    "pres23[pres23['Orgànica'] == 601]"
   ]
  },
  {
   "cell_type": "markdown",
   "id": "7f4f3521",
   "metadata": {},
   "source": [
    "En el código anterior, si cambiamos el 601 (Turismo), por 600 (Promoción económica),  602 (Empresa) y 603 (Comercio), podemos ver las partidas que corresponden a cada departamento.\n",
    "En el siguiente bloque de código ordenamos la tabla por *Crèdits totals consignats*, créditos totales consignados en catalán, que es la suma de los créditos iniciales (*Crèdits inicials*) y las modificaciones de créditos (*Modificacions de crèdit*) asignadas a cada partida presupuestaria."
   ]
  },
  {
   "cell_type": "code",
   "execution_count": 7,
   "id": "c5d14a8f",
   "metadata": {
    "scrolled": false
   },
   "outputs": [
    {
     "data": {
      "text/html": [
       "<div>\n",
       "<style scoped>\n",
       "    .dataframe tbody tr th:only-of-type {\n",
       "        vertical-align: middle;\n",
       "    }\n",
       "\n",
       "    .dataframe tbody tr th {\n",
       "        vertical-align: top;\n",
       "    }\n",
       "\n",
       "    .dataframe thead th {\n",
       "        text-align: right;\n",
       "    }\n",
       "</style>\n",
       "<table border=\"1\" class=\"dataframe\">\n",
       "  <thead>\n",
       "    <tr style=\"text-align: right;\">\n",
       "      <th></th>\n",
       "      <th>Orgànica</th>\n",
       "      <th>Programa</th>\n",
       "      <th>Econòmica</th>\n",
       "      <th>Descripció</th>\n",
       "      <th>Crèdits inicials</th>\n",
       "      <th>Modificacions de crèdit</th>\n",
       "      <th>Crèdits totals consignats</th>\n",
       "      <th>Obligacions reconegudes</th>\n",
       "    </tr>\n",
       "  </thead>\n",
       "  <tbody>\n",
       "    <tr>\n",
       "      <th>1326</th>\n",
       "      <td>601</td>\n",
       "      <td>43220</td>\n",
       "      <td>48001</td>\n",
       "      <td>CONVENIS TURISME</td>\n",
       "      <td>55000.00</td>\n",
       "      <td>83000.00</td>\n",
       "      <td>138000.00</td>\n",
       "      <td>55240.00</td>\n",
       "    </tr>\n",
       "    <tr>\n",
       "      <th>1312</th>\n",
       "      <td>601</td>\n",
       "      <td>43200</td>\n",
       "      <td>13000</td>\n",
       "      <td>RETR.BAS.P.LABORAL TURISME</td>\n",
       "      <td>129438.94</td>\n",
       "      <td>7039.74</td>\n",
       "      <td>136478.68</td>\n",
       "      <td>27349.44</td>\n",
       "    </tr>\n",
       "    <tr>\n",
       "      <th>1317</th>\n",
       "      <td>601</td>\n",
       "      <td>43200</td>\n",
       "      <td>22615</td>\n",
       "      <td>FOMENT INDUSTRIA TURÍSTICA</td>\n",
       "      <td>177000.00</td>\n",
       "      <td>-56825.85</td>\n",
       "      <td>120174.15</td>\n",
       "      <td>0.00</td>\n",
       "    </tr>\n",
       "    <tr>\n",
       "      <th>1325</th>\n",
       "      <td>601</td>\n",
       "      <td>43220</td>\n",
       "      <td>22614</td>\n",
       "      <td>PROMOCIÓ I DIFUSIÓ TURÍSTICA</td>\n",
       "      <td>109495.00</td>\n",
       "      <td>-584.48</td>\n",
       "      <td>108910.52</td>\n",
       "      <td>36506.97</td>\n",
       "    </tr>\n",
       "    <tr>\n",
       "      <th>1324</th>\n",
       "      <td>601</td>\n",
       "      <td>43220</td>\n",
       "      <td>48002</td>\n",
       "      <td>FIRA DE GIRONA</td>\n",
       "      <td>95000.00</td>\n",
       "      <td>0.00</td>\n",
       "      <td>95000.00</td>\n",
       "      <td>0.00</td>\n",
       "    </tr>\n",
       "    <tr>\n",
       "      <th>1315</th>\n",
       "      <td>601</td>\n",
       "      <td>43200</td>\n",
       "      <td>16000</td>\n",
       "      <td>QUOTES SOCIALS TURISME</td>\n",
       "      <td>61824.51</td>\n",
       "      <td>5209.89</td>\n",
       "      <td>67034.40</td>\n",
       "      <td>21481.77</td>\n",
       "    </tr>\n",
       "    <tr>\n",
       "      <th>1310</th>\n",
       "      <td>601</td>\n",
       "      <td>43200</td>\n",
       "      <td>12101</td>\n",
       "      <td>COMPLEMENT ESPECÍFIC RETR.BAS.P. FUNCIONARI TU...</td>\n",
       "      <td>25891.81</td>\n",
       "      <td>5731.02</td>\n",
       "      <td>31622.83</td>\n",
       "      <td>10361.92</td>\n",
       "    </tr>\n",
       "    <tr>\n",
       "      <th>1319</th>\n",
       "      <td>601</td>\n",
       "      <td>43200</td>\n",
       "      <td>22700</td>\n",
       "      <td>NETEJA OFICINES DE TURISME</td>\n",
       "      <td>18030.47</td>\n",
       "      <td>2492.17</td>\n",
       "      <td>20522.64</td>\n",
       "      <td>4867.37</td>\n",
       "    </tr>\n",
       "    <tr>\n",
       "      <th>1323</th>\n",
       "      <td>601</td>\n",
       "      <td>43210</td>\n",
       "      <td>22711</td>\n",
       "      <td>GESTIÓ PUNT BENVINGUDA</td>\n",
       "      <td>20000.00</td>\n",
       "      <td>0.00</td>\n",
       "      <td>20000.00</td>\n",
       "      <td>0.00</td>\n",
       "    </tr>\n",
       "    <tr>\n",
       "      <th>1309</th>\n",
       "      <td>601</td>\n",
       "      <td>43200</td>\n",
       "      <td>12100</td>\n",
       "      <td>COMPLEMENT DESTINACIÓ RETR.BAS.P. FUNCIONARI T...</td>\n",
       "      <td>17794.25</td>\n",
       "      <td>1187.57</td>\n",
       "      <td>18981.82</td>\n",
       "      <td>6862.46</td>\n",
       "    </tr>\n",
       "    <tr>\n",
       "      <th>1304</th>\n",
       "      <td>601</td>\n",
       "      <td>43200</td>\n",
       "      <td>12001</td>\n",
       "      <td>SBASE PFUNCIONARI A2 TURISME</td>\n",
       "      <td>16392.88</td>\n",
       "      <td>1027.34</td>\n",
       "      <td>17420.22</td>\n",
       "      <td>4374.41</td>\n",
       "    </tr>\n",
       "    <tr>\n",
       "      <th>1305</th>\n",
       "      <td>601</td>\n",
       "      <td>43200</td>\n",
       "      <td>12003</td>\n",
       "      <td>RETR.BAS.P. FUNCIONARI C1 TURISME</td>\n",
       "      <td>11040.39</td>\n",
       "      <td>445.68</td>\n",
       "      <td>11486.07</td>\n",
       "      <td>2754.74</td>\n",
       "    </tr>\n",
       "    <tr>\n",
       "      <th>1306</th>\n",
       "      <td>601</td>\n",
       "      <td>43200</td>\n",
       "      <td>12004</td>\n",
       "      <td>RETRIB.BÀS. FUNCIONARI C2 TURISME</td>\n",
       "      <td>9358.08</td>\n",
       "      <td>992.91</td>\n",
       "      <td>10350.99</td>\n",
       "      <td>5467.16</td>\n",
       "    </tr>\n",
       "    <tr>\n",
       "      <th>1307</th>\n",
       "      <td>601</td>\n",
       "      <td>43200</td>\n",
       "      <td>12006</td>\n",
       "      <td>TRIENNIS P. FUNCIONARI TURISME</td>\n",
       "      <td>7933.41</td>\n",
       "      <td>404.84</td>\n",
       "      <td>8338.25</td>\n",
       "      <td>2285.31</td>\n",
       "    </tr>\n",
       "    <tr>\n",
       "      <th>1308</th>\n",
       "      <td>601</td>\n",
       "      <td>43200</td>\n",
       "      <td>12009</td>\n",
       "      <td>ALTRES RETRIBUCIONS BÀSIQUES P. FUNCIONARI TUR...</td>\n",
       "      <td>7281.01</td>\n",
       "      <td>301.19</td>\n",
       "      <td>7582.20</td>\n",
       "      <td>0.00</td>\n",
       "    </tr>\n",
       "    <tr>\n",
       "      <th>1316</th>\n",
       "      <td>601</td>\n",
       "      <td>43200</td>\n",
       "      <td>22199</td>\n",
       "      <td>ALTRES SUBMINISTRAMENTS OFICINA DE TURISME</td>\n",
       "      <td>21185.00</td>\n",
       "      <td>-14332.92</td>\n",
       "      <td>6852.08</td>\n",
       "      <td>698.41</td>\n",
       "    </tr>\n",
       "    <tr>\n",
       "      <th>1318</th>\n",
       "      <td>601</td>\n",
       "      <td>43200</td>\n",
       "      <td>22616</td>\n",
       "      <td>TURISME RESPONSABLE</td>\n",
       "      <td>25000.00</td>\n",
       "      <td>-20000.00</td>\n",
       "      <td>5000.00</td>\n",
       "      <td>0.00</td>\n",
       "    </tr>\n",
       "    <tr>\n",
       "      <th>1314</th>\n",
       "      <td>601</td>\n",
       "      <td>43200</td>\n",
       "      <td>15300</td>\n",
       "      <td>COMPLEMENT DEDICACIÓ ESPECIAL TURISME</td>\n",
       "      <td>4535.40</td>\n",
       "      <td>43.73</td>\n",
       "      <td>4579.13</td>\n",
       "      <td>1262.68</td>\n",
       "    </tr>\n",
       "    <tr>\n",
       "      <th>1313</th>\n",
       "      <td>601</td>\n",
       "      <td>43200</td>\n",
       "      <td>15100</td>\n",
       "      <td>GRATIFICACIONS TURISME</td>\n",
       "      <td>3165.80</td>\n",
       "      <td>63.32</td>\n",
       "      <td>3229.12</td>\n",
       "      <td>253.52</td>\n",
       "    </tr>\n",
       "    <tr>\n",
       "      <th>1321</th>\n",
       "      <td>601</td>\n",
       "      <td>43210</td>\n",
       "      <td>22100</td>\n",
       "      <td>SUBM. ENERGIA ELÈCTRICA PUNT DE BENVINGUDA</td>\n",
       "      <td>1284.47</td>\n",
       "      <td>875.11</td>\n",
       "      <td>2159.58</td>\n",
       "      <td>325.78</td>\n",
       "    </tr>\n",
       "    <tr>\n",
       "      <th>1320</th>\n",
       "      <td>601</td>\n",
       "      <td>43200</td>\n",
       "      <td>22712</td>\n",
       "      <td>CONVENIS PRÀCTIQUES OFICINA TURISME</td>\n",
       "      <td>2000.00</td>\n",
       "      <td>0.00</td>\n",
       "      <td>2000.00</td>\n",
       "      <td>0.00</td>\n",
       "    </tr>\n",
       "    <tr>\n",
       "      <th>1322</th>\n",
       "      <td>601</td>\n",
       "      <td>43210</td>\n",
       "      <td>22612</td>\n",
       "      <td>MÀRKETING TERRITORIAL</td>\n",
       "      <td>23730.00</td>\n",
       "      <td>-22709.60</td>\n",
       "      <td>1020.40</td>\n",
       "      <td>0.00</td>\n",
       "    </tr>\n",
       "    <tr>\n",
       "      <th>1311</th>\n",
       "      <td>601</td>\n",
       "      <td>43200</td>\n",
       "      <td>12110</td>\n",
       "      <td>ALTRES COMPLEMENTS IT PFUNC.TURISME</td>\n",
       "      <td>0.00</td>\n",
       "      <td>0.00</td>\n",
       "      <td>0.00</td>\n",
       "      <td>1783.77</td>\n",
       "    </tr>\n",
       "  </tbody>\n",
       "</table>\n",
       "</div>"
      ],
      "text/plain": [
       "      Orgànica Programa  Econòmica  \\\n",
       "1326       601    43220      48001   \n",
       "1312       601    43200      13000   \n",
       "1317       601    43200      22615   \n",
       "1325       601    43220      22614   \n",
       "1324       601    43220      48002   \n",
       "1315       601    43200      16000   \n",
       "1310       601    43200      12101   \n",
       "1319       601    43200      22700   \n",
       "1323       601    43210      22711   \n",
       "1309       601    43200      12100   \n",
       "1304       601    43200      12001   \n",
       "1305       601    43200      12003   \n",
       "1306       601    43200      12004   \n",
       "1307       601    43200      12006   \n",
       "1308       601    43200      12009   \n",
       "1316       601    43200      22199   \n",
       "1318       601    43200      22616   \n",
       "1314       601    43200      15300   \n",
       "1313       601    43200      15100   \n",
       "1321       601    43210      22100   \n",
       "1320       601    43200      22712   \n",
       "1322       601    43210      22612   \n",
       "1311       601    43200      12110   \n",
       "\n",
       "                                             Descripció  Crèdits inicials  \\\n",
       "1326                                   CONVENIS TURISME          55000.00   \n",
       "1312                         RETR.BAS.P.LABORAL TURISME         129438.94   \n",
       "1317                         FOMENT INDUSTRIA TURÍSTICA         177000.00   \n",
       "1325                       PROMOCIÓ I DIFUSIÓ TURÍSTICA         109495.00   \n",
       "1324                                     FIRA DE GIRONA          95000.00   \n",
       "1315                             QUOTES SOCIALS TURISME          61824.51   \n",
       "1310  COMPLEMENT ESPECÍFIC RETR.BAS.P. FUNCIONARI TU...          25891.81   \n",
       "1319                         NETEJA OFICINES DE TURISME          18030.47   \n",
       "1323                             GESTIÓ PUNT BENVINGUDA          20000.00   \n",
       "1309  COMPLEMENT DESTINACIÓ RETR.BAS.P. FUNCIONARI T...          17794.25   \n",
       "1304                       SBASE PFUNCIONARI A2 TURISME          16392.88   \n",
       "1305                  RETR.BAS.P. FUNCIONARI C1 TURISME          11040.39   \n",
       "1306                  RETRIB.BÀS. FUNCIONARI C2 TURISME           9358.08   \n",
       "1307                     TRIENNIS P. FUNCIONARI TURISME           7933.41   \n",
       "1308  ALTRES RETRIBUCIONS BÀSIQUES P. FUNCIONARI TUR...           7281.01   \n",
       "1316         ALTRES SUBMINISTRAMENTS OFICINA DE TURISME          21185.00   \n",
       "1318                                TURISME RESPONSABLE          25000.00   \n",
       "1314              COMPLEMENT DEDICACIÓ ESPECIAL TURISME           4535.40   \n",
       "1313                             GRATIFICACIONS TURISME           3165.80   \n",
       "1321         SUBM. ENERGIA ELÈCTRICA PUNT DE BENVINGUDA           1284.47   \n",
       "1320                CONVENIS PRÀCTIQUES OFICINA TURISME           2000.00   \n",
       "1322                              MÀRKETING TERRITORIAL          23730.00   \n",
       "1311                ALTRES COMPLEMENTS IT PFUNC.TURISME              0.00   \n",
       "\n",
       "      Modificacions de crèdit  Crèdits totals consignats  \\\n",
       "1326                 83000.00                  138000.00   \n",
       "1312                  7039.74                  136478.68   \n",
       "1317                -56825.85                  120174.15   \n",
       "1325                  -584.48                  108910.52   \n",
       "1324                     0.00                   95000.00   \n",
       "1315                  5209.89                   67034.40   \n",
       "1310                  5731.02                   31622.83   \n",
       "1319                  2492.17                   20522.64   \n",
       "1323                     0.00                   20000.00   \n",
       "1309                  1187.57                   18981.82   \n",
       "1304                  1027.34                   17420.22   \n",
       "1305                   445.68                   11486.07   \n",
       "1306                   992.91                   10350.99   \n",
       "1307                   404.84                    8338.25   \n",
       "1308                   301.19                    7582.20   \n",
       "1316                -14332.92                    6852.08   \n",
       "1318                -20000.00                    5000.00   \n",
       "1314                    43.73                    4579.13   \n",
       "1313                    63.32                    3229.12   \n",
       "1321                   875.11                    2159.58   \n",
       "1320                     0.00                    2000.00   \n",
       "1322                -22709.60                    1020.40   \n",
       "1311                     0.00                       0.00   \n",
       "\n",
       "      Obligacions reconegudes  \n",
       "1326                 55240.00  \n",
       "1312                 27349.44  \n",
       "1317                     0.00  \n",
       "1325                 36506.97  \n",
       "1324                     0.00  \n",
       "1315                 21481.77  \n",
       "1310                 10361.92  \n",
       "1319                  4867.37  \n",
       "1323                     0.00  \n",
       "1309                  6862.46  \n",
       "1304                  4374.41  \n",
       "1305                  2754.74  \n",
       "1306                  5467.16  \n",
       "1307                  2285.31  \n",
       "1308                     0.00  \n",
       "1316                   698.41  \n",
       "1318                     0.00  \n",
       "1314                  1262.68  \n",
       "1313                   253.52  \n",
       "1321                   325.78  \n",
       "1320                     0.00  \n",
       "1322                     0.00  \n",
       "1311                  1783.77  "
      ]
     },
     "execution_count": 7,
     "metadata": {},
     "output_type": "execute_result"
    }
   ],
   "source": [
    "pres23[pres23['Orgànica'] == 601].sort_values(by=\"Crèdits totals consignats\", ascending = False)"
   ]
  },
  {
   "cell_type": "markdown",
   "id": "52ac66ba",
   "metadata": {},
   "source": [
    "Creamos una nueva tabla donde solo agruparemos los departamentos que nos interesan, los relacionados con la promoción económica de la ciudad y el turismo."
   ]
  },
  {
   "cell_type": "code",
   "execution_count": 8,
   "id": "28a20d48",
   "metadata": {},
   "outputs": [],
   "source": [
    "turismo23 = pres23[(pres23['Orgànica'] == 600) | (pres23['Orgànica'] == 601) | (pres23['Orgànica'] == 602)]"
   ]
  },
  {
   "cell_type": "code",
   "execution_count": 9,
   "id": "5f3be247",
   "metadata": {},
   "outputs": [
    {
     "data": {
      "text/html": [
       "<div>\n",
       "<style scoped>\n",
       "    .dataframe tbody tr th:only-of-type {\n",
       "        vertical-align: middle;\n",
       "    }\n",
       "\n",
       "    .dataframe tbody tr th {\n",
       "        vertical-align: top;\n",
       "    }\n",
       "\n",
       "    .dataframe thead th {\n",
       "        text-align: right;\n",
       "    }\n",
       "</style>\n",
       "<table border=\"1\" class=\"dataframe\">\n",
       "  <thead>\n",
       "    <tr style=\"text-align: right;\">\n",
       "      <th></th>\n",
       "      <th>Orgànica</th>\n",
       "      <th>Programa</th>\n",
       "      <th>Econòmica</th>\n",
       "      <th>Descripció</th>\n",
       "      <th>Crèdits inicials</th>\n",
       "      <th>Modificacions de crèdit</th>\n",
       "      <th>Crèdits totals consignats</th>\n",
       "      <th>Obligacions reconegudes</th>\n",
       "    </tr>\n",
       "  </thead>\n",
       "  <tbody>\n",
       "    <tr>\n",
       "      <th>1251</th>\n",
       "      <td>600</td>\n",
       "      <td>1500F</td>\n",
       "      <td>61900</td>\n",
       "      <td>EFICIÈNCIA ENERGÈTICA E3 - INVERSIONS</td>\n",
       "      <td>0.00</td>\n",
       "      <td>965181.84</td>\n",
       "      <td>965181.84</td>\n",
       "      <td>0.00</td>\n",
       "    </tr>\n",
       "    <tr>\n",
       "      <th>1252</th>\n",
       "      <td>600</td>\n",
       "      <td>1550F</td>\n",
       "      <td>60900</td>\n",
       "      <td>TRANSICIÓ VERDA SOSTENIBLE E1 - INVERSIONS</td>\n",
       "      <td>0.00</td>\n",
       "      <td>1007679.00</td>\n",
       "      <td>1007679.00</td>\n",
       "      <td>0.00</td>\n",
       "    </tr>\n",
       "    <tr>\n",
       "      <th>1253</th>\n",
       "      <td>600</td>\n",
       "      <td>1550F</td>\n",
       "      <td>60901</td>\n",
       "      <td>TRANSICIÓ VERDA SOSTENIBLE E2 - INVERSIONS</td>\n",
       "      <td>0.00</td>\n",
       "      <td>508992.50</td>\n",
       "      <td>508992.50</td>\n",
       "      <td>0.00</td>\n",
       "    </tr>\n",
       "    <tr>\n",
       "      <th>1254</th>\n",
       "      <td>600</td>\n",
       "      <td>1550F</td>\n",
       "      <td>60902</td>\n",
       "      <td>COMPETITIVITAT E2 - INVERSIONS</td>\n",
       "      <td>0.00</td>\n",
       "      <td>24200.00</td>\n",
       "      <td>24200.00</td>\n",
       "      <td>0.00</td>\n",
       "    </tr>\n",
       "    <tr>\n",
       "      <th>1255</th>\n",
       "      <td>600</td>\n",
       "      <td>1550F</td>\n",
       "      <td>60903</td>\n",
       "      <td>COMPETITIVITAT E3 - INVERSIONS</td>\n",
       "      <td>0.00</td>\n",
       "      <td>174000.01</td>\n",
       "      <td>174000.01</td>\n",
       "      <td>0.00</td>\n",
       "    </tr>\n",
       "    <tr>\n",
       "      <th>...</th>\n",
       "      <td>...</td>\n",
       "      <td>...</td>\n",
       "      <td>...</td>\n",
       "      <td>...</td>\n",
       "      <td>...</td>\n",
       "      <td>...</td>\n",
       "      <td>...</td>\n",
       "      <td>...</td>\n",
       "    </tr>\n",
       "    <tr>\n",
       "      <th>1341</th>\n",
       "      <td>602</td>\n",
       "      <td>43300</td>\n",
       "      <td>22618</td>\n",
       "      <td>PROGRAMA EMPRÈN CAT. ENFORTIMENT. EXP.SEC039/2...</td>\n",
       "      <td>0.00</td>\n",
       "      <td>11479.85</td>\n",
       "      <td>11479.85</td>\n",
       "      <td>814.32</td>\n",
       "    </tr>\n",
       "    <tr>\n",
       "      <th>1342</th>\n",
       "      <td>602</td>\n",
       "      <td>43300</td>\n",
       "      <td>22700</td>\n",
       "      <td>NETEJA EQUIPAMENTS PROMOCIÓ</td>\n",
       "      <td>9159.15</td>\n",
       "      <td>1567.10</td>\n",
       "      <td>10726.25</td>\n",
       "      <td>2926.00</td>\n",
       "    </tr>\n",
       "    <tr>\n",
       "      <th>1343</th>\n",
       "      <td>602</td>\n",
       "      <td>43300</td>\n",
       "      <td>22710</td>\n",
       "      <td>COFINANÇAMENT INICIA</td>\n",
       "      <td>30000.00</td>\n",
       "      <td>-29111.90</td>\n",
       "      <td>888.10</td>\n",
       "      <td>871.20</td>\n",
       "    </tr>\n",
       "    <tr>\n",
       "      <th>1344</th>\n",
       "      <td>602</td>\n",
       "      <td>43300</td>\n",
       "      <td>48001</td>\n",
       "      <td>FOMENT NOVES TECNOLOGIES</td>\n",
       "      <td>25500.00</td>\n",
       "      <td>-3750.00</td>\n",
       "      <td>21750.00</td>\n",
       "      <td>0.00</td>\n",
       "    </tr>\n",
       "    <tr>\n",
       "      <th>1345</th>\n",
       "      <td>602</td>\n",
       "      <td>43300</td>\n",
       "      <td>48002</td>\n",
       "      <td>BIKE SHOW SPORT EVENTS SL - SEA OTTER</td>\n",
       "      <td>30000.00</td>\n",
       "      <td>15000.00</td>\n",
       "      <td>45000.00</td>\n",
       "      <td>45000.00</td>\n",
       "    </tr>\n",
       "  </tbody>\n",
       "</table>\n",
       "<p>95 rows × 8 columns</p>\n",
       "</div>"
      ],
      "text/plain": [
       "      Orgànica Programa  Econòmica  \\\n",
       "1251       600    1500F      61900   \n",
       "1252       600    1550F      60900   \n",
       "1253       600    1550F      60901   \n",
       "1254       600    1550F      60902   \n",
       "1255       600    1550F      60903   \n",
       "...        ...      ...        ...   \n",
       "1341       602    43300      22618   \n",
       "1342       602    43300      22700   \n",
       "1343       602    43300      22710   \n",
       "1344       602    43300      48001   \n",
       "1345       602    43300      48002   \n",
       "\n",
       "                                             Descripció  Crèdits inicials  \\\n",
       "1251              EFICIÈNCIA ENERGÈTICA E3 - INVERSIONS              0.00   \n",
       "1252         TRANSICIÓ VERDA SOSTENIBLE E1 - INVERSIONS              0.00   \n",
       "1253         TRANSICIÓ VERDA SOSTENIBLE E2 - INVERSIONS              0.00   \n",
       "1254                     COMPETITIVITAT E2 - INVERSIONS              0.00   \n",
       "1255                     COMPETITIVITAT E3 - INVERSIONS              0.00   \n",
       "...                                                 ...               ...   \n",
       "1341  PROGRAMA EMPRÈN CAT. ENFORTIMENT. EXP.SEC039/2...              0.00   \n",
       "1342                        NETEJA EQUIPAMENTS PROMOCIÓ           9159.15   \n",
       "1343                               COFINANÇAMENT INICIA          30000.00   \n",
       "1344                           FOMENT NOVES TECNOLOGIES          25500.00   \n",
       "1345              BIKE SHOW SPORT EVENTS SL - SEA OTTER          30000.00   \n",
       "\n",
       "      Modificacions de crèdit  Crèdits totals consignats  \\\n",
       "1251                965181.84                  965181.84   \n",
       "1252               1007679.00                 1007679.00   \n",
       "1253                508992.50                  508992.50   \n",
       "1254                 24200.00                   24200.00   \n",
       "1255                174000.01                  174000.01   \n",
       "...                       ...                        ...   \n",
       "1341                 11479.85                   11479.85   \n",
       "1342                  1567.10                   10726.25   \n",
       "1343                -29111.90                     888.10   \n",
       "1344                 -3750.00                   21750.00   \n",
       "1345                 15000.00                   45000.00   \n",
       "\n",
       "      Obligacions reconegudes  \n",
       "1251                     0.00  \n",
       "1252                     0.00  \n",
       "1253                     0.00  \n",
       "1254                     0.00  \n",
       "1255                     0.00  \n",
       "...                       ...  \n",
       "1341                   814.32  \n",
       "1342                  2926.00  \n",
       "1343                   871.20  \n",
       "1344                     0.00  \n",
       "1345                 45000.00  \n",
       "\n",
       "[95 rows x 8 columns]"
      ]
     },
     "execution_count": 9,
     "metadata": {},
     "output_type": "execute_result"
    }
   ],
   "source": [
    "turismo23"
   ]
  },
  {
   "cell_type": "code",
   "execution_count": 10,
   "id": "a974f8fe",
   "metadata": {},
   "outputs": [
    {
     "data": {
      "text/plain": [
       "6644509.89"
      ]
     },
     "execution_count": 10,
     "metadata": {},
     "output_type": "execute_result"
    }
   ],
   "source": [
    "turismo23['Crèdits totals consignats'].sum()"
   ]
  },
  {
   "cell_type": "markdown",
   "id": "50947ea8",
   "metadata": {},
   "source": [
    "De esta manera sabemos cuánto se ha destinado en el presupuesto a partidas relacionadas con el turismo, en 2023, 6.644.509'89€.\n",
    "Ahora debemos hacer la misma operación con los demás presupuestos para hacer una comparativa.\n",
    "Como hemos apuntado antes, los departamentos que nos interesan en este caso, están numerados de distinta manera según el año. Tampoco están todas las partidas recogidas bajo el mismo departamento, podemos encontrarnos partidas que en un año están bajo el departamento *Empresa* y otras, en *Promoción económica*. Así que el código será diferente cada año."
   ]
  },
  {
   "cell_type": "code",
   "execution_count": 11,
   "id": "6b0d6be4",
   "metadata": {},
   "outputs": [],
   "source": [
    "turismo15 = pres15[(pres15['Orgànica'] == 312) | (pres15['Orgànica'] == 320)]\n",
    "turismo16 = pres16[(pres16['Orgànica'] == 140) | (pres16['Orgànica'] == 600)]\n",
    "turismo17 = pres17[(pres17['Orgànica'] == 600) | (pres17['Orgànica'] == 601)]\n",
    "turismo18 = pres18[(pres18['Orgànica'] == 600) | (pres18['Orgànica'] == 601)]\n",
    "turismo19 = pres19[(pres19['Orgànica'] == 600) | (pres19['Orgànica'] == 601)]\n",
    "turismo20 = pres20[(pres20['Orgànica'] == 600) | (pres20['Orgànica'] == 601) | (pres20['Orgànica'] == 602)]\n",
    "turismo21 = pres21[(pres21['Orgànica'] == 600) | (pres21['Orgànica'] == 601) | (pres21['Orgànica'] == 602)]\n",
    "turismo22 = pres22[(pres22['Orgànica'] == 600) | (pres22['Orgànica'] == 601) | (pres22['Orgànica'] == 602)]\n",
    "turismo23 = pres23[(pres23['Orgànica'] == 600) | (pres23['Orgànica'] == 601) | (pres23['Orgànica'] == 602)]"
   ]
  },
  {
   "cell_type": "markdown",
   "id": "b2842a8a",
   "metadata": {},
   "source": [
    "### Gráfico de barras con Matplotlib"
   ]
  },
  {
   "cell_type": "markdown",
   "id": "251141aa",
   "metadata": {},
   "source": [
    "Ahora vamos a representar los datos anteriores en un gráfico de barras. Para ello, vamos a usar la librería Matplotlib. Primero, tenemos que guardar la suma de la columna *Crèdits totals consignats* (créditos totales asignados) de cada año en un *array*. También guardaremos en otro *array* los años de la muestra."
   ]
  },
  {
   "cell_type": "code",
   "execution_count": 12,
   "id": "70b81303",
   "metadata": {},
   "outputs": [],
   "source": [
    "creditosturismo = [turismo15['Crèdits totals consignats'].sum(),\n",
    "           turismo16['Crèdits totals consignats'].sum(),\n",
    "           turismo17['Crèdits totals consignats'].sum(),\n",
    "           turismo18['Crèdits totals consignats'].sum(),\n",
    "           turismo19['Crèdits totals consignats'].sum(),\n",
    "           turismo20['Crèdits totals consignats'].sum(),\n",
    "           turismo21['Crèdits totals consignats'].sum(),\n",
    "           turismo22['Crèdits totals consignats'].sum(),\n",
    "           turismo23['Crèdits totals consignats'].sum()]\n",
    "\n",
    "años = ['2015', '2016', '2017', '2018', '2019', '2020', '2021', '2022', '2023']"
   ]
  },
  {
   "cell_type": "markdown",
   "id": "ef4aea07",
   "metadata": {},
   "source": [
    "Ahora instalaremos e importaremos la librería. Seguidamente añadiremos los parámetros necesarios para darle al gráfico de barras el formato deseado."
   ]
  },
  {
   "cell_type": "code",
   "execution_count": 13,
   "id": "1de72f57",
   "metadata": {},
   "outputs": [
    {
     "data": {
      "image/png": "[encoded data removed]",
      "text/plain": [
       "<Figure size 800x500 with 1 Axes>"
      ]
     },
     "metadata": {},
     "output_type": "display_data"
    },
    {
     "data": {
      "text/plain": [
       "<Figure size 640x480 with 0 Axes>"
      ]
     },
     "metadata": {},
     "output_type": "display_data"
    }
   ],
   "source": [
    "#!pip install matplotlib\n",
    "import matplotlib.pyplot as plt\n",
    "plt.figure(figsize=(8, 5))\n",
    "plt.bar(años, creditosturismo, color = \"#f4a460\")\n",
    "plt.xlabel('Años muestra')\n",
    "plt.ylabel('Dinero destinado')\n",
    "plt.title('Dinero destinado a promover el turismo en los presupuestos del ayuntamiento de Girona')\n",
    "plt.xticks(rotation=45)\n",
    "plt.ticklabel_format(axis='y', style='plain') #Para que no nos muestre las cifras en formato científico.\n",
    "plt.show() #Para mostrar el gráfico\n",
    "plt.tight_layout()  # Para evitar recorte de etiquetas\n",
    "#plt.savefig('../images/presupuestoturismo1523.svg', format='svg') #para guardar el gráfico en formato svg"
   ]
  },
  {
   "cell_type": "markdown",
   "id": "ba2d7433",
   "metadata": {},
   "source": [
    "### Gráfico de barras interactivo con Plotly"
   ]
  },
  {
   "cell_type": "markdown",
   "id": "291b3d87",
   "metadata": {},
   "source": [
    "Ahora haremos el mismo gráfico en formato interactivo con la librería Plotly. Primero, tenemos que instalar e importar la librería. Luego le añadiremos las líneas necesarias para darle formato a la visualización."
   ]
  },
  {
   "cell_type": "code",
   "execution_count": 14,
   "id": "9fc786ed",
   "metadata": {},
   "outputs": [
    {
     "data": {
      "text/html": [
       "        <script type=\"text/javascript\">\n",
       "        window.PlotlyConfig = {MathJaxConfig: 'local'};\n",
       "        if (window.MathJax && window.MathJax.Hub && window.MathJax.Hub.Config) {window.MathJax.Hub.Config({SVG: {font: \"STIX-Web\"}});}\n",
       "        if (typeof require !== 'undefined') {\n",
       "        require.undef(\"plotly\");\n",
       "        requirejs.config({\n",
       "            paths: {\n",
       "                'plotly': ['https://cdn.plot.ly/plotly-2.25.2.min']\n",
       "            }\n",
       "        });\n",
       "        require(['plotly'], function(Plotly) {\n",
       "            window._Plotly = Plotly;\n",
       "        });\n",
       "        }\n",
       "        </script>\n",
       "        "
      ]
     },
     "metadata": {},
     "output_type": "display_data"
    },
    {
     "data": {
      "application/vnd.plotly.v1+json": {
       "config": {
        "linkText": "Export to plot.ly",
        "plotlyServerURL": "https://plot.ly",
        "showLink": false
       },
       "data": [
        {
         "marker": {
          "color": "#f4a460"
         },
         "name": "Numero",
         "type": "bar",
         "x": [
          "2015",
          "2016",
          "2017",
          "2018",
          "2019",
          "2020",
          "2021",
          "2022",
          "2023"
         ],
         "y": [
          2398542.6100000003,
          2064694.5699999998,
          2578727.18,
          2436540.9899999998,
          4430860.79,
          3901131.07,
          4802787.44,
          3626150.61,
          6644509.89
         ]
        }
       ],
       "layout": {
        "font": {
         "color": "black"
        },
        "plot_bgcolor": "white",
        "template": {
         "data": {
          "bar": [
           {
            "error_x": {
             "color": "#2a3f5f"
            },
            "error_y": {
             "color": "#2a3f5f"
            },
            "marker": {
             "line": {
              "color": "#E5ECF6",
              "width": 0.5
             },
             "pattern": {
              "fillmode": "overlay",
              "size": 10,
              "solidity": 0.2
             }
            },
            "type": "bar"
           }
          ],
          "barpolar": [
           {
            "marker": {
             "line": {
              "color": "#E5ECF6",
              "width": 0.5
             },
             "pattern": {
              "fillmode": "overlay",
              "size": 10,
              "solidity": 0.2
             }
            },
            "type": "barpolar"
           }
          ],
          "carpet": [
           {
            "aaxis": {
             "endlinecolor": "#2a3f5f",
             "gridcolor": "white",
             "linecolor": "white",
             "minorgridcolor": "white",
             "startlinecolor": "#2a3f5f"
            },
            "baxis": {
             "endlinecolor": "#2a3f5f",
             "gridcolor": "white",
             "linecolor": "white",
             "minorgridcolor": "white",
             "startlinecolor": "#2a3f5f"
            },
            "type": "carpet"
           }
          ],
          "choropleth": [
           {
            "colorbar": {
             "outlinewidth": 0,
             "ticks": ""
            },
            "type": "choropleth"
           }
          ],
          "contour": [
           {
            "colorbar": {
             "outlinewidth": 0,
             "ticks": ""
            },
            "colorscale": [
             [
              0,
              "#0d0887"
             ],
             [
              0.1111111111111111,
              "#46039f"
             ],
             [
              0.2222222222222222,
              "#7201a8"
             ],
             [
              0.3333333333333333,
              "#9c179e"
             ],
             [
              0.4444444444444444,
              "#bd3786"
             ],
             [
              0.5555555555555556,
              "#d8576b"
             ],
             [
              0.6666666666666666,
              "#ed7953"
             ],
             [
              0.7777777777777778,
              "#fb9f3a"
             ],
             [
              0.8888888888888888,
              "#fdca26"
             ],
             [
              1,
              "#f0f921"
             ]
            ],
            "type": "contour"
           }
          ],
          "contourcarpet": [
           {
            "colorbar": {
             "outlinewidth": 0,
             "ticks": ""
            },
            "type": "contourcarpet"
           }
          ],
          "heatmap": [
           {
            "colorbar": {
             "outlinewidth": 0,
             "ticks": ""
            },
            "colorscale": [
             [
              0,
              "#0d0887"
             ],
             [
              0.1111111111111111,
              "#46039f"
             ],
             [
              0.2222222222222222,
              "#7201a8"
             ],
             [
              0.3333333333333333,
              "#9c179e"
             ],
             [
              0.4444444444444444,
              "#bd3786"
             ],
             [
              0.5555555555555556,
              "#d8576b"
             ],
             [
              0.6666666666666666,
              "#ed7953"
             ],
             [
              0.7777777777777778,
              "#fb9f3a"
             ],
             [
              0.8888888888888888,
              "#fdca26"
             ],
             [
              1,
              "#f0f921"
             ]
            ],
            "type": "heatmap"
           }
          ],
          "heatmapgl": [
           {
            "colorbar": {
             "outlinewidth": 0,
             "ticks": ""
            },
            "colorscale": [
             [
              0,
              "#0d0887"
             ],
             [
              0.1111111111111111,
              "#46039f"
             ],
             [
              0.2222222222222222,
              "#7201a8"
             ],
             [
              0.3333333333333333,
              "#9c179e"
             ],
             [
              0.4444444444444444,
              "#bd3786"
             ],
             [
              0.5555555555555556,
              "#d8576b"
             ],
             [
              0.6666666666666666,
              "#ed7953"
             ],
             [
              0.7777777777777778,
              "#fb9f3a"
             ],
             [
              0.8888888888888888,
              "#fdca26"
             ],
             [
              1,
              "#f0f921"
             ]
            ],
            "type": "heatmapgl"
           }
          ],
          "histogram": [
           {
            "marker": {
             "pattern": {
              "fillmode": "overlay",
              "size": 10,
              "solidity": 0.2
             }
            },
            "type": "histogram"
           }
          ],
          "histogram2d": [
           {
            "colorbar": {
             "outlinewidth": 0,
             "ticks": ""
            },
            "colorscale": [
             [
              0,
              "#0d0887"
             ],
             [
              0.1111111111111111,
              "#46039f"
             ],
             [
              0.2222222222222222,
              "#7201a8"
             ],
             [
              0.3333333333333333,
              "#9c179e"
             ],
             [
              0.4444444444444444,
              "#bd3786"
             ],
             [
              0.5555555555555556,
              "#d8576b"
             ],
             [
              0.6666666666666666,
              "#ed7953"
             ],
             [
              0.7777777777777778,
              "#fb9f3a"
             ],
             [
              0.8888888888888888,
              "#fdca26"
             ],
             [
              1,
              "#f0f921"
             ]
            ],
            "type": "histogram2d"
           }
          ],
          "histogram2dcontour": [
           {
            "colorbar": {
             "outlinewidth": 0,
             "ticks": ""
            },
            "colorscale": [
             [
              0,
              "#0d0887"
             ],
             [
              0.1111111111111111,
              "#46039f"
             ],
             [
              0.2222222222222222,
              "#7201a8"
             ],
             [
              0.3333333333333333,
              "#9c179e"
             ],
             [
              0.4444444444444444,
              "#bd3786"
             ],
             [
              0.5555555555555556,
              "#d8576b"
             ],
             [
              0.6666666666666666,
              "#ed7953"
             ],
             [
              0.7777777777777778,
              "#fb9f3a"
             ],
             [
              0.8888888888888888,
              "#fdca26"
             ],
             [
              1,
              "#f0f921"
             ]
            ],
            "type": "histogram2dcontour"
           }
          ],
          "mesh3d": [
           {
            "colorbar": {
             "outlinewidth": 0,
             "ticks": ""
            },
            "type": "mesh3d"
           }
          ],
          "parcoords": [
           {
            "line": {
             "colorbar": {
              "outlinewidth": 0,
              "ticks": ""
             }
            },
            "type": "parcoords"
           }
          ],
          "pie": [
           {
            "automargin": true,
            "type": "pie"
           }
          ],
          "scatter": [
           {
            "fillpattern": {
             "fillmode": "overlay",
             "size": 10,
             "solidity": 0.2
            },
            "type": "scatter"
           }
          ],
          "scatter3d": [
           {
            "line": {
             "colorbar": {
              "outlinewidth": 0,
              "ticks": ""
             }
            },
            "marker": {
             "colorbar": {
              "outlinewidth": 0,
              "ticks": ""
             }
            },
            "type": "scatter3d"
           }
          ],
          "scattercarpet": [
           {
            "marker": {
             "colorbar": {
              "outlinewidth": 0,
              "ticks": ""
             }
            },
            "type": "scattercarpet"
           }
          ],
          "scattergeo": [
           {
            "marker": {
             "colorbar": {
              "outlinewidth": 0,
              "ticks": ""
             }
            },
            "type": "scattergeo"
           }
          ],
          "scattergl": [
           {
            "marker": {
             "colorbar": {
              "outlinewidth": 0,
              "ticks": ""
             }
            },
            "type": "scattergl"
           }
          ],
          "scattermapbox": [
           {
            "marker": {
             "colorbar": {
              "outlinewidth": 0,
              "ticks": ""
             }
            },
            "type": "scattermapbox"
           }
          ],
          "scatterpolar": [
           {
            "marker": {
             "colorbar": {
              "outlinewidth": 0,
              "ticks": ""
             }
            },
            "type": "scatterpolar"
           }
          ],
          "scatterpolargl": [
           {
            "marker": {
             "colorbar": {
              "outlinewidth": 0,
              "ticks": ""
             }
            },
            "type": "scatterpolargl"
           }
          ],
          "scatterternary": [
           {
            "marker": {
             "colorbar": {
              "outlinewidth": 0,
              "ticks": ""
             }
            },
            "type": "scatterternary"
           }
          ],
          "surface": [
           {
            "colorbar": {
             "outlinewidth": 0,
             "ticks": ""
            },
            "colorscale": [
             [
              0,
              "#0d0887"
             ],
             [
              0.1111111111111111,
              "#46039f"
             ],
             [
              0.2222222222222222,
              "#7201a8"
             ],
             [
              0.3333333333333333,
              "#9c179e"
             ],
             [
              0.4444444444444444,
              "#bd3786"
             ],
             [
              0.5555555555555556,
              "#d8576b"
             ],
             [
              0.6666666666666666,
              "#ed7953"
             ],
             [
              0.7777777777777778,
              "#fb9f3a"
             ],
             [
              0.8888888888888888,
              "#fdca26"
             ],
             [
              1,
              "#f0f921"
             ]
            ],
            "type": "surface"
           }
          ],
          "table": [
           {
            "cells": {
             "fill": {
              "color": "#EBF0F8"
             },
             "line": {
              "color": "white"
             }
            },
            "header": {
             "fill": {
              "color": "#C8D4E3"
             },
             "line": {
              "color": "white"
             }
            },
            "type": "table"
           }
          ]
         },
         "layout": {
          "annotationdefaults": {
           "arrowcolor": "#2a3f5f",
           "arrowhead": 0,
           "arrowwidth": 1
          },
          "autotypenumbers": "strict",
          "coloraxis": {
           "colorbar": {
            "outlinewidth": 0,
            "ticks": ""
           }
          },
          "colorscale": {
           "diverging": [
            [
             0,
             "#8e0152"
            ],
            [
             0.1,
             "#c51b7d"
            ],
            [
             0.2,
             "#de77ae"
            ],
            [
             0.3,
             "#f1b6da"
            ],
            [
             0.4,
             "#fde0ef"
            ],
            [
             0.5,
             "#f7f7f7"
            ],
            [
             0.6,
             "#e6f5d0"
            ],
            [
             0.7,
             "#b8e186"
            ],
            [
             0.8,
             "#7fbc41"
            ],
            [
             0.9,
             "#4d9221"
            ],
            [
             1,
             "#276419"
            ]
           ],
           "sequential": [
            [
             0,
             "#0d0887"
            ],
            [
             0.1111111111111111,
             "#46039f"
            ],
            [
             0.2222222222222222,
             "#7201a8"
            ],
            [
             0.3333333333333333,
             "#9c179e"
            ],
            [
             0.4444444444444444,
             "#bd3786"
            ],
            [
             0.5555555555555556,
             "#d8576b"
            ],
            [
             0.6666666666666666,
             "#ed7953"
            ],
            [
             0.7777777777777778,
             "#fb9f3a"
            ],
            [
             0.8888888888888888,
             "#fdca26"
            ],
            [
             1,
             "#f0f921"
            ]
           ],
           "sequentialminus": [
            [
             0,
             "#0d0887"
            ],
            [
             0.1111111111111111,
             "#46039f"
            ],
            [
             0.2222222222222222,
             "#7201a8"
            ],
            [
             0.3333333333333333,
             "#9c179e"
            ],
            [
             0.4444444444444444,
             "#bd3786"
            ],
            [
             0.5555555555555556,
             "#d8576b"
            ],
            [
             0.6666666666666666,
             "#ed7953"
            ],
            [
             0.7777777777777778,
             "#fb9f3a"
            ],
            [
             0.8888888888888888,
             "#fdca26"
            ],
            [
             1,
             "#f0f921"
            ]
           ]
          },
          "colorway": [
           "#636efa",
           "#EF553B",
           "#00cc96",
           "#ab63fa",
           "#FFA15A",
           "#19d3f3",
           "#FF6692",
           "#B6E880",
           "#FF97FF",
           "#FECB52"
          ],
          "font": {
           "color": "#2a3f5f"
          },
          "geo": {
           "bgcolor": "white",
           "lakecolor": "white",
           "landcolor": "#E5ECF6",
           "showlakes": true,
           "showland": true,
           "subunitcolor": "white"
          },
          "hoverlabel": {
           "align": "left"
          },
          "hovermode": "closest",
          "mapbox": {
           "style": "light"
          },
          "paper_bgcolor": "white",
          "plot_bgcolor": "#E5ECF6",
          "polar": {
           "angularaxis": {
            "gridcolor": "white",
            "linecolor": "white",
            "ticks": ""
           },
           "bgcolor": "#E5ECF6",
           "radialaxis": {
            "gridcolor": "white",
            "linecolor": "white",
            "ticks": ""
           }
          },
          "scene": {
           "xaxis": {
            "backgroundcolor": "#E5ECF6",
            "gridcolor": "white",
            "gridwidth": 2,
            "linecolor": "white",
            "showbackground": true,
            "ticks": "",
            "zerolinecolor": "white"
           },
           "yaxis": {
            "backgroundcolor": "#E5ECF6",
            "gridcolor": "white",
            "gridwidth": 2,
            "linecolor": "white",
            "showbackground": true,
            "ticks": "",
            "zerolinecolor": "white"
           },
           "zaxis": {
            "backgroundcolor": "#E5ECF6",
            "gridcolor": "white",
            "gridwidth": 2,
            "linecolor": "white",
            "showbackground": true,
            "ticks": "",
            "zerolinecolor": "white"
           }
          },
          "shapedefaults": {
           "line": {
            "color": "#2a3f5f"
           }
          },
          "ternary": {
           "aaxis": {
            "gridcolor": "white",
            "linecolor": "white",
            "ticks": ""
           },
           "baxis": {
            "gridcolor": "white",
            "linecolor": "white",
            "ticks": ""
           },
           "bgcolor": "#E5ECF6",
           "caxis": {
            "gridcolor": "white",
            "linecolor": "white",
            "ticks": ""
           }
          },
          "title": {
           "x": 0.05
          },
          "xaxis": {
           "automargin": true,
           "gridcolor": "white",
           "linecolor": "white",
           "ticks": "",
           "title": {
            "standoff": 15
           },
           "zerolinecolor": "white",
           "zerolinewidth": 2
          },
          "yaxis": {
           "automargin": true,
           "gridcolor": "white",
           "linecolor": "white",
           "ticks": "",
           "title": {
            "standoff": 15
           },
           "zerolinecolor": "white",
           "zerolinewidth": 2
          }
         }
        },
        "title": {
         "text": "Dinero destinado a promover el turismo en los presupuestos del ayuntamiento de Girona"
        },
        "xaxis": {
         "dtick": 1,
         "tick0": 2021,
         "tickmode": "linear"
        }
       }
      },
      "text/html": [
       "<div>                            <div id=\"2993d751-7854-454f-9776-6476ab3e1a5e\" class=\"plotly-graph-div\" style=\"height:525px; width:100%;\"></div>            <script type=\"text/javascript\">                require([\"plotly\"], function(Plotly) {                    window.PLOTLYENV=window.PLOTLYENV || {};                                    if (document.getElementById(\"2993d751-7854-454f-9776-6476ab3e1a5e\")) {                    Plotly.newPlot(                        \"2993d751-7854-454f-9776-6476ab3e1a5e\",                        [{\"marker\":{\"color\":\"#f4a460\"},\"name\":\"Numero\",\"x\":[\"2015\",\"2016\",\"2017\",\"2018\",\"2019\",\"2020\",\"2021\",\"2022\",\"2023\"],\"y\":[2398542.6100000003,2064694.5699999998,2578727.18,2436540.9899999998,4430860.79,3901131.07,4802787.44,3626150.61,6644509.89],\"type\":\"bar\"}],                        {\"font\":{\"color\":\"black\"},\"plot_bgcolor\":\"white\",\"template\":{\"data\":{\"barpolar\":[{\"marker\":{\"line\":{\"color\":\"#E5ECF6\",\"width\":0.5},\"pattern\":{\"fillmode\":\"overlay\",\"size\":10,\"solidity\":0.2}},\"type\":\"barpolar\"}],\"bar\":[{\"error_x\":{\"color\":\"#2a3f5f\"},\"error_y\":{\"color\":\"#2a3f5f\"},\"marker\":{\"line\":{\"color\":\"#E5ECF6\",\"width\":0.5},\"pattern\":{\"fillmode\":\"overlay\",\"size\":10,\"solidity\":0.2}},\"type\":\"bar\"}],\"carpet\":[{\"aaxis\":{\"endlinecolor\":\"#2a3f5f\",\"gridcolor\":\"white\",\"linecolor\":\"white\",\"minorgridcolor\":\"white\",\"startlinecolor\":\"#2a3f5f\"},\"baxis\":{\"endlinecolor\":\"#2a3f5f\",\"gridcolor\":\"white\",\"linecolor\":\"white\",\"minorgridcolor\":\"white\",\"startlinecolor\":\"#2a3f5f\"},\"type\":\"carpet\"}],\"choropleth\":[{\"colorbar\":{\"outlinewidth\":0,\"ticks\":\"\"},\"type\":\"choropleth\"}],\"contourcarpet\":[{\"colorbar\":{\"outlinewidth\":0,\"ticks\":\"\"},\"type\":\"contourcarpet\"}],\"contour\":[{\"colorbar\":{\"outlinewidth\":0,\"ticks\":\"\"},\"colorscale\":[[0.0,\"#0d0887\"],[0.1111111111111111,\"#46039f\"],[0.2222222222222222,\"#7201a8\"],[0.3333333333333333,\"#9c179e\"],[0.4444444444444444,\"#bd3786\"],[0.5555555555555556,\"#d8576b\"],[0.6666666666666666,\"#ed7953\"],[0.7777777777777778,\"#fb9f3a\"],[0.8888888888888888,\"#fdca26\"],[1.0,\"#f0f921\"]],\"type\":\"contour\"}],\"heatmapgl\":[{\"colorbar\":{\"outlinewidth\":0,\"ticks\":\"\"},\"colorscale\":[[0.0,\"#0d0887\"],[0.1111111111111111,\"#46039f\"],[0.2222222222222222,\"#7201a8\"],[0.3333333333333333,\"#9c179e\"],[0.4444444444444444,\"#bd3786\"],[0.5555555555555556,\"#d8576b\"],[0.6666666666666666,\"#ed7953\"],[0.7777777777777778,\"#fb9f3a\"],[0.8888888888888888,\"#fdca26\"],[1.0,\"#f0f921\"]],\"type\":\"heatmapgl\"}],\"heatmap\":[{\"colorbar\":{\"outlinewidth\":0,\"ticks\":\"\"},\"colorscale\":[[0.0,\"#0d0887\"],[0.1111111111111111,\"#46039f\"],[0.2222222222222222,\"#7201a8\"],[0.3333333333333333,\"#9c179e\"],[0.4444444444444444,\"#bd3786\"],[0.5555555555555556,\"#d8576b\"],[0.6666666666666666,\"#ed7953\"],[0.7777777777777778,\"#fb9f3a\"],[0.8888888888888888,\"#fdca26\"],[1.0,\"#f0f921\"]],\"type\":\"heatmap\"}],\"histogram2dcontour\":[{\"colorbar\":{\"outlinewidth\":0,\"ticks\":\"\"},\"colorscale\":[[0.0,\"#0d0887\"],[0.1111111111111111,\"#46039f\"],[0.2222222222222222,\"#7201a8\"],[0.3333333333333333,\"#9c179e\"],[0.4444444444444444,\"#bd3786\"],[0.5555555555555556,\"#d8576b\"],[0.6666666666666666,\"#ed7953\"],[0.7777777777777778,\"#fb9f3a\"],[0.8888888888888888,\"#fdca26\"],[1.0,\"#f0f921\"]],\"type\":\"histogram2dcontour\"}],\"histogram2d\":[{\"colorbar\":{\"outlinewidth\":0,\"ticks\":\"\"},\"colorscale\":[[0.0,\"#0d0887\"],[0.1111111111111111,\"#46039f\"],[0.2222222222222222,\"#7201a8\"],[0.3333333333333333,\"#9c179e\"],[0.4444444444444444,\"#bd3786\"],[0.5555555555555556,\"#d8576b\"],[0.6666666666666666,\"#ed7953\"],[0.7777777777777778,\"#fb9f3a\"],[0.8888888888888888,\"#fdca26\"],[1.0,\"#f0f921\"]],\"type\":\"histogram2d\"}],\"histogram\":[{\"marker\":{\"pattern\":{\"fillmode\":\"overlay\",\"size\":10,\"solidity\":0.2}},\"type\":\"histogram\"}],\"mesh3d\":[{\"colorbar\":{\"outlinewidth\":0,\"ticks\":\"\"},\"type\":\"mesh3d\"}],\"parcoords\":[{\"line\":{\"colorbar\":{\"outlinewidth\":0,\"ticks\":\"\"}},\"type\":\"parcoords\"}],\"pie\":[{\"automargin\":true,\"type\":\"pie\"}],\"scatter3d\":[{\"line\":{\"colorbar\":{\"outlinewidth\":0,\"ticks\":\"\"}},\"marker\":{\"colorbar\":{\"outlinewidth\":0,\"ticks\":\"\"}},\"type\":\"scatter3d\"}],\"scattercarpet\":[{\"marker\":{\"colorbar\":{\"outlinewidth\":0,\"ticks\":\"\"}},\"type\":\"scattercarpet\"}],\"scattergeo\":[{\"marker\":{\"colorbar\":{\"outlinewidth\":0,\"ticks\":\"\"}},\"type\":\"scattergeo\"}],\"scattergl\":[{\"marker\":{\"colorbar\":{\"outlinewidth\":0,\"ticks\":\"\"}},\"type\":\"scattergl\"}],\"scattermapbox\":[{\"marker\":{\"colorbar\":{\"outlinewidth\":0,\"ticks\":\"\"}},\"type\":\"scattermapbox\"}],\"scatterpolargl\":[{\"marker\":{\"colorbar\":{\"outlinewidth\":0,\"ticks\":\"\"}},\"type\":\"scatterpolargl\"}],\"scatterpolar\":[{\"marker\":{\"colorbar\":{\"outlinewidth\":0,\"ticks\":\"\"}},\"type\":\"scatterpolar\"}],\"scatter\":[{\"fillpattern\":{\"fillmode\":\"overlay\",\"size\":10,\"solidity\":0.2},\"type\":\"scatter\"}],\"scatterternary\":[{\"marker\":{\"colorbar\":{\"outlinewidth\":0,\"ticks\":\"\"}},\"type\":\"scatterternary\"}],\"surface\":[{\"colorbar\":{\"outlinewidth\":0,\"ticks\":\"\"},\"colorscale\":[[0.0,\"#0d0887\"],[0.1111111111111111,\"#46039f\"],[0.2222222222222222,\"#7201a8\"],[0.3333333333333333,\"#9c179e\"],[0.4444444444444444,\"#bd3786\"],[0.5555555555555556,\"#d8576b\"],[0.6666666666666666,\"#ed7953\"],[0.7777777777777778,\"#fb9f3a\"],[0.8888888888888888,\"#fdca26\"],[1.0,\"#f0f921\"]],\"type\":\"surface\"}],\"table\":[{\"cells\":{\"fill\":{\"color\":\"#EBF0F8\"},\"line\":{\"color\":\"white\"}},\"header\":{\"fill\":{\"color\":\"#C8D4E3\"},\"line\":{\"color\":\"white\"}},\"type\":\"table\"}]},\"layout\":{\"annotationdefaults\":{\"arrowcolor\":\"#2a3f5f\",\"arrowhead\":0,\"arrowwidth\":1},\"autotypenumbers\":\"strict\",\"coloraxis\":{\"colorbar\":{\"outlinewidth\":0,\"ticks\":\"\"}},\"colorscale\":{\"diverging\":[[0,\"#8e0152\"],[0.1,\"#c51b7d\"],[0.2,\"#de77ae\"],[0.3,\"#f1b6da\"],[0.4,\"#fde0ef\"],[0.5,\"#f7f7f7\"],[0.6,\"#e6f5d0\"],[0.7,\"#b8e186\"],[0.8,\"#7fbc41\"],[0.9,\"#4d9221\"],[1,\"#276419\"]],\"sequential\":[[0.0,\"#0d0887\"],[0.1111111111111111,\"#46039f\"],[0.2222222222222222,\"#7201a8\"],[0.3333333333333333,\"#9c179e\"],[0.4444444444444444,\"#bd3786\"],[0.5555555555555556,\"#d8576b\"],[0.6666666666666666,\"#ed7953\"],[0.7777777777777778,\"#fb9f3a\"],[0.8888888888888888,\"#fdca26\"],[1.0,\"#f0f921\"]],\"sequentialminus\":[[0.0,\"#0d0887\"],[0.1111111111111111,\"#46039f\"],[0.2222222222222222,\"#7201a8\"],[0.3333333333333333,\"#9c179e\"],[0.4444444444444444,\"#bd3786\"],[0.5555555555555556,\"#d8576b\"],[0.6666666666666666,\"#ed7953\"],[0.7777777777777778,\"#fb9f3a\"],[0.8888888888888888,\"#fdca26\"],[1.0,\"#f0f921\"]]},\"colorway\":[\"#636efa\",\"#EF553B\",\"#00cc96\",\"#ab63fa\",\"#FFA15A\",\"#19d3f3\",\"#FF6692\",\"#B6E880\",\"#FF97FF\",\"#FECB52\"],\"font\":{\"color\":\"#2a3f5f\"},\"geo\":{\"bgcolor\":\"white\",\"lakecolor\":\"white\",\"landcolor\":\"#E5ECF6\",\"showlakes\":true,\"showland\":true,\"subunitcolor\":\"white\"},\"hoverlabel\":{\"align\":\"left\"},\"hovermode\":\"closest\",\"mapbox\":{\"style\":\"light\"},\"paper_bgcolor\":\"white\",\"plot_bgcolor\":\"#E5ECF6\",\"polar\":{\"angularaxis\":{\"gridcolor\":\"white\",\"linecolor\":\"white\",\"ticks\":\"\"},\"bgcolor\":\"#E5ECF6\",\"radialaxis\":{\"gridcolor\":\"white\",\"linecolor\":\"white\",\"ticks\":\"\"}},\"scene\":{\"xaxis\":{\"backgroundcolor\":\"#E5ECF6\",\"gridcolor\":\"white\",\"gridwidth\":2,\"linecolor\":\"white\",\"showbackground\":true,\"ticks\":\"\",\"zerolinecolor\":\"white\"},\"yaxis\":{\"backgroundcolor\":\"#E5ECF6\",\"gridcolor\":\"white\",\"gridwidth\":2,\"linecolor\":\"white\",\"showbackground\":true,\"ticks\":\"\",\"zerolinecolor\":\"white\"},\"zaxis\":{\"backgroundcolor\":\"#E5ECF6\",\"gridcolor\":\"white\",\"gridwidth\":2,\"linecolor\":\"white\",\"showbackground\":true,\"ticks\":\"\",\"zerolinecolor\":\"white\"}},\"shapedefaults\":{\"line\":{\"color\":\"#2a3f5f\"}},\"ternary\":{\"aaxis\":{\"gridcolor\":\"white\",\"linecolor\":\"white\",\"ticks\":\"\"},\"baxis\":{\"gridcolor\":\"white\",\"linecolor\":\"white\",\"ticks\":\"\"},\"bgcolor\":\"#E5ECF6\",\"caxis\":{\"gridcolor\":\"white\",\"linecolor\":\"white\",\"ticks\":\"\"}},\"title\":{\"x\":0.05},\"xaxis\":{\"automargin\":true,\"gridcolor\":\"white\",\"linecolor\":\"white\",\"ticks\":\"\",\"title\":{\"standoff\":15},\"zerolinecolor\":\"white\",\"zerolinewidth\":2},\"yaxis\":{\"automargin\":true,\"gridcolor\":\"white\",\"linecolor\":\"white\",\"ticks\":\"\",\"title\":{\"standoff\":15},\"zerolinecolor\":\"white\",\"zerolinewidth\":2}}},\"title\":{\"text\":\"Dinero destinado a promover el turismo en los presupuestos del ayuntamiento de Girona\"},\"xaxis\":{\"dtick\":1,\"tick0\":2021,\"tickmode\":\"linear\"}},                        {\"responsive\": true}                    ).then(function(){\n",
       "                            \n",
       "var gd = document.getElementById('2993d751-7854-454f-9776-6476ab3e1a5e');\n",
       "var x = new MutationObserver(function (mutations, observer) {{\n",
       "        var display = window.getComputedStyle(gd).display;\n",
       "        if (!display || display === 'none') {{\n",
       "            console.log([gd, 'removed!']);\n",
       "            Plotly.purge(gd);\n",
       "            observer.disconnect();\n",
       "        }}\n",
       "}});\n",
       "\n",
       "// Listen for the removal of the full notebook cells\n",
       "var notebookContainer = gd.closest('#notebook-container');\n",
       "if (notebookContainer) {{\n",
       "    x.observe(notebookContainer, {childList: true});\n",
       "}}\n",
       "\n",
       "// Listen for the clearing of the current output cell\n",
       "var outputEl = gd.closest('.output');\n",
       "if (outputEl) {{\n",
       "    x.observe(outputEl, {childList: true});\n",
       "}}\n",
       "\n",
       "                        })                };                });            </script>        </div>"
      ]
     },
     "metadata": {},
     "output_type": "display_data"
    }
   ],
   "source": [
    "#!pip install plotly\n",
    "import plotly.graph_objects as go\n",
    "from plotly.offline import init_notebook_mode, iplot\n",
    "init_notebook_mode(connected=True)\n",
    "\n",
    "trace1 = go.Bar(\n",
    "    x = años,\n",
    "    y = creditosturismo,\n",
    "    name = 'Numero',\n",
    "    marker=dict(color='#f4a460')\n",
    ")\n",
    "datas = [trace1]\n",
    "\n",
    "\n",
    "# Creamos el layout\n",
    "layout = dict(\n",
    "            # Título\n",
    "            title = dict( text = \"Dinero destinado a promover el turismo en los presupuestos del ayuntamiento de Girona\" ),\n",
    "    font=dict(color='black'),\n",
    "     xaxis = dict(\n",
    "      tickmode = 'linear',\n",
    "      tick0 = 2021,\n",
    "      dtick = 1\n",
    "   ),\n",
    "     plot_bgcolor='white'       \n",
    "         )\n",
    "fig = go.Figure(data=datas, layout=layout)\n",
    "iplot(fig) #Para mostrar el gráfico\n",
    "#fig.write_html('../images/presupuestoturismo1523.html') # Lo guardamos en formato HTML para incrustarlo en la web"
   ]
  },
  {
   "cell_type": "markdown",
   "id": "4a920334",
   "metadata": {},
   "source": [
    "## Cultura"
   ]
  },
  {
   "cell_type": "markdown",
   "id": "8e552867",
   "metadata": {},
   "source": [
    "Realizaremos los mismos pasos que en la sección *Turismo* pero ahora con el presupuesto destinado a cultura. Cabe recordar que en las variables pres15-pres23 tenemos los presupuestos de la ciudad de Girona desde 2015 a 2013.\n",
    "Ejemplo:"
   ]
  },
  {
   "cell_type": "code",
   "execution_count": 15,
   "id": "00cfaacc",
   "metadata": {},
   "outputs": [
    {
     "data": {
      "text/html": [
       "<div>\n",
       "<style scoped>\n",
       "    .dataframe tbody tr th:only-of-type {\n",
       "        vertical-align: middle;\n",
       "    }\n",
       "\n",
       "    .dataframe tbody tr th {\n",
       "        vertical-align: top;\n",
       "    }\n",
       "\n",
       "    .dataframe thead th {\n",
       "        text-align: right;\n",
       "    }\n",
       "</style>\n",
       "<table border=\"1\" class=\"dataframe\">\n",
       "  <thead>\n",
       "    <tr style=\"text-align: right;\">\n",
       "      <th></th>\n",
       "      <th>Orgànica</th>\n",
       "      <th>Programa</th>\n",
       "      <th>Econòmica</th>\n",
       "      <th>Descripció</th>\n",
       "      <th>Crèdits inicials</th>\n",
       "      <th>Modificacions de crèdit</th>\n",
       "      <th>Crèdits totals consignats</th>\n",
       "      <th>Obligacions reconegudes</th>\n",
       "    </tr>\n",
       "  </thead>\n",
       "  <tbody>\n",
       "    <tr>\n",
       "      <th>0</th>\n",
       "      <td>100</td>\n",
       "      <td>15210</td>\n",
       "      <td>22600</td>\n",
       "      <td>PACTE PER L'HABITATGE I PLA ESTRATÈGIC</td>\n",
       "      <td>30000.00</td>\n",
       "      <td>-23073.84</td>\n",
       "      <td>6926.16</td>\n",
       "      <td>751.32</td>\n",
       "    </tr>\n",
       "    <tr>\n",
       "      <th>1</th>\n",
       "      <td>100</td>\n",
       "      <td>49100</td>\n",
       "      <td>22600</td>\n",
       "      <td>DESPESES GESTIÓ RADIO MUNICIPAL</td>\n",
       "      <td>157583.60</td>\n",
       "      <td>105122.24</td>\n",
       "      <td>262705.84</td>\n",
       "      <td>51219.58</td>\n",
       "    </tr>\n",
       "    <tr>\n",
       "      <th>2</th>\n",
       "      <td>100</td>\n",
       "      <td>91210</td>\n",
       "      <td>10000</td>\n",
       "      <td>ÒRGANS DE GOVERN</td>\n",
       "      <td>405690.52</td>\n",
       "      <td>15770.23</td>\n",
       "      <td>421460.75</td>\n",
       "      <td>116755.92</td>\n",
       "    </tr>\n",
       "    <tr>\n",
       "      <th>3</th>\n",
       "      <td>100</td>\n",
       "      <td>91210</td>\n",
       "      <td>11000</td>\n",
       "      <td>P EVENTUAL PRESIDÈNCIA</td>\n",
       "      <td>570826.18</td>\n",
       "      <td>22727.29</td>\n",
       "      <td>593553.47</td>\n",
       "      <td>158927.24</td>\n",
       "    </tr>\n",
       "    <tr>\n",
       "      <th>4</th>\n",
       "      <td>100</td>\n",
       "      <td>91210</td>\n",
       "      <td>16000</td>\n",
       "      <td>QUOTES SOCIALS ÒRGANS DE GOVERN</td>\n",
       "      <td>263274.42</td>\n",
       "      <td>22473.47</td>\n",
       "      <td>285747.89</td>\n",
       "      <td>108787.13</td>\n",
       "    </tr>\n",
       "    <tr>\n",
       "      <th>...</th>\n",
       "      <td>...</td>\n",
       "      <td>...</td>\n",
       "      <td>...</td>\n",
       "      <td>...</td>\n",
       "      <td>...</td>\n",
       "      <td>...</td>\n",
       "      <td>...</td>\n",
       "      <td>...</td>\n",
       "    </tr>\n",
       "    <tr>\n",
       "      <th>1458</th>\n",
       "      <td>605</td>\n",
       "      <td>92500</td>\n",
       "      <td>12009</td>\n",
       "      <td>ATRES RETRIB. BÀSIQUES P.FUNCIONARI OMIC</td>\n",
       "      <td>1822.21</td>\n",
       "      <td>93.31</td>\n",
       "      <td>1915.52</td>\n",
       "      <td>0.00</td>\n",
       "    </tr>\n",
       "    <tr>\n",
       "      <th>1459</th>\n",
       "      <td>605</td>\n",
       "      <td>92500</td>\n",
       "      <td>12100</td>\n",
       "      <td>COMPLEMENT DESTINACIÓ OMIC</td>\n",
       "      <td>5291.44</td>\n",
       "      <td>335.48</td>\n",
       "      <td>5626.92</td>\n",
       "      <td>3173.44</td>\n",
       "    </tr>\n",
       "    <tr>\n",
       "      <th>1460</th>\n",
       "      <td>605</td>\n",
       "      <td>92500</td>\n",
       "      <td>12101</td>\n",
       "      <td>COMPLEMENT ESPECÍFIC FUNCIONARIS OMIC</td>\n",
       "      <td>5641.81</td>\n",
       "      <td>1707.86</td>\n",
       "      <td>7349.67</td>\n",
       "      <td>4683.98</td>\n",
       "    </tr>\n",
       "    <tr>\n",
       "      <th>1461</th>\n",
       "      <td>605</td>\n",
       "      <td>92500</td>\n",
       "      <td>13000</td>\n",
       "      <td>RETR.BAS.P.LABORAL OMIC</td>\n",
       "      <td>52965.96</td>\n",
       "      <td>898.92</td>\n",
       "      <td>53864.88</td>\n",
       "      <td>2481.34</td>\n",
       "    </tr>\n",
       "    <tr>\n",
       "      <th>1462</th>\n",
       "      <td>605</td>\n",
       "      <td>92500</td>\n",
       "      <td>16000</td>\n",
       "      <td>QUOTES SOCIALS OMIC</td>\n",
       "      <td>21177.51</td>\n",
       "      <td>419.20</td>\n",
       "      <td>21596.71</td>\n",
       "      <td>5088.88</td>\n",
       "    </tr>\n",
       "  </tbody>\n",
       "</table>\n",
       "<p>1463 rows × 8 columns</p>\n",
       "</div>"
      ],
      "text/plain": [
       "      Orgànica Programa  Econòmica                                Descripció  \\\n",
       "0          100    15210      22600    PACTE PER L'HABITATGE I PLA ESTRATÈGIC   \n",
       "1          100    49100      22600           DESPESES GESTIÓ RADIO MUNICIPAL   \n",
       "2          100    91210      10000                          ÒRGANS DE GOVERN   \n",
       "3          100    91210      11000                    P EVENTUAL PRESIDÈNCIA   \n",
       "4          100    91210      16000           QUOTES SOCIALS ÒRGANS DE GOVERN   \n",
       "...        ...      ...        ...                                       ...   \n",
       "1458       605    92500      12009  ATRES RETRIB. BÀSIQUES P.FUNCIONARI OMIC   \n",
       "1459       605    92500      12100                COMPLEMENT DESTINACIÓ OMIC   \n",
       "1460       605    92500      12101     COMPLEMENT ESPECÍFIC FUNCIONARIS OMIC   \n",
       "1461       605    92500      13000                   RETR.BAS.P.LABORAL OMIC   \n",
       "1462       605    92500      16000                       QUOTES SOCIALS OMIC   \n",
       "\n",
       "      Crèdits inicials  Modificacions de crèdit  Crèdits totals consignats  \\\n",
       "0             30000.00                -23073.84                    6926.16   \n",
       "1            157583.60                105122.24                  262705.84   \n",
       "2            405690.52                 15770.23                  421460.75   \n",
       "3            570826.18                 22727.29                  593553.47   \n",
       "4            263274.42                 22473.47                  285747.89   \n",
       "...                ...                      ...                        ...   \n",
       "1458           1822.21                    93.31                    1915.52   \n",
       "1459           5291.44                   335.48                    5626.92   \n",
       "1460           5641.81                  1707.86                    7349.67   \n",
       "1461          52965.96                   898.92                   53864.88   \n",
       "1462          21177.51                   419.20                   21596.71   \n",
       "\n",
       "      Obligacions reconegudes  \n",
       "0                      751.32  \n",
       "1                    51219.58  \n",
       "2                   116755.92  \n",
       "3                   158927.24  \n",
       "4                   108787.13  \n",
       "...                       ...  \n",
       "1458                     0.00  \n",
       "1459                  3173.44  \n",
       "1460                  4683.98  \n",
       "1461                  2481.34  \n",
       "1462                  5088.88  \n",
       "\n",
       "[1463 rows x 8 columns]"
      ]
     },
     "execution_count": 15,
     "metadata": {},
     "output_type": "execute_result"
    }
   ],
   "source": [
    "pres23"
   ]
  },
  {
   "cell_type": "markdown",
   "id": "0bdd321a",
   "metadata": {},
   "source": [
    "Ahora guardaremos bajo las variables cultura + seguido del año al que corresponde el presupuesto, las partidas destinadas a cultura en cada ejercicio. En el caso de 2023, vemos que aquellos departamentos relacionados con la cultura se encuentran del número 500 al 507. Sin embargo, en otros presupuestos el número será otro y tendremos que adaptar el código a ello."
   ]
  },
  {
   "cell_type": "code",
   "execution_count": 16,
   "id": "ebaa617c",
   "metadata": {},
   "outputs": [
    {
     "data": {
      "text/html": [
       "<div>\n",
       "<style scoped>\n",
       "    .dataframe tbody tr th:only-of-type {\n",
       "        vertical-align: middle;\n",
       "    }\n",
       "\n",
       "    .dataframe tbody tr th {\n",
       "        vertical-align: top;\n",
       "    }\n",
       "\n",
       "    .dataframe thead th {\n",
       "        text-align: right;\n",
       "    }\n",
       "</style>\n",
       "<table border=\"1\" class=\"dataframe\">\n",
       "  <thead>\n",
       "    <tr style=\"text-align: right;\">\n",
       "      <th></th>\n",
       "      <th>ÀREA\\t</th>\n",
       "      <th>ÀREA_descripció</th>\n",
       "      <th>UNITAT</th>\n",
       "      <th>UNITAT_descripció</th>\n",
       "      <th>DEPARTAMENT</th>\n",
       "      <th>\\tDEPARTAMENT_descripció</th>\n",
       "    </tr>\n",
       "  </thead>\n",
       "  <tbody>\n",
       "    <tr>\n",
       "      <th>0</th>\n",
       "      <td>1</td>\n",
       "      <td>ALCALDIA</td>\n",
       "      <td>10</td>\n",
       "      <td>PRESIDÈNCIA</td>\n",
       "      <td>100</td>\n",
       "      <td>PRESIDENCIA</td>\n",
       "    </tr>\n",
       "    <tr>\n",
       "      <th>1</th>\n",
       "      <td>1</td>\n",
       "      <td>ALCALDIA</td>\n",
       "      <td>11</td>\n",
       "      <td>OFICINA DEFENSOR DE LA CIUTADANIA</td>\n",
       "      <td>110</td>\n",
       "      <td>OFICINA DEFENSOR DE LA CIUTADANIA</td>\n",
       "    </tr>\n",
       "    <tr>\n",
       "      <th>2</th>\n",
       "      <td>1</td>\n",
       "      <td>ALCALDIA</td>\n",
       "      <td>12</td>\n",
       "      <td>UMAT</td>\n",
       "      <td>120</td>\n",
       "      <td>UMAT</td>\n",
       "    </tr>\n",
       "    <tr>\n",
       "      <th>3</th>\n",
       "      <td>1</td>\n",
       "      <td>ALCALDIA</td>\n",
       "      <td>13</td>\n",
       "      <td>GESTIÓ DOCUMENTAL, ARXIUS I PUBLICACIONS</td>\n",
       "      <td>130</td>\n",
       "      <td>GESTIÓ DOCUMENTAL, ARXIU I PUBLICACIONS</td>\n",
       "    </tr>\n",
       "    <tr>\n",
       "      <th>4</th>\n",
       "      <td>1</td>\n",
       "      <td>ALCALDIA</td>\n",
       "      <td>14</td>\n",
       "      <td>DRETS SOCIALS</td>\n",
       "      <td>140</td>\n",
       "      <td>SERVEIS SOCIALS</td>\n",
       "    </tr>\n",
       "    <tr>\n",
       "      <th>5</th>\n",
       "      <td>1</td>\n",
       "      <td>ALCALDIA</td>\n",
       "      <td>14</td>\n",
       "      <td>DRETS SOCIALS</td>\n",
       "      <td>141</td>\n",
       "      <td>SERVEIS SOCIALS ATENCIÓ PRIMÀRIA</td>\n",
       "    </tr>\n",
       "    <tr>\n",
       "      <th>6</th>\n",
       "      <td>1</td>\n",
       "      <td>ALCALDIA</td>\n",
       "      <td>14</td>\n",
       "      <td>DRETS SOCIALS</td>\n",
       "      <td>142</td>\n",
       "      <td>SERVEIS SOCIALS ESPECIALITZATS</td>\n",
       "    </tr>\n",
       "    <tr>\n",
       "      <th>7</th>\n",
       "      <td>1</td>\n",
       "      <td>ALCALDIA</td>\n",
       "      <td>14</td>\n",
       "      <td>DRETS SOCIALS</td>\n",
       "      <td>143</td>\n",
       "      <td>CENTRES CÍVICS</td>\n",
       "    </tr>\n",
       "    <tr>\n",
       "      <th>8</th>\n",
       "      <td>1</td>\n",
       "      <td>ALCALDIA</td>\n",
       "      <td>14</td>\n",
       "      <td>DRETS SOCIALS</td>\n",
       "      <td>144</td>\n",
       "      <td>HABITATGE</td>\n",
       "    </tr>\n",
       "    <tr>\n",
       "      <th>9</th>\n",
       "      <td>1</td>\n",
       "      <td>ALCALDIA</td>\n",
       "      <td>14</td>\n",
       "      <td>DRETS SOCIALS</td>\n",
       "      <td>145</td>\n",
       "      <td>COOPERACIÓ</td>\n",
       "    </tr>\n",
       "    <tr>\n",
       "      <th>10</th>\n",
       "      <td>1</td>\n",
       "      <td>ALCALDIA</td>\n",
       "      <td>15</td>\n",
       "      <td>SEGURETAT CIUTADANA</td>\n",
       "      <td>150</td>\n",
       "      <td>SEGURETAT CIUTADANA</td>\n",
       "    </tr>\n",
       "    <tr>\n",
       "      <th>11</th>\n",
       "      <td>1</td>\n",
       "      <td>ALCALDIA</td>\n",
       "      <td>16</td>\n",
       "      <td>SALUT</td>\n",
       "      <td>160</td>\n",
       "      <td>SALUT</td>\n",
       "    </tr>\n",
       "    <tr>\n",
       "      <th>12</th>\n",
       "      <td>3</td>\n",
       "      <td>TERRITORI</td>\n",
       "      <td>30</td>\n",
       "      <td>URBANISME I ACTIVITATS</td>\n",
       "      <td>300</td>\n",
       "      <td>URBANISME I ACTIVITATS</td>\n",
       "    </tr>\n",
       "    <tr>\n",
       "      <th>13</th>\n",
       "      <td>3</td>\n",
       "      <td>TERRITORI</td>\n",
       "      <td>31</td>\n",
       "      <td>MOBILITAT I VIA PÚBLICA</td>\n",
       "      <td>310</td>\n",
       "      <td>MOBILITAT I VIA PÚBLICA</td>\n",
       "    </tr>\n",
       "    <tr>\n",
       "      <th>14</th>\n",
       "      <td>3</td>\n",
       "      <td>TERRITORI</td>\n",
       "      <td>32</td>\n",
       "      <td>MEDI AMBIENT</td>\n",
       "      <td>320</td>\n",
       "      <td>SOSTENIBILITAT</td>\n",
       "    </tr>\n",
       "    <tr>\n",
       "      <th>15</th>\n",
       "      <td>3</td>\n",
       "      <td>TERRITORI</td>\n",
       "      <td>32</td>\n",
       "      <td>MEDI AMBIENT</td>\n",
       "      <td>321</td>\n",
       "      <td>PARCS I JARDINS, PROTECCIÓ DEL MEDI</td>\n",
       "    </tr>\n",
       "    <tr>\n",
       "      <th>16</th>\n",
       "      <td>3</td>\n",
       "      <td>TERRITORI</td>\n",
       "      <td>32</td>\n",
       "      <td>MEDI AMBIENT</td>\n",
       "      <td>322</td>\n",
       "      <td>SERVEIS URBANS</td>\n",
       "    </tr>\n",
       "    <tr>\n",
       "      <th>17</th>\n",
       "      <td>3</td>\n",
       "      <td>TERRITORI</td>\n",
       "      <td>32</td>\n",
       "      <td>MEDI AMBIENT</td>\n",
       "      <td>323</td>\n",
       "      <td>QUALITAT AMBIENTAL I PROTECCIÓ DE LA SALUT</td>\n",
       "    </tr>\n",
       "    <tr>\n",
       "      <th>18</th>\n",
       "      <td>4</td>\n",
       "      <td>HISENDA I RÈGIM INTERIOR</td>\n",
       "      <td>40</td>\n",
       "      <td>HISENDA</td>\n",
       "      <td>400</td>\n",
       "      <td>HISENDA</td>\n",
       "    </tr>\n",
       "    <tr>\n",
       "      <th>19</th>\n",
       "      <td>4</td>\n",
       "      <td>HISENDA I RÈGIM INTERIOR</td>\n",
       "      <td>41</td>\n",
       "      <td>RÈGIM INTERIOR</td>\n",
       "      <td>410</td>\n",
       "      <td>RÈGIM INTERIOR</td>\n",
       "    </tr>\n",
       "    <tr>\n",
       "      <th>20</th>\n",
       "      <td>4</td>\n",
       "      <td>HISENDA I RÈGIM INTERIOR</td>\n",
       "      <td>41</td>\n",
       "      <td>RÈGIM INTERIOR</td>\n",
       "      <td>411</td>\n",
       "      <td>PATRIMONI</td>\n",
       "    </tr>\n",
       "    <tr>\n",
       "      <th>21</th>\n",
       "      <td>4</td>\n",
       "      <td>HISENDA I RÈGIM INTERIOR</td>\n",
       "      <td>41</td>\n",
       "      <td>RÈGIM INTERIOR</td>\n",
       "      <td>412</td>\n",
       "      <td>RECURSOS HUMANS</td>\n",
       "    </tr>\n",
       "    <tr>\n",
       "      <th>22</th>\n",
       "      <td>4</td>\n",
       "      <td>HISENDA I RÈGIM INTERIOR</td>\n",
       "      <td>41</td>\n",
       "      <td>RÈGIM INTERIOR</td>\n",
       "      <td>413</td>\n",
       "      <td>SERVEI DE SISTEMES I TECNOLOGIES DE LA INFORMACIÓ</td>\n",
       "    </tr>\n",
       "    <tr>\n",
       "      <th>23</th>\n",
       "      <td>4</td>\n",
       "      <td>HISENDA I RÈGIM INTERIOR</td>\n",
       "      <td>41</td>\n",
       "      <td>RÈGIM INTERIOR</td>\n",
       "      <td>414</td>\n",
       "      <td>REGISTRE GENERAL, ESTADÍSTICA I OIAC</td>\n",
       "    </tr>\n",
       "    <tr>\n",
       "      <th>24</th>\n",
       "      <td>5</td>\n",
       "      <td>ÀREA DRET A LES PERSONES</td>\n",
       "      <td>50</td>\n",
       "      <td>CULTURA</td>\n",
       "      <td>500</td>\n",
       "      <td>CULTURA</td>\n",
       "    </tr>\n",
       "    <tr>\n",
       "      <th>25</th>\n",
       "      <td>5</td>\n",
       "      <td>ÀREA DRET A LES PERSONES</td>\n",
       "      <td>50</td>\n",
       "      <td>CULTURA</td>\n",
       "      <td>501</td>\n",
       "      <td>BIBLIOTEQUES</td>\n",
       "    </tr>\n",
       "    <tr>\n",
       "      <th>26</th>\n",
       "      <td>5</td>\n",
       "      <td>ÀREA DRET A LES PERSONES</td>\n",
       "      <td>50</td>\n",
       "      <td>CULTURA</td>\n",
       "      <td>502</td>\n",
       "      <td>MUSEU D'HISTÒRIA DE GIRONA</td>\n",
       "    </tr>\n",
       "    <tr>\n",
       "      <th>27</th>\n",
       "      <td>5</td>\n",
       "      <td>ÀREA DRET A LES PERSONES</td>\n",
       "      <td>50</td>\n",
       "      <td>CULTURA</td>\n",
       "      <td>503</td>\n",
       "      <td>TEATRE MUNICIPAL</td>\n",
       "    </tr>\n",
       "    <tr>\n",
       "      <th>28</th>\n",
       "      <td>5</td>\n",
       "      <td>ÀREA DRET A LES PERSONES</td>\n",
       "      <td>50</td>\n",
       "      <td>CULTURA</td>\n",
       "      <td>504</td>\n",
       "      <td>LA MERCÈ</td>\n",
       "    </tr>\n",
       "    <tr>\n",
       "      <th>29</th>\n",
       "      <td>5</td>\n",
       "      <td>ÀREA DRET A LES PERSONES</td>\n",
       "      <td>50</td>\n",
       "      <td>CULTURA</td>\n",
       "      <td>505</td>\n",
       "      <td>BÒLIT- CENTRE ART CONTEMPORANI</td>\n",
       "    </tr>\n",
       "    <tr>\n",
       "      <th>30</th>\n",
       "      <td>5</td>\n",
       "      <td>ÀREA DRET A LES PERSONES</td>\n",
       "      <td>50</td>\n",
       "      <td>CULTURA</td>\n",
       "      <td>506</td>\n",
       "      <td>ESPAI MARFÀ</td>\n",
       "    </tr>\n",
       "    <tr>\n",
       "      <th>31</th>\n",
       "      <td>5</td>\n",
       "      <td>ÀREA DRET A LES PERSONES</td>\n",
       "      <td>50</td>\n",
       "      <td>CULTURA</td>\n",
       "      <td>507</td>\n",
       "      <td>DINAMITZACIÓ DEL TERRITORI</td>\n",
       "    </tr>\n",
       "    <tr>\n",
       "      <th>32</th>\n",
       "      <td>5</td>\n",
       "      <td>ÀREA DRET A LES PERSONES</td>\n",
       "      <td>50</td>\n",
       "      <td>CULTURA</td>\n",
       "      <td>508</td>\n",
       "      <td>JOVENTUT</td>\n",
       "    </tr>\n",
       "    <tr>\n",
       "      <th>33</th>\n",
       "      <td>5</td>\n",
       "      <td>ÀREA DRET A LES PERSONES</td>\n",
       "      <td>51</td>\n",
       "      <td>EDUCACIÓ, ESPORTS I SEGURETAT EN EL TREBALL</td>\n",
       "      <td>510</td>\n",
       "      <td>EDUCACIÓ</td>\n",
       "    </tr>\n",
       "    <tr>\n",
       "      <th>34</th>\n",
       "      <td>5</td>\n",
       "      <td>ÀREA DRET A LES PERSONES</td>\n",
       "      <td>51</td>\n",
       "      <td>EDUCACIÓ, ESPORTS I SEGURETAT EN EL TREBALL</td>\n",
       "      <td>511</td>\n",
       "      <td>ESPORTS</td>\n",
       "    </tr>\n",
       "    <tr>\n",
       "      <th>35</th>\n",
       "      <td>5</td>\n",
       "      <td>ÀREA DRET A LES PERSONES</td>\n",
       "      <td>51</td>\n",
       "      <td>EDUCACIÓ, ESPORTS I SEGURETAT EN EL TREBALL</td>\n",
       "      <td>512</td>\n",
       "      <td>SEGURETAT EN EL TREBALL</td>\n",
       "    </tr>\n",
       "    <tr>\n",
       "      <th>36</th>\n",
       "      <td>6</td>\n",
       "      <td>PROMOCIÓ ECONÒMICA DESENVOLUPAMENT LOCAL, TURI...</td>\n",
       "      <td>60</td>\n",
       "      <td>PROMOCIÓ ECONÒMICA DESENVOLUPAMENT LOCAL, TURI...</td>\n",
       "      <td>600</td>\n",
       "      <td>PROMOCIÓ ECONÒMICA</td>\n",
       "    </tr>\n",
       "    <tr>\n",
       "      <th>37</th>\n",
       "      <td>6</td>\n",
       "      <td>PROMOCIÓ ECONÒMICA DESENVOLUPAMENT LOCAL, TURI...</td>\n",
       "      <td>60</td>\n",
       "      <td>PROMOCIÓ ECONÒMICA DESENVOLUPAMENT LOCAL, TURI...</td>\n",
       "      <td>601</td>\n",
       "      <td>TURISME</td>\n",
       "    </tr>\n",
       "    <tr>\n",
       "      <th>38</th>\n",
       "      <td>6</td>\n",
       "      <td>PROMOCIÓ ECONÒMICA DESENVOLUPAMENT LOCAL, TURI...</td>\n",
       "      <td>60</td>\n",
       "      <td>PROMOCIÓ ECONÒMICA DESENVOLUPAMENT LOCAL, TURI...</td>\n",
       "      <td>602</td>\n",
       "      <td>EMPRESA</td>\n",
       "    </tr>\n",
       "    <tr>\n",
       "      <th>39</th>\n",
       "      <td>6</td>\n",
       "      <td>PROMOCIÓ ECONÒMICA DESENVOLUPAMENT LOCAL, TURI...</td>\n",
       "      <td>60</td>\n",
       "      <td>PROMOCIÓ ECONÒMICA DESENVOLUPAMENT LOCAL, TURI...</td>\n",
       "      <td>603</td>\n",
       "      <td>COMERÇ</td>\n",
       "    </tr>\n",
       "    <tr>\n",
       "      <th>40</th>\n",
       "      <td>6</td>\n",
       "      <td>PROMOCIÓ ECONÒMICA DESENVOLUPAMENT LOCAL, TURI...</td>\n",
       "      <td>60</td>\n",
       "      <td>PROMOCIÓ ECONÒMICA DESENVOLUPAMENT LOCAL, TURI...</td>\n",
       "      <td>604</td>\n",
       "      <td>SERVEI MUNICIPAL D'OCUPACIÓ</td>\n",
       "    </tr>\n",
       "    <tr>\n",
       "      <th>41</th>\n",
       "      <td>6</td>\n",
       "      <td>PROMOCIÓ ECONÒMICA DESENVOLUPAMENT LOCAL, TURI...</td>\n",
       "      <td>60</td>\n",
       "      <td>PROMOCIÓ ECONÒMICA DESENVOLUPAMENT LOCAL, TURI...</td>\n",
       "      <td>605</td>\n",
       "      <td>OFICINA MUNICIPAL ATENCIÓ AL CONSUMIDOR</td>\n",
       "    </tr>\n",
       "  </tbody>\n",
       "</table>\n",
       "</div>"
      ],
      "text/plain": [
       "    ÀREA\\t                                    ÀREA_descripció  UNITAT  \\\n",
       "0        1                                           ALCALDIA      10   \n",
       "1        1                                           ALCALDIA      11   \n",
       "2        1                                           ALCALDIA      12   \n",
       "3        1                                           ALCALDIA      13   \n",
       "4        1                                           ALCALDIA      14   \n",
       "5        1                                           ALCALDIA      14   \n",
       "6        1                                           ALCALDIA      14   \n",
       "7        1                                           ALCALDIA      14   \n",
       "8        1                                           ALCALDIA      14   \n",
       "9        1                                           ALCALDIA      14   \n",
       "10       1                                           ALCALDIA      15   \n",
       "11       1                                           ALCALDIA      16   \n",
       "12       3                                          TERRITORI      30   \n",
       "13       3                                          TERRITORI      31   \n",
       "14       3                                          TERRITORI      32   \n",
       "15       3                                          TERRITORI      32   \n",
       "16       3                                          TERRITORI      32   \n",
       "17       3                                          TERRITORI      32   \n",
       "18       4                           HISENDA I RÈGIM INTERIOR      40   \n",
       "19       4                           HISENDA I RÈGIM INTERIOR      41   \n",
       "20       4                           HISENDA I RÈGIM INTERIOR      41   \n",
       "21       4                           HISENDA I RÈGIM INTERIOR      41   \n",
       "22       4                           HISENDA I RÈGIM INTERIOR      41   \n",
       "23       4                           HISENDA I RÈGIM INTERIOR      41   \n",
       "24       5                           ÀREA DRET A LES PERSONES      50   \n",
       "25       5                           ÀREA DRET A LES PERSONES      50   \n",
       "26       5                           ÀREA DRET A LES PERSONES      50   \n",
       "27       5                           ÀREA DRET A LES PERSONES      50   \n",
       "28       5                           ÀREA DRET A LES PERSONES      50   \n",
       "29       5                           ÀREA DRET A LES PERSONES      50   \n",
       "30       5                           ÀREA DRET A LES PERSONES      50   \n",
       "31       5                           ÀREA DRET A LES PERSONES      50   \n",
       "32       5                           ÀREA DRET A LES PERSONES      50   \n",
       "33       5                           ÀREA DRET A LES PERSONES      51   \n",
       "34       5                           ÀREA DRET A LES PERSONES      51   \n",
       "35       5                           ÀREA DRET A LES PERSONES      51   \n",
       "36       6  PROMOCIÓ ECONÒMICA DESENVOLUPAMENT LOCAL, TURI...      60   \n",
       "37       6  PROMOCIÓ ECONÒMICA DESENVOLUPAMENT LOCAL, TURI...      60   \n",
       "38       6  PROMOCIÓ ECONÒMICA DESENVOLUPAMENT LOCAL, TURI...      60   \n",
       "39       6  PROMOCIÓ ECONÒMICA DESENVOLUPAMENT LOCAL, TURI...      60   \n",
       "40       6  PROMOCIÓ ECONÒMICA DESENVOLUPAMENT LOCAL, TURI...      60   \n",
       "41       6  PROMOCIÓ ECONÒMICA DESENVOLUPAMENT LOCAL, TURI...      60   \n",
       "\n",
       "                                    UNITAT_descripció  DEPARTAMENT  \\\n",
       "0                                         PRESIDÈNCIA          100   \n",
       "1                   OFICINA DEFENSOR DE LA CIUTADANIA          110   \n",
       "2                                                UMAT          120   \n",
       "3            GESTIÓ DOCUMENTAL, ARXIUS I PUBLICACIONS          130   \n",
       "4                                       DRETS SOCIALS          140   \n",
       "5                                       DRETS SOCIALS          141   \n",
       "6                                       DRETS SOCIALS          142   \n",
       "7                                       DRETS SOCIALS          143   \n",
       "8                                       DRETS SOCIALS          144   \n",
       "9                                       DRETS SOCIALS          145   \n",
       "10                                SEGURETAT CIUTADANA          150   \n",
       "11                                              SALUT          160   \n",
       "12                             URBANISME I ACTIVITATS          300   \n",
       "13                            MOBILITAT I VIA PÚBLICA          310   \n",
       "14                                       MEDI AMBIENT          320   \n",
       "15                                       MEDI AMBIENT          321   \n",
       "16                                       MEDI AMBIENT          322   \n",
       "17                                       MEDI AMBIENT          323   \n",
       "18                                            HISENDA          400   \n",
       "19                                     RÈGIM INTERIOR          410   \n",
       "20                                     RÈGIM INTERIOR          411   \n",
       "21                                     RÈGIM INTERIOR          412   \n",
       "22                                     RÈGIM INTERIOR          413   \n",
       "23                                     RÈGIM INTERIOR          414   \n",
       "24                                            CULTURA          500   \n",
       "25                                            CULTURA          501   \n",
       "26                                            CULTURA          502   \n",
       "27                                            CULTURA          503   \n",
       "28                                            CULTURA          504   \n",
       "29                                            CULTURA          505   \n",
       "30                                            CULTURA          506   \n",
       "31                                            CULTURA          507   \n",
       "32                                            CULTURA          508   \n",
       "33        EDUCACIÓ, ESPORTS I SEGURETAT EN EL TREBALL          510   \n",
       "34        EDUCACIÓ, ESPORTS I SEGURETAT EN EL TREBALL          511   \n",
       "35        EDUCACIÓ, ESPORTS I SEGURETAT EN EL TREBALL          512   \n",
       "36  PROMOCIÓ ECONÒMICA DESENVOLUPAMENT LOCAL, TURI...          600   \n",
       "37  PROMOCIÓ ECONÒMICA DESENVOLUPAMENT LOCAL, TURI...          601   \n",
       "38  PROMOCIÓ ECONÒMICA DESENVOLUPAMENT LOCAL, TURI...          602   \n",
       "39  PROMOCIÓ ECONÒMICA DESENVOLUPAMENT LOCAL, TURI...          603   \n",
       "40  PROMOCIÓ ECONÒMICA DESENVOLUPAMENT LOCAL, TURI...          604   \n",
       "41  PROMOCIÓ ECONÒMICA DESENVOLUPAMENT LOCAL, TURI...          605   \n",
       "\n",
       "                             \\tDEPARTAMENT_descripció  \n",
       "0                                         PRESIDENCIA  \n",
       "1                   OFICINA DEFENSOR DE LA CIUTADANIA  \n",
       "2                                                UMAT  \n",
       "3             GESTIÓ DOCUMENTAL, ARXIU I PUBLICACIONS  \n",
       "4                                     SERVEIS SOCIALS  \n",
       "5                    SERVEIS SOCIALS ATENCIÓ PRIMÀRIA  \n",
       "6                      SERVEIS SOCIALS ESPECIALITZATS  \n",
       "7                                      CENTRES CÍVICS  \n",
       "8                                           HABITATGE  \n",
       "9                                          COOPERACIÓ  \n",
       "10                                SEGURETAT CIUTADANA  \n",
       "11                                              SALUT  \n",
       "12                             URBANISME I ACTIVITATS  \n",
       "13                            MOBILITAT I VIA PÚBLICA  \n",
       "14                                     SOSTENIBILITAT  \n",
       "15                PARCS I JARDINS, PROTECCIÓ DEL MEDI  \n",
       "16                                     SERVEIS URBANS  \n",
       "17         QUALITAT AMBIENTAL I PROTECCIÓ DE LA SALUT  \n",
       "18                                            HISENDA  \n",
       "19                                     RÈGIM INTERIOR  \n",
       "20                                          PATRIMONI  \n",
       "21                                    RECURSOS HUMANS  \n",
       "22  SERVEI DE SISTEMES I TECNOLOGIES DE LA INFORMACIÓ  \n",
       "23               REGISTRE GENERAL, ESTADÍSTICA I OIAC  \n",
       "24                                            CULTURA  \n",
       "25                                       BIBLIOTEQUES  \n",
       "26                         MUSEU D'HISTÒRIA DE GIRONA  \n",
       "27                                   TEATRE MUNICIPAL  \n",
       "28                                           LA MERCÈ  \n",
       "29                     BÒLIT- CENTRE ART CONTEMPORANI  \n",
       "30                                        ESPAI MARFÀ  \n",
       "31                         DINAMITZACIÓ DEL TERRITORI  \n",
       "32                                           JOVENTUT  \n",
       "33                                           EDUCACIÓ  \n",
       "34                                            ESPORTS  \n",
       "35                            SEGURETAT EN EL TREBALL  \n",
       "36                                 PROMOCIÓ ECONÒMICA  \n",
       "37                                            TURISME  \n",
       "38                                            EMPRESA  \n",
       "39                                             COMERÇ  \n",
       "40                        SERVEI MUNICIPAL D'OCUPACIÓ  \n",
       "41            OFICINA MUNICIPAL ATENCIÓ AL CONSUMIDOR  "
      ]
     },
     "execution_count": 16,
     "metadata": {},
     "output_type": "execute_result"
    }
   ],
   "source": [
    "descripcion23"
   ]
  },
  {
   "cell_type": "code",
   "execution_count": 17,
   "id": "85652ce6",
   "metadata": {},
   "outputs": [],
   "source": [
    "cultura15 = pres15[(pres15['Orgànica'] == 120) | (pres15['Orgànica'] == 121) | (pres15['Orgànica'] == 122) | (pres15['Orgànica'] == 123) | (pres15['Orgànica'] == 124) | (pres15['Orgànica'] == 125) | (pres15['Orgànica'] == 126)]\n",
    "cultura16 = pres16[(pres16['Orgànica'] == 120) | (pres16['Orgànica'] == 121) | (pres16['Orgànica'] == 122) | (pres16['Orgànica'] == 123) | (pres16['Orgànica'] == 124) | (pres16['Orgànica'] == 125) | (pres16['Orgànica'] == 126)]\n",
    "cultura17 = pres17[(pres17['Orgànica'] == 120) | (pres17['Orgànica'] == 121) | (pres17['Orgànica'] == 122) | (pres17['Orgànica'] == 123) | (pres17['Orgànica'] == 124) | (pres17['Orgànica'] == 125) | (pres17['Orgànica'] == 126) | (pres17['Orgànica'] == 800) | (pres17['Orgànica'] == 801) | (pres17['Orgànica'] == 802) | (pres17['Orgànica'] == 803) | (pres17['Orgànica'] == 804) | (pres17['Orgànica'] == 805) | (pres17['Orgànica'] == 806)]\n",
    "cultura18 = pres18[(pres18['Orgànica'] == 500) | (pres18['Orgànica'] == 501) | (pres18['Orgànica'] == 502) | (pres18['Orgànica'] == 503) | (pres18['Orgànica'] == 504) | (pres18['Orgànica'] == 505) | (pres18['Orgànica'] == 506) | (pres18['Orgànica'] == 120)]\n",
    "cultura19 = pres19[(pres19['Orgànica'] == 500) | (pres19['Orgànica'] == 501) | (pres19['Orgànica'] == 502) | (pres19['Orgànica'] == 503) | (pres19['Orgànica'] == 504) | (pres19['Orgànica'] == 505) | (pres19['Orgànica'] == 506) | (pres19['Orgànica'] == 120)]\n",
    "cultura20 = pres20[(pres20['Orgànica'] == 500) | (pres20['Orgànica'] == 501) | (pres20['Orgànica'] == 502) | (pres20['Orgànica'] == 503) | (pres20['Orgànica'] == 504) | (pres20['Orgànica'] == 505) | (pres20['Orgànica'] == 506) | (pres20['Orgànica'] == 507)]\n",
    "cultura21 = pres21[(pres21['Orgànica'] == 500) | (pres21['Orgànica'] == 501) | (pres21['Orgànica'] == 502) | (pres21['Orgànica'] == 503) | (pres21['Orgànica'] == 504) | (pres21['Orgànica'] == 505) | (pres21['Orgànica'] == 506) | (pres21['Orgànica'] == 507)]\n",
    "cultura22 = pres22[(pres22['Orgànica'] == 500) | (pres22['Orgànica'] == 501) | (pres22['Orgànica'] == 502) | (pres22['Orgànica'] == 503) | (pres22['Orgànica'] == 504) | (pres22['Orgànica'] == 505) | (pres22['Orgànica'] == 506) | (pres22['Orgànica'] == 507)]\n",
    "cultura23 = pres23[(pres23['Orgànica'] == 500) | (pres23['Orgànica'] == 501) | (pres23['Orgànica'] == 502) | (pres23['Orgànica'] == 503) | (pres23['Orgànica'] == 504) | (pres23['Orgànica'] == 505) | (pres23['Orgànica'] == 506) | (pres23['Orgànica'] == 507)]"
   ]
  },
  {
   "cell_type": "markdown",
   "id": "8f95c904",
   "metadata": {},
   "source": [
    "Una vez guardadas las partidas destinadas a cultura año por año, pasamos a guardar la suma económica anual en un *array* para poder crear un gráfico de barras con Matplotlib y Plotly."
   ]
  },
  {
   "cell_type": "code",
   "execution_count": 18,
   "id": "f1c35cdb",
   "metadata": {},
   "outputs": [],
   "source": [
    "creditoscultura = [cultura15['Crèdits totals consignats'].sum(),\n",
    "           cultura16['Crèdits totals consignats'].sum(),\n",
    "           cultura17['Crèdits totals consignats'].sum(),\n",
    "           cultura18['Crèdits totals consignats'].sum(),\n",
    "           cultura19['Crèdits totals consignats'].sum(),\n",
    "           cultura20['Crèdits totals consignats'].sum(),\n",
    "           cultura21['Crèdits totals consignats'].sum(),\n",
    "           cultura22['Crèdits totals consignats'].sum(),\n",
    "           cultura23['Crèdits totals consignats'].sum()]"
   ]
  },
  {
   "cell_type": "markdown",
   "id": "a1b97496",
   "metadata": {},
   "source": [
    "Reciclaremos el código que hemos escrito en el apartado de *Turismo* cambiando la variable *creditosturismo* por *creditoscultura*."
   ]
  },
  {
   "cell_type": "markdown",
   "id": "131d2503",
   "metadata": {},
   "source": [
    "### Gráfico de barras con Matplotlib"
   ]
  },
  {
   "cell_type": "code",
   "execution_count": 19,
   "id": "e81c0a32",
   "metadata": {},
   "outputs": [
    {
     "data": {
      "image/png": "[encoded data removed]",
      "text/plain": [
       "<Figure size 800x500 with 1 Axes>"
      ]
     },
     "metadata": {},
     "output_type": "display_data"
    },
    {
     "data": {
      "text/plain": [
       "<Figure size 640x480 with 0 Axes>"
      ]
     },
     "metadata": {},
     "output_type": "display_data"
    }
   ],
   "source": [
    "#!pip install matplotlib\n",
    "import matplotlib.pyplot as plt\n",
    "plt.figure(figsize=(8, 5))\n",
    "plt.bar(años, creditoscultura, color = \"#f4a460\")\n",
    "plt.xlabel('Años muestra')\n",
    "plt.ylabel('Dinero destinado')\n",
    "plt.title('Dinero destinado a promover la cultura en los presupuestos del ayuntamiento de Girona')\n",
    "plt.xticks(rotation=45)\n",
    "plt.ticklabel_format(axis='y', style='plain') #Para que no nos muestre las cifras en formato científico.\n",
    "plt.show() #Para mostrar el gráfico\n",
    "plt.tight_layout()  # Para evitar recorte de etiquetas\n",
    "#plt.savefig('../images/presupuestocultura1523.svg', format='svg') #para guardar el gráfico en formato svg"
   ]
  },
  {
   "cell_type": "markdown",
   "id": "8a61a27c",
   "metadata": {},
   "source": [
    "### Gráfico de barras interactivo con Plotly"
   ]
  },
  {
   "cell_type": "code",
   "execution_count": 20,
   "id": "1a0dce87",
   "metadata": {},
   "outputs": [
    {
     "data": {
      "text/html": [
       "        <script type=\"text/javascript\">\n",
       "        window.PlotlyConfig = {MathJaxConfig: 'local'};\n",
       "        if (window.MathJax && window.MathJax.Hub && window.MathJax.Hub.Config) {window.MathJax.Hub.Config({SVG: {font: \"STIX-Web\"}});}\n",
       "        if (typeof require !== 'undefined') {\n",
       "        require.undef(\"plotly\");\n",
       "        requirejs.config({\n",
       "            paths: {\n",
       "                'plotly': ['https://cdn.plot.ly/plotly-2.25.2.min']\n",
       "            }\n",
       "        });\n",
       "        require(['plotly'], function(Plotly) {\n",
       "            window._Plotly = Plotly;\n",
       "        });\n",
       "        }\n",
       "        </script>\n",
       "        "
      ]
     },
     "metadata": {},
     "output_type": "display_data"
    },
    {
     "data": {
      "application/vnd.plotly.v1+json": {
       "config": {
        "linkText": "Export to plot.ly",
        "plotlyServerURL": "https://plot.ly",
        "showLink": false
       },
       "data": [
        {
         "marker": {
          "color": "#f4a460"
         },
         "name": "Numero",
         "type": "bar",
         "x": [
          "2015",
          "2016",
          "2017",
          "2018",
          "2019",
          "2020",
          "2021",
          "2022",
          "2023"
         ],
         "y": [
          10544263.819999998,
          11288650.93,
          12048672.32,
          12261326.209999997,
          12550243.28,
          12326067.66,
          13765421.9,
          13804177.130000003,
          15082603.23
         ]
        }
       ],
       "layout": {
        "font": {
         "color": "black"
        },
        "plot_bgcolor": "white",
        "template": {
         "data": {
          "bar": [
           {
            "error_x": {
             "color": "#2a3f5f"
            },
            "error_y": {
             "color": "#2a3f5f"
            },
            "marker": {
             "line": {
              "color": "#E5ECF6",
              "width": 0.5
             },
             "pattern": {
              "fillmode": "overlay",
              "size": 10,
              "solidity": 0.2
             }
            },
            "type": "bar"
           }
          ],
          "barpolar": [
           {
            "marker": {
             "line": {
              "color": "#E5ECF6",
              "width": 0.5
             },
             "pattern": {
              "fillmode": "overlay",
              "size": 10,
              "solidity": 0.2
             }
            },
            "type": "barpolar"
           }
          ],
          "carpet": [
           {
            "aaxis": {
             "endlinecolor": "#2a3f5f",
             "gridcolor": "white",
             "linecolor": "white",
             "minorgridcolor": "white",
             "startlinecolor": "#2a3f5f"
            },
            "baxis": {
             "endlinecolor": "#2a3f5f",
             "gridcolor": "white",
             "linecolor": "white",
             "minorgridcolor": "white",
             "startlinecolor": "#2a3f5f"
            },
            "type": "carpet"
           }
          ],
          "choropleth": [
           {
            "colorbar": {
             "outlinewidth": 0,
             "ticks": ""
            },
            "type": "choropleth"
           }
          ],
          "contour": [
           {
            "colorbar": {
             "outlinewidth": 0,
             "ticks": ""
            },
            "colorscale": [
             [
              0,
              "#0d0887"
             ],
             [
              0.1111111111111111,
              "#46039f"
             ],
             [
              0.2222222222222222,
              "#7201a8"
             ],
             [
              0.3333333333333333,
              "#9c179e"
             ],
             [
              0.4444444444444444,
              "#bd3786"
             ],
             [
              0.5555555555555556,
              "#d8576b"
             ],
             [
              0.6666666666666666,
              "#ed7953"
             ],
             [
              0.7777777777777778,
              "#fb9f3a"
             ],
             [
              0.8888888888888888,
              "#fdca26"
             ],
             [
              1,
              "#f0f921"
             ]
            ],
            "type": "contour"
           }
          ],
          "contourcarpet": [
           {
            "colorbar": {
             "outlinewidth": 0,
             "ticks": ""
            },
            "type": "contourcarpet"
           }
          ],
          "heatmap": [
           {
            "colorbar": {
             "outlinewidth": 0,
             "ticks": ""
            },
            "colorscale": [
             [
              0,
              "#0d0887"
             ],
             [
              0.1111111111111111,
              "#46039f"
             ],
             [
              0.2222222222222222,
              "#7201a8"
             ],
             [
              0.3333333333333333,
              "#9c179e"
             ],
             [
              0.4444444444444444,
              "#bd3786"
             ],
             [
              0.5555555555555556,
              "#d8576b"
             ],
             [
              0.6666666666666666,
              "#ed7953"
             ],
             [
              0.7777777777777778,
              "#fb9f3a"
             ],
             [
              0.8888888888888888,
              "#fdca26"
             ],
             [
              1,
              "#f0f921"
             ]
            ],
            "type": "heatmap"
           }
          ],
          "heatmapgl": [
           {
            "colorbar": {
             "outlinewidth": 0,
             "ticks": ""
            },
            "colorscale": [
             [
              0,
              "#0d0887"
             ],
             [
              0.1111111111111111,
              "#46039f"
             ],
             [
              0.2222222222222222,
              "#7201a8"
             ],
             [
              0.3333333333333333,
              "#9c179e"
             ],
             [
              0.4444444444444444,
              "#bd3786"
             ],
             [
              0.5555555555555556,
              "#d8576b"
             ],
             [
              0.6666666666666666,
              "#ed7953"
             ],
             [
              0.7777777777777778,
              "#fb9f3a"
             ],
             [
              0.8888888888888888,
              "#fdca26"
             ],
             [
              1,
              "#f0f921"
             ]
            ],
            "type": "heatmapgl"
           }
          ],
          "histogram": [
           {
            "marker": {
             "pattern": {
              "fillmode": "overlay",
              "size": 10,
              "solidity": 0.2
             }
            },
            "type": "histogram"
           }
          ],
          "histogram2d": [
           {
            "colorbar": {
             "outlinewidth": 0,
             "ticks": ""
            },
            "colorscale": [
             [
              0,
              "#0d0887"
             ],
             [
              0.1111111111111111,
              "#46039f"
             ],
             [
              0.2222222222222222,
              "#7201a8"
             ],
             [
              0.3333333333333333,
              "#9c179e"
             ],
             [
              0.4444444444444444,
              "#bd3786"
             ],
             [
              0.5555555555555556,
              "#d8576b"
             ],
             [
              0.6666666666666666,
              "#ed7953"
             ],
             [
              0.7777777777777778,
              "#fb9f3a"
             ],
             [
              0.8888888888888888,
              "#fdca26"
             ],
             [
              1,
              "#f0f921"
             ]
            ],
            "type": "histogram2d"
           }
          ],
          "histogram2dcontour": [
           {
            "colorbar": {
             "outlinewidth": 0,
             "ticks": ""
            },
            "colorscale": [
             [
              0,
              "#0d0887"
             ],
             [
              0.1111111111111111,
              "#46039f"
             ],
             [
              0.2222222222222222,
              "#7201a8"
             ],
             [
              0.3333333333333333,
              "#9c179e"
             ],
             [
              0.4444444444444444,
              "#bd3786"
             ],
             [
              0.5555555555555556,
              "#d8576b"
             ],
             [
              0.6666666666666666,
              "#ed7953"
             ],
             [
              0.7777777777777778,
              "#fb9f3a"
             ],
             [
              0.8888888888888888,
              "#fdca26"
             ],
             [
              1,
              "#f0f921"
             ]
            ],
            "type": "histogram2dcontour"
           }
          ],
          "mesh3d": [
           {
            "colorbar": {
             "outlinewidth": 0,
             "ticks": ""
            },
            "type": "mesh3d"
           }
          ],
          "parcoords": [
           {
            "line": {
             "colorbar": {
              "outlinewidth": 0,
              "ticks": ""
             }
            },
            "type": "parcoords"
           }
          ],
          "pie": [
           {
            "automargin": true,
            "type": "pie"
           }
          ],
          "scatter": [
           {
            "fillpattern": {
             "fillmode": "overlay",
             "size": 10,
             "solidity": 0.2
            },
            "type": "scatter"
           }
          ],
          "scatter3d": [
           {
            "line": {
             "colorbar": {
              "outlinewidth": 0,
              "ticks": ""
             }
            },
            "marker": {
             "colorbar": {
              "outlinewidth": 0,
              "ticks": ""
             }
            },
            "type": "scatter3d"
           }
          ],
          "scattercarpet": [
           {
            "marker": {
             "colorbar": {
              "outlinewidth": 0,
              "ticks": ""
             }
            },
            "type": "scattercarpet"
           }
          ],
          "scattergeo": [
           {
            "marker": {
             "colorbar": {
              "outlinewidth": 0,
              "ticks": ""
             }
            },
            "type": "scattergeo"
           }
          ],
          "scattergl": [
           {
            "marker": {
             "colorbar": {
              "outlinewidth": 0,
              "ticks": ""
             }
            },
            "type": "scattergl"
           }
          ],
          "scattermapbox": [
           {
            "marker": {
             "colorbar": {
              "outlinewidth": 0,
              "ticks": ""
             }
            },
            "type": "scattermapbox"
           }
          ],
          "scatterpolar": [
           {
            "marker": {
             "colorbar": {
              "outlinewidth": 0,
              "ticks": ""
             }
            },
            "type": "scatterpolar"
           }
          ],
          "scatterpolargl": [
           {
            "marker": {
             "colorbar": {
              "outlinewidth": 0,
              "ticks": ""
             }
            },
            "type": "scatterpolargl"
           }
          ],
          "scatterternary": [
           {
            "marker": {
             "colorbar": {
              "outlinewidth": 0,
              "ticks": ""
             }
            },
            "type": "scatterternary"
           }
          ],
          "surface": [
           {
            "colorbar": {
             "outlinewidth": 0,
             "ticks": ""
            },
            "colorscale": [
             [
              0,
              "#0d0887"
             ],
             [
              0.1111111111111111,
              "#46039f"
             ],
             [
              0.2222222222222222,
              "#7201a8"
             ],
             [
              0.3333333333333333,
              "#9c179e"
             ],
             [
              0.4444444444444444,
              "#bd3786"
             ],
             [
              0.5555555555555556,
              "#d8576b"
             ],
             [
              0.6666666666666666,
              "#ed7953"
             ],
             [
              0.7777777777777778,
              "#fb9f3a"
             ],
             [
              0.8888888888888888,
              "#fdca26"
             ],
             [
              1,
              "#f0f921"
             ]
            ],
            "type": "surface"
           }
          ],
          "table": [
           {
            "cells": {
             "fill": {
              "color": "#EBF0F8"
             },
             "line": {
              "color": "white"
             }
            },
            "header": {
             "fill": {
              "color": "#C8D4E3"
             },
             "line": {
              "color": "white"
             }
            },
            "type": "table"
           }
          ]
         },
         "layout": {
          "annotationdefaults": {
           "arrowcolor": "#2a3f5f",
           "arrowhead": 0,
           "arrowwidth": 1
          },
          "autotypenumbers": "strict",
          "coloraxis": {
           "colorbar": {
            "outlinewidth": 0,
            "ticks": ""
           }
          },
          "colorscale": {
           "diverging": [
            [
             0,
             "#8e0152"
            ],
            [
             0.1,
             "#c51b7d"
            ],
            [
             0.2,
             "#de77ae"
            ],
            [
             0.3,
             "#f1b6da"
            ],
            [
             0.4,
             "#fde0ef"
            ],
            [
             0.5,
             "#f7f7f7"
            ],
            [
             0.6,
             "#e6f5d0"
            ],
            [
             0.7,
             "#b8e186"
            ],
            [
             0.8,
             "#7fbc41"
            ],
            [
             0.9,
             "#4d9221"
            ],
            [
             1,
             "#276419"
            ]
           ],
           "sequential": [
            [
             0,
             "#0d0887"
            ],
            [
             0.1111111111111111,
             "#46039f"
            ],
            [
             0.2222222222222222,
             "#7201a8"
            ],
            [
             0.3333333333333333,
             "#9c179e"
            ],
            [
             0.4444444444444444,
             "#bd3786"
            ],
            [
             0.5555555555555556,
             "#d8576b"
            ],
            [
             0.6666666666666666,
             "#ed7953"
            ],
            [
             0.7777777777777778,
             "#fb9f3a"
            ],
            [
             0.8888888888888888,
             "#fdca26"
            ],
            [
             1,
             "#f0f921"
            ]
           ],
           "sequentialminus": [
            [
             0,
             "#0d0887"
            ],
            [
             0.1111111111111111,
             "#46039f"
            ],
            [
             0.2222222222222222,
             "#7201a8"
            ],
            [
             0.3333333333333333,
             "#9c179e"
            ],
            [
             0.4444444444444444,
             "#bd3786"
            ],
            [
             0.5555555555555556,
             "#d8576b"
            ],
            [
             0.6666666666666666,
             "#ed7953"
            ],
            [
             0.7777777777777778,
             "#fb9f3a"
            ],
            [
             0.8888888888888888,
             "#fdca26"
            ],
            [
             1,
             "#f0f921"
            ]
           ]
          },
          "colorway": [
           "#636efa",
           "#EF553B",
           "#00cc96",
           "#ab63fa",
           "#FFA15A",
           "#19d3f3",
           "#FF6692",
           "#B6E880",
           "#FF97FF",
           "#FECB52"
          ],
          "font": {
           "color": "#2a3f5f"
          },
          "geo": {
           "bgcolor": "white",
           "lakecolor": "white",
           "landcolor": "#E5ECF6",
           "showlakes": true,
           "showland": true,
           "subunitcolor": "white"
          },
          "hoverlabel": {
           "align": "left"
          },
          "hovermode": "closest",
          "mapbox": {
           "style": "light"
          },
          "paper_bgcolor": "white",
          "plot_bgcolor": "#E5ECF6",
          "polar": {
           "angularaxis": {
            "gridcolor": "white",
            "linecolor": "white",
            "ticks": ""
           },
           "bgcolor": "#E5ECF6",
           "radialaxis": {
            "gridcolor": "white",
            "linecolor": "white",
            "ticks": ""
           }
          },
          "scene": {
           "xaxis": {
            "backgroundcolor": "#E5ECF6",
            "gridcolor": "white",
            "gridwidth": 2,
            "linecolor": "white",
            "showbackground": true,
            "ticks": "",
            "zerolinecolor": "white"
           },
           "yaxis": {
            "backgroundcolor": "#E5ECF6",
            "gridcolor": "white",
            "gridwidth": 2,
            "linecolor": "white",
            "showbackground": true,
            "ticks": "",
            "zerolinecolor": "white"
           },
           "zaxis": {
            "backgroundcolor": "#E5ECF6",
            "gridcolor": "white",
            "gridwidth": 2,
            "linecolor": "white",
            "showbackground": true,
            "ticks": "",
            "zerolinecolor": "white"
           }
          },
          "shapedefaults": {
           "line": {
            "color": "#2a3f5f"
           }
          },
          "ternary": {
           "aaxis": {
            "gridcolor": "white",
            "linecolor": "white",
            "ticks": ""
           },
           "baxis": {
            "gridcolor": "white",
            "linecolor": "white",
            "ticks": ""
           },
           "bgcolor": "#E5ECF6",
           "caxis": {
            "gridcolor": "white",
            "linecolor": "white",
            "ticks": ""
           }
          },
          "title": {
           "x": 0.05
          },
          "xaxis": {
           "automargin": true,
           "gridcolor": "white",
           "linecolor": "white",
           "ticks": "",
           "title": {
            "standoff": 15
           },
           "zerolinecolor": "white",
           "zerolinewidth": 2
          },
          "yaxis": {
           "automargin": true,
           "gridcolor": "white",
           "linecolor": "white",
           "ticks": "",
           "title": {
            "standoff": 15
           },
           "zerolinecolor": "white",
           "zerolinewidth": 2
          }
         }
        },
        "title": {
         "text": "Dinero destinado a promover la cultura en los presupuestos del ayuntamiento de Girona"
        },
        "xaxis": {
         "dtick": 1,
         "tick0": 2021,
         "tickmode": "linear"
        }
       }
      },
      "text/html": [
       "<div>                            <div id=\"760d34f2-2fe8-4ab9-af9e-8923f366ddb8\" class=\"plotly-graph-div\" style=\"height:525px; width:100%;\"></div>            <script type=\"text/javascript\">                require([\"plotly\"], function(Plotly) {                    window.PLOTLYENV=window.PLOTLYENV || {};                                    if (document.getElementById(\"760d34f2-2fe8-4ab9-af9e-8923f366ddb8\")) {                    Plotly.newPlot(                        \"760d34f2-2fe8-4ab9-af9e-8923f366ddb8\",                        [{\"marker\":{\"color\":\"#f4a460\"},\"name\":\"Numero\",\"x\":[\"2015\",\"2016\",\"2017\",\"2018\",\"2019\",\"2020\",\"2021\",\"2022\",\"2023\"],\"y\":[10544263.819999998,11288650.93,12048672.32,12261326.209999997,12550243.28,12326067.66,13765421.9,13804177.130000003,15082603.23],\"type\":\"bar\"}],                        {\"font\":{\"color\":\"black\"},\"plot_bgcolor\":\"white\",\"template\":{\"data\":{\"barpolar\":[{\"marker\":{\"line\":{\"color\":\"#E5ECF6\",\"width\":0.5},\"pattern\":{\"fillmode\":\"overlay\",\"size\":10,\"solidity\":0.2}},\"type\":\"barpolar\"}],\"bar\":[{\"error_x\":{\"color\":\"#2a3f5f\"},\"error_y\":{\"color\":\"#2a3f5f\"},\"marker\":{\"line\":{\"color\":\"#E5ECF6\",\"width\":0.5},\"pattern\":{\"fillmode\":\"overlay\",\"size\":10,\"solidity\":0.2}},\"type\":\"bar\"}],\"carpet\":[{\"aaxis\":{\"endlinecolor\":\"#2a3f5f\",\"gridcolor\":\"white\",\"linecolor\":\"white\",\"minorgridcolor\":\"white\",\"startlinecolor\":\"#2a3f5f\"},\"baxis\":{\"endlinecolor\":\"#2a3f5f\",\"gridcolor\":\"white\",\"linecolor\":\"white\",\"minorgridcolor\":\"white\",\"startlinecolor\":\"#2a3f5f\"},\"type\":\"carpet\"}],\"choropleth\":[{\"colorbar\":{\"outlinewidth\":0,\"ticks\":\"\"},\"type\":\"choropleth\"}],\"contourcarpet\":[{\"colorbar\":{\"outlinewidth\":0,\"ticks\":\"\"},\"type\":\"contourcarpet\"}],\"contour\":[{\"colorbar\":{\"outlinewidth\":0,\"ticks\":\"\"},\"colorscale\":[[0.0,\"#0d0887\"],[0.1111111111111111,\"#46039f\"],[0.2222222222222222,\"#7201a8\"],[0.3333333333333333,\"#9c179e\"],[0.4444444444444444,\"#bd3786\"],[0.5555555555555556,\"#d8576b\"],[0.6666666666666666,\"#ed7953\"],[0.7777777777777778,\"#fb9f3a\"],[0.8888888888888888,\"#fdca26\"],[1.0,\"#f0f921\"]],\"type\":\"contour\"}],\"heatmapgl\":[{\"colorbar\":{\"outlinewidth\":0,\"ticks\":\"\"},\"colorscale\":[[0.0,\"#0d0887\"],[0.1111111111111111,\"#46039f\"],[0.2222222222222222,\"#7201a8\"],[0.3333333333333333,\"#9c179e\"],[0.4444444444444444,\"#bd3786\"],[0.5555555555555556,\"#d8576b\"],[0.6666666666666666,\"#ed7953\"],[0.7777777777777778,\"#fb9f3a\"],[0.8888888888888888,\"#fdca26\"],[1.0,\"#f0f921\"]],\"type\":\"heatmapgl\"}],\"heatmap\":[{\"colorbar\":{\"outlinewidth\":0,\"ticks\":\"\"},\"colorscale\":[[0.0,\"#0d0887\"],[0.1111111111111111,\"#46039f\"],[0.2222222222222222,\"#7201a8\"],[0.3333333333333333,\"#9c179e\"],[0.4444444444444444,\"#bd3786\"],[0.5555555555555556,\"#d8576b\"],[0.6666666666666666,\"#ed7953\"],[0.7777777777777778,\"#fb9f3a\"],[0.8888888888888888,\"#fdca26\"],[1.0,\"#f0f921\"]],\"type\":\"heatmap\"}],\"histogram2dcontour\":[{\"colorbar\":{\"outlinewidth\":0,\"ticks\":\"\"},\"colorscale\":[[0.0,\"#0d0887\"],[0.1111111111111111,\"#46039f\"],[0.2222222222222222,\"#7201a8\"],[0.3333333333333333,\"#9c179e\"],[0.4444444444444444,\"#bd3786\"],[0.5555555555555556,\"#d8576b\"],[0.6666666666666666,\"#ed7953\"],[0.7777777777777778,\"#fb9f3a\"],[0.8888888888888888,\"#fdca26\"],[1.0,\"#f0f921\"]],\"type\":\"histogram2dcontour\"}],\"histogram2d\":[{\"colorbar\":{\"outlinewidth\":0,\"ticks\":\"\"},\"colorscale\":[[0.0,\"#0d0887\"],[0.1111111111111111,\"#46039f\"],[0.2222222222222222,\"#7201a8\"],[0.3333333333333333,\"#9c179e\"],[0.4444444444444444,\"#bd3786\"],[0.5555555555555556,\"#d8576b\"],[0.6666666666666666,\"#ed7953\"],[0.7777777777777778,\"#fb9f3a\"],[0.8888888888888888,\"#fdca26\"],[1.0,\"#f0f921\"]],\"type\":\"histogram2d\"}],\"histogram\":[{\"marker\":{\"pattern\":{\"fillmode\":\"overlay\",\"size\":10,\"solidity\":0.2}},\"type\":\"histogram\"}],\"mesh3d\":[{\"colorbar\":{\"outlinewidth\":0,\"ticks\":\"\"},\"type\":\"mesh3d\"}],\"parcoords\":[{\"line\":{\"colorbar\":{\"outlinewidth\":0,\"ticks\":\"\"}},\"type\":\"parcoords\"}],\"pie\":[{\"automargin\":true,\"type\":\"pie\"}],\"scatter3d\":[{\"line\":{\"colorbar\":{\"outlinewidth\":0,\"ticks\":\"\"}},\"marker\":{\"colorbar\":{\"outlinewidth\":0,\"ticks\":\"\"}},\"type\":\"scatter3d\"}],\"scattercarpet\":[{\"marker\":{\"colorbar\":{\"outlinewidth\":0,\"ticks\":\"\"}},\"type\":\"scattercarpet\"}],\"scattergeo\":[{\"marker\":{\"colorbar\":{\"outlinewidth\":0,\"ticks\":\"\"}},\"type\":\"scattergeo\"}],\"scattergl\":[{\"marker\":{\"colorbar\":{\"outlinewidth\":0,\"ticks\":\"\"}},\"type\":\"scattergl\"}],\"scattermapbox\":[{\"marker\":{\"colorbar\":{\"outlinewidth\":0,\"ticks\":\"\"}},\"type\":\"scattermapbox\"}],\"scatterpolargl\":[{\"marker\":{\"colorbar\":{\"outlinewidth\":0,\"ticks\":\"\"}},\"type\":\"scatterpolargl\"}],\"scatterpolar\":[{\"marker\":{\"colorbar\":{\"outlinewidth\":0,\"ticks\":\"\"}},\"type\":\"scatterpolar\"}],\"scatter\":[{\"fillpattern\":{\"fillmode\":\"overlay\",\"size\":10,\"solidity\":0.2},\"type\":\"scatter\"}],\"scatterternary\":[{\"marker\":{\"colorbar\":{\"outlinewidth\":0,\"ticks\":\"\"}},\"type\":\"scatterternary\"}],\"surface\":[{\"colorbar\":{\"outlinewidth\":0,\"ticks\":\"\"},\"colorscale\":[[0.0,\"#0d0887\"],[0.1111111111111111,\"#46039f\"],[0.2222222222222222,\"#7201a8\"],[0.3333333333333333,\"#9c179e\"],[0.4444444444444444,\"#bd3786\"],[0.5555555555555556,\"#d8576b\"],[0.6666666666666666,\"#ed7953\"],[0.7777777777777778,\"#fb9f3a\"],[0.8888888888888888,\"#fdca26\"],[1.0,\"#f0f921\"]],\"type\":\"surface\"}],\"table\":[{\"cells\":{\"fill\":{\"color\":\"#EBF0F8\"},\"line\":{\"color\":\"white\"}},\"header\":{\"fill\":{\"color\":\"#C8D4E3\"},\"line\":{\"color\":\"white\"}},\"type\":\"table\"}]},\"layout\":{\"annotationdefaults\":{\"arrowcolor\":\"#2a3f5f\",\"arrowhead\":0,\"arrowwidth\":1},\"autotypenumbers\":\"strict\",\"coloraxis\":{\"colorbar\":{\"outlinewidth\":0,\"ticks\":\"\"}},\"colorscale\":{\"diverging\":[[0,\"#8e0152\"],[0.1,\"#c51b7d\"],[0.2,\"#de77ae\"],[0.3,\"#f1b6da\"],[0.4,\"#fde0ef\"],[0.5,\"#f7f7f7\"],[0.6,\"#e6f5d0\"],[0.7,\"#b8e186\"],[0.8,\"#7fbc41\"],[0.9,\"#4d9221\"],[1,\"#276419\"]],\"sequential\":[[0.0,\"#0d0887\"],[0.1111111111111111,\"#46039f\"],[0.2222222222222222,\"#7201a8\"],[0.3333333333333333,\"#9c179e\"],[0.4444444444444444,\"#bd3786\"],[0.5555555555555556,\"#d8576b\"],[0.6666666666666666,\"#ed7953\"],[0.7777777777777778,\"#fb9f3a\"],[0.8888888888888888,\"#fdca26\"],[1.0,\"#f0f921\"]],\"sequentialminus\":[[0.0,\"#0d0887\"],[0.1111111111111111,\"#46039f\"],[0.2222222222222222,\"#7201a8\"],[0.3333333333333333,\"#9c179e\"],[0.4444444444444444,\"#bd3786\"],[0.5555555555555556,\"#d8576b\"],[0.6666666666666666,\"#ed7953\"],[0.7777777777777778,\"#fb9f3a\"],[0.8888888888888888,\"#fdca26\"],[1.0,\"#f0f921\"]]},\"colorway\":[\"#636efa\",\"#EF553B\",\"#00cc96\",\"#ab63fa\",\"#FFA15A\",\"#19d3f3\",\"#FF6692\",\"#B6E880\",\"#FF97FF\",\"#FECB52\"],\"font\":{\"color\":\"#2a3f5f\"},\"geo\":{\"bgcolor\":\"white\",\"lakecolor\":\"white\",\"landcolor\":\"#E5ECF6\",\"showlakes\":true,\"showland\":true,\"subunitcolor\":\"white\"},\"hoverlabel\":{\"align\":\"left\"},\"hovermode\":\"closest\",\"mapbox\":{\"style\":\"light\"},\"paper_bgcolor\":\"white\",\"plot_bgcolor\":\"#E5ECF6\",\"polar\":{\"angularaxis\":{\"gridcolor\":\"white\",\"linecolor\":\"white\",\"ticks\":\"\"},\"bgcolor\":\"#E5ECF6\",\"radialaxis\":{\"gridcolor\":\"white\",\"linecolor\":\"white\",\"ticks\":\"\"}},\"scene\":{\"xaxis\":{\"backgroundcolor\":\"#E5ECF6\",\"gridcolor\":\"white\",\"gridwidth\":2,\"linecolor\":\"white\",\"showbackground\":true,\"ticks\":\"\",\"zerolinecolor\":\"white\"},\"yaxis\":{\"backgroundcolor\":\"#E5ECF6\",\"gridcolor\":\"white\",\"gridwidth\":2,\"linecolor\":\"white\",\"showbackground\":true,\"ticks\":\"\",\"zerolinecolor\":\"white\"},\"zaxis\":{\"backgroundcolor\":\"#E5ECF6\",\"gridcolor\":\"white\",\"gridwidth\":2,\"linecolor\":\"white\",\"showbackground\":true,\"ticks\":\"\",\"zerolinecolor\":\"white\"}},\"shapedefaults\":{\"line\":{\"color\":\"#2a3f5f\"}},\"ternary\":{\"aaxis\":{\"gridcolor\":\"white\",\"linecolor\":\"white\",\"ticks\":\"\"},\"baxis\":{\"gridcolor\":\"white\",\"linecolor\":\"white\",\"ticks\":\"\"},\"bgcolor\":\"#E5ECF6\",\"caxis\":{\"gridcolor\":\"white\",\"linecolor\":\"white\",\"ticks\":\"\"}},\"title\":{\"x\":0.05},\"xaxis\":{\"automargin\":true,\"gridcolor\":\"white\",\"linecolor\":\"white\",\"ticks\":\"\",\"title\":{\"standoff\":15},\"zerolinecolor\":\"white\",\"zerolinewidth\":2},\"yaxis\":{\"automargin\":true,\"gridcolor\":\"white\",\"linecolor\":\"white\",\"ticks\":\"\",\"title\":{\"standoff\":15},\"zerolinecolor\":\"white\",\"zerolinewidth\":2}}},\"title\":{\"text\":\"Dinero destinado a promover la cultura en los presupuestos del ayuntamiento de Girona\"},\"xaxis\":{\"dtick\":1,\"tick0\":2021,\"tickmode\":\"linear\"}},                        {\"responsive\": true}                    ).then(function(){\n",
       "                            \n",
       "var gd = document.getElementById('760d34f2-2fe8-4ab9-af9e-8923f366ddb8');\n",
       "var x = new MutationObserver(function (mutations, observer) {{\n",
       "        var display = window.getComputedStyle(gd).display;\n",
       "        if (!display || display === 'none') {{\n",
       "            console.log([gd, 'removed!']);\n",
       "            Plotly.purge(gd);\n",
       "            observer.disconnect();\n",
       "        }}\n",
       "}});\n",
       "\n",
       "// Listen for the removal of the full notebook cells\n",
       "var notebookContainer = gd.closest('#notebook-container');\n",
       "if (notebookContainer) {{\n",
       "    x.observe(notebookContainer, {childList: true});\n",
       "}}\n",
       "\n",
       "// Listen for the clearing of the current output cell\n",
       "var outputEl = gd.closest('.output');\n",
       "if (outputEl) {{\n",
       "    x.observe(outputEl, {childList: true});\n",
       "}}\n",
       "\n",
       "                        })                };                });            </script>        </div>"
      ]
     },
     "metadata": {},
     "output_type": "display_data"
    }
   ],
   "source": [
    "#!pip install plotly\n",
    "import plotly.graph_objects as go\n",
    "from plotly.offline import init_notebook_mode, iplot\n",
    "init_notebook_mode(connected=True)\n",
    "\n",
    "trace1 = go.Bar(\n",
    "    x = años,\n",
    "    y = creditoscultura,\n",
    "    name = 'Numero',\n",
    "    marker=dict(color='#f4a460')\n",
    ")\n",
    "datas = [trace1]\n",
    "\n",
    "\n",
    "# Creamos el layout\n",
    "layout = dict(\n",
    "            # Título\n",
    "            title = dict( text = \"Dinero destinado a promover la cultura en los presupuestos del ayuntamiento de Girona\" ),\n",
    "    font=dict(color='black'),\n",
    "     xaxis = dict(\n",
    "      tickmode = 'linear',\n",
    "      tick0 = 2021,\n",
    "      dtick = 1\n",
    "   ),\n",
    "     plot_bgcolor='white'       \n",
    "         )\n",
    "fig = go.Figure(data=datas, layout=layout)\n",
    "iplot(fig) #Para mostrar el gráfico\n",
    "#fig.write_html('../images/presupuestocultura1523.html') # Lo guardamos en formato HTML para incrustarlo en la web"
   ]
  },
  {
   "cell_type": "markdown",
   "id": "b78821d9",
   "metadata": {},
   "source": [
    "## Derechos sociales"
   ]
  },
  {
   "cell_type": "markdown",
   "id": "d47f11ab",
   "metadata": {},
   "source": [
    "A la hora de analizar el presupuesto previsto para gastos sociales vamos a fijarnos en aquellos departamentos que se ocupen de las políticas de:\n",
    "- Empleo.\n",
    "- Protección social (bajas por causas de salud, prevención de riesgos laborales, etc.)\n",
    "- Vivienda.\n",
    "- Educación.\n",
    "- Salud.\n",
    "- Medio ambiente.\n",
    "    "
   ]
  },
  {
   "cell_type": "markdown",
   "id": "4a46bf74",
   "metadata": {},
   "source": [
    "Como en las secciones de *Turismo* y *Cultura* vamos a usar los presupuestos guardados en las variables *pres15-pres23*. Seguidamente, guardaremos en las variables *social + año del presupuesto*, las partidas destinadas a derechos sociales"
   ]
  },
  {
   "cell_type": "code",
   "execution_count": 21,
   "id": "4aa43cac",
   "metadata": {},
   "outputs": [
    {
     "data": {
      "text/html": [
       "<div>\n",
       "<style scoped>\n",
       "    .dataframe tbody tr th:only-of-type {\n",
       "        vertical-align: middle;\n",
       "    }\n",
       "\n",
       "    .dataframe tbody tr th {\n",
       "        vertical-align: top;\n",
       "    }\n",
       "\n",
       "    .dataframe thead th {\n",
       "        text-align: right;\n",
       "    }\n",
       "</style>\n",
       "<table border=\"1\" class=\"dataframe\">\n",
       "  <thead>\n",
       "    <tr style=\"text-align: right;\">\n",
       "      <th></th>\n",
       "      <th>ÀREA\\t</th>\n",
       "      <th>ÀREA_descripció</th>\n",
       "      <th>UNITAT</th>\n",
       "      <th>UNITAT_descripció</th>\n",
       "      <th>DEPARTAMENT</th>\n",
       "      <th>\\tDEPARTAMENT_descripció</th>\n",
       "    </tr>\n",
       "  </thead>\n",
       "  <tbody>\n",
       "    <tr>\n",
       "      <th>0</th>\n",
       "      <td>1</td>\n",
       "      <td>ALCALDIA</td>\n",
       "      <td>10</td>\n",
       "      <td>PRESIDÈNCIA</td>\n",
       "      <td>100</td>\n",
       "      <td>PRESIDENCIA</td>\n",
       "    </tr>\n",
       "    <tr>\n",
       "      <th>1</th>\n",
       "      <td>1</td>\n",
       "      <td>ALCALDIA</td>\n",
       "      <td>11</td>\n",
       "      <td>OFICINA DEFENSOR DE LA CIUTADANIA</td>\n",
       "      <td>110</td>\n",
       "      <td>OFICINA DEFENSOR DE LA CIUTADANIA</td>\n",
       "    </tr>\n",
       "    <tr>\n",
       "      <th>2</th>\n",
       "      <td>1</td>\n",
       "      <td>ALCALDIA</td>\n",
       "      <td>12</td>\n",
       "      <td>UMAT</td>\n",
       "      <td>120</td>\n",
       "      <td>UMAT</td>\n",
       "    </tr>\n",
       "    <tr>\n",
       "      <th>3</th>\n",
       "      <td>1</td>\n",
       "      <td>ALCALDIA</td>\n",
       "      <td>13</td>\n",
       "      <td>GESTIÓ DOCUMENTAL, ARXIUS I PUBLICACIONS</td>\n",
       "      <td>130</td>\n",
       "      <td>GESTIÓ DOCUMENTAL, ARXIU I PUBLICACIONS</td>\n",
       "    </tr>\n",
       "    <tr>\n",
       "      <th>4</th>\n",
       "      <td>1</td>\n",
       "      <td>ALCALDIA</td>\n",
       "      <td>14</td>\n",
       "      <td>DRETS SOCIALS</td>\n",
       "      <td>140</td>\n",
       "      <td>SERVEIS SOCIALS</td>\n",
       "    </tr>\n",
       "    <tr>\n",
       "      <th>5</th>\n",
       "      <td>1</td>\n",
       "      <td>ALCALDIA</td>\n",
       "      <td>14</td>\n",
       "      <td>DRETS SOCIALS</td>\n",
       "      <td>141</td>\n",
       "      <td>SERVEIS SOCIALS ATENCIÓ PRIMÀRIA</td>\n",
       "    </tr>\n",
       "    <tr>\n",
       "      <th>6</th>\n",
       "      <td>1</td>\n",
       "      <td>ALCALDIA</td>\n",
       "      <td>14</td>\n",
       "      <td>DRETS SOCIALS</td>\n",
       "      <td>142</td>\n",
       "      <td>SERVEIS SOCIALS ESPECIALITZATS</td>\n",
       "    </tr>\n",
       "    <tr>\n",
       "      <th>7</th>\n",
       "      <td>1</td>\n",
       "      <td>ALCALDIA</td>\n",
       "      <td>14</td>\n",
       "      <td>DRETS SOCIALS</td>\n",
       "      <td>143</td>\n",
       "      <td>CENTRES CÍVICS</td>\n",
       "    </tr>\n",
       "    <tr>\n",
       "      <th>8</th>\n",
       "      <td>1</td>\n",
       "      <td>ALCALDIA</td>\n",
       "      <td>14</td>\n",
       "      <td>DRETS SOCIALS</td>\n",
       "      <td>144</td>\n",
       "      <td>HABITATGE</td>\n",
       "    </tr>\n",
       "    <tr>\n",
       "      <th>9</th>\n",
       "      <td>1</td>\n",
       "      <td>ALCALDIA</td>\n",
       "      <td>14</td>\n",
       "      <td>DRETS SOCIALS</td>\n",
       "      <td>145</td>\n",
       "      <td>COOPERACIÓ</td>\n",
       "    </tr>\n",
       "    <tr>\n",
       "      <th>10</th>\n",
       "      <td>1</td>\n",
       "      <td>ALCALDIA</td>\n",
       "      <td>15</td>\n",
       "      <td>SEGURETAT CIUTADANA</td>\n",
       "      <td>150</td>\n",
       "      <td>SEGURETAT CIUTADANA</td>\n",
       "    </tr>\n",
       "    <tr>\n",
       "      <th>11</th>\n",
       "      <td>1</td>\n",
       "      <td>ALCALDIA</td>\n",
       "      <td>16</td>\n",
       "      <td>SALUT</td>\n",
       "      <td>160</td>\n",
       "      <td>SALUT</td>\n",
       "    </tr>\n",
       "    <tr>\n",
       "      <th>12</th>\n",
       "      <td>3</td>\n",
       "      <td>TERRITORI</td>\n",
       "      <td>30</td>\n",
       "      <td>URBANISME I ACTIVITATS</td>\n",
       "      <td>300</td>\n",
       "      <td>URBANISME I ACTIVITATS</td>\n",
       "    </tr>\n",
       "    <tr>\n",
       "      <th>13</th>\n",
       "      <td>3</td>\n",
       "      <td>TERRITORI</td>\n",
       "      <td>31</td>\n",
       "      <td>MOBILITAT I VIA PÚBLICA</td>\n",
       "      <td>310</td>\n",
       "      <td>MOBILITAT I VIA PÚBLICA</td>\n",
       "    </tr>\n",
       "    <tr>\n",
       "      <th>14</th>\n",
       "      <td>3</td>\n",
       "      <td>TERRITORI</td>\n",
       "      <td>32</td>\n",
       "      <td>MEDI AMBIENT</td>\n",
       "      <td>320</td>\n",
       "      <td>SOSTENIBILITAT</td>\n",
       "    </tr>\n",
       "    <tr>\n",
       "      <th>15</th>\n",
       "      <td>3</td>\n",
       "      <td>TERRITORI</td>\n",
       "      <td>32</td>\n",
       "      <td>MEDI AMBIENT</td>\n",
       "      <td>321</td>\n",
       "      <td>PARCS I JARDINS, PROTECCIÓ DEL MEDI</td>\n",
       "    </tr>\n",
       "    <tr>\n",
       "      <th>16</th>\n",
       "      <td>3</td>\n",
       "      <td>TERRITORI</td>\n",
       "      <td>32</td>\n",
       "      <td>MEDI AMBIENT</td>\n",
       "      <td>322</td>\n",
       "      <td>SERVEIS URBANS</td>\n",
       "    </tr>\n",
       "    <tr>\n",
       "      <th>17</th>\n",
       "      <td>3</td>\n",
       "      <td>TERRITORI</td>\n",
       "      <td>32</td>\n",
       "      <td>MEDI AMBIENT</td>\n",
       "      <td>323</td>\n",
       "      <td>QUALITAT AMBIENTAL I PROTECCIÓ DE LA SALUT</td>\n",
       "    </tr>\n",
       "    <tr>\n",
       "      <th>18</th>\n",
       "      <td>4</td>\n",
       "      <td>HISENDA I RÈGIM INTERIOR</td>\n",
       "      <td>40</td>\n",
       "      <td>HISENDA</td>\n",
       "      <td>400</td>\n",
       "      <td>HISENDA</td>\n",
       "    </tr>\n",
       "    <tr>\n",
       "      <th>19</th>\n",
       "      <td>4</td>\n",
       "      <td>HISENDA I RÈGIM INTERIOR</td>\n",
       "      <td>41</td>\n",
       "      <td>RÈGIM INTERIOR</td>\n",
       "      <td>410</td>\n",
       "      <td>RÈGIM INTERIOR</td>\n",
       "    </tr>\n",
       "    <tr>\n",
       "      <th>20</th>\n",
       "      <td>4</td>\n",
       "      <td>HISENDA I RÈGIM INTERIOR</td>\n",
       "      <td>41</td>\n",
       "      <td>RÈGIM INTERIOR</td>\n",
       "      <td>411</td>\n",
       "      <td>PATRIMONI</td>\n",
       "    </tr>\n",
       "    <tr>\n",
       "      <th>21</th>\n",
       "      <td>4</td>\n",
       "      <td>HISENDA I RÈGIM INTERIOR</td>\n",
       "      <td>41</td>\n",
       "      <td>RÈGIM INTERIOR</td>\n",
       "      <td>412</td>\n",
       "      <td>RECURSOS HUMANS</td>\n",
       "    </tr>\n",
       "    <tr>\n",
       "      <th>22</th>\n",
       "      <td>4</td>\n",
       "      <td>HISENDA I RÈGIM INTERIOR</td>\n",
       "      <td>41</td>\n",
       "      <td>RÈGIM INTERIOR</td>\n",
       "      <td>413</td>\n",
       "      <td>SERVEI DE SISTEMES I TECNOLOGIES DE LA INFORMACIÓ</td>\n",
       "    </tr>\n",
       "    <tr>\n",
       "      <th>23</th>\n",
       "      <td>4</td>\n",
       "      <td>HISENDA I RÈGIM INTERIOR</td>\n",
       "      <td>41</td>\n",
       "      <td>RÈGIM INTERIOR</td>\n",
       "      <td>414</td>\n",
       "      <td>REGISTRE GENERAL, ESTADÍSTICA I OIAC</td>\n",
       "    </tr>\n",
       "    <tr>\n",
       "      <th>24</th>\n",
       "      <td>5</td>\n",
       "      <td>ÀREA DRET A LES PERSONES</td>\n",
       "      <td>50</td>\n",
       "      <td>CULTURA</td>\n",
       "      <td>500</td>\n",
       "      <td>CULTURA</td>\n",
       "    </tr>\n",
       "    <tr>\n",
       "      <th>25</th>\n",
       "      <td>5</td>\n",
       "      <td>ÀREA DRET A LES PERSONES</td>\n",
       "      <td>50</td>\n",
       "      <td>CULTURA</td>\n",
       "      <td>501</td>\n",
       "      <td>BIBLIOTEQUES</td>\n",
       "    </tr>\n",
       "    <tr>\n",
       "      <th>26</th>\n",
       "      <td>5</td>\n",
       "      <td>ÀREA DRET A LES PERSONES</td>\n",
       "      <td>50</td>\n",
       "      <td>CULTURA</td>\n",
       "      <td>502</td>\n",
       "      <td>MUSEU D'HISTÒRIA DE GIRONA</td>\n",
       "    </tr>\n",
       "    <tr>\n",
       "      <th>27</th>\n",
       "      <td>5</td>\n",
       "      <td>ÀREA DRET A LES PERSONES</td>\n",
       "      <td>50</td>\n",
       "      <td>CULTURA</td>\n",
       "      <td>503</td>\n",
       "      <td>TEATRE MUNICIPAL</td>\n",
       "    </tr>\n",
       "    <tr>\n",
       "      <th>28</th>\n",
       "      <td>5</td>\n",
       "      <td>ÀREA DRET A LES PERSONES</td>\n",
       "      <td>50</td>\n",
       "      <td>CULTURA</td>\n",
       "      <td>504</td>\n",
       "      <td>LA MERCÈ</td>\n",
       "    </tr>\n",
       "    <tr>\n",
       "      <th>29</th>\n",
       "      <td>5</td>\n",
       "      <td>ÀREA DRET A LES PERSONES</td>\n",
       "      <td>50</td>\n",
       "      <td>CULTURA</td>\n",
       "      <td>505</td>\n",
       "      <td>BÒLIT- CENTRE ART CONTEMPORANI</td>\n",
       "    </tr>\n",
       "    <tr>\n",
       "      <th>30</th>\n",
       "      <td>5</td>\n",
       "      <td>ÀREA DRET A LES PERSONES</td>\n",
       "      <td>50</td>\n",
       "      <td>CULTURA</td>\n",
       "      <td>506</td>\n",
       "      <td>ESPAI MARFÀ</td>\n",
       "    </tr>\n",
       "    <tr>\n",
       "      <th>31</th>\n",
       "      <td>5</td>\n",
       "      <td>ÀREA DRET A LES PERSONES</td>\n",
       "      <td>50</td>\n",
       "      <td>CULTURA</td>\n",
       "      <td>507</td>\n",
       "      <td>DINAMITZACIÓ DEL TERRITORI</td>\n",
       "    </tr>\n",
       "    <tr>\n",
       "      <th>32</th>\n",
       "      <td>5</td>\n",
       "      <td>ÀREA DRET A LES PERSONES</td>\n",
       "      <td>50</td>\n",
       "      <td>CULTURA</td>\n",
       "      <td>508</td>\n",
       "      <td>JOVENTUT</td>\n",
       "    </tr>\n",
       "    <tr>\n",
       "      <th>33</th>\n",
       "      <td>5</td>\n",
       "      <td>ÀREA DRET A LES PERSONES</td>\n",
       "      <td>51</td>\n",
       "      <td>EDUCACIÓ, ESPORTS I SEGURETAT EN EL TREBALL</td>\n",
       "      <td>510</td>\n",
       "      <td>EDUCACIÓ</td>\n",
       "    </tr>\n",
       "    <tr>\n",
       "      <th>34</th>\n",
       "      <td>5</td>\n",
       "      <td>ÀREA DRET A LES PERSONES</td>\n",
       "      <td>51</td>\n",
       "      <td>EDUCACIÓ, ESPORTS I SEGURETAT EN EL TREBALL</td>\n",
       "      <td>511</td>\n",
       "      <td>ESPORTS</td>\n",
       "    </tr>\n",
       "    <tr>\n",
       "      <th>35</th>\n",
       "      <td>5</td>\n",
       "      <td>ÀREA DRET A LES PERSONES</td>\n",
       "      <td>51</td>\n",
       "      <td>EDUCACIÓ, ESPORTS I SEGURETAT EN EL TREBALL</td>\n",
       "      <td>512</td>\n",
       "      <td>SEGURETAT EN EL TREBALL</td>\n",
       "    </tr>\n",
       "    <tr>\n",
       "      <th>36</th>\n",
       "      <td>6</td>\n",
       "      <td>PROMOCIÓ ECONÒMICA DESENVOLUPAMENT LOCAL, TURI...</td>\n",
       "      <td>60</td>\n",
       "      <td>PROMOCIÓ ECONÒMICA DESENVOLUPAMENT LOCAL, TURI...</td>\n",
       "      <td>600</td>\n",
       "      <td>PROMOCIÓ ECONÒMICA</td>\n",
       "    </tr>\n",
       "    <tr>\n",
       "      <th>37</th>\n",
       "      <td>6</td>\n",
       "      <td>PROMOCIÓ ECONÒMICA DESENVOLUPAMENT LOCAL, TURI...</td>\n",
       "      <td>60</td>\n",
       "      <td>PROMOCIÓ ECONÒMICA DESENVOLUPAMENT LOCAL, TURI...</td>\n",
       "      <td>601</td>\n",
       "      <td>TURISME</td>\n",
       "    </tr>\n",
       "    <tr>\n",
       "      <th>38</th>\n",
       "      <td>6</td>\n",
       "      <td>PROMOCIÓ ECONÒMICA DESENVOLUPAMENT LOCAL, TURI...</td>\n",
       "      <td>60</td>\n",
       "      <td>PROMOCIÓ ECONÒMICA DESENVOLUPAMENT LOCAL, TURI...</td>\n",
       "      <td>602</td>\n",
       "      <td>EMPRESA</td>\n",
       "    </tr>\n",
       "    <tr>\n",
       "      <th>39</th>\n",
       "      <td>6</td>\n",
       "      <td>PROMOCIÓ ECONÒMICA DESENVOLUPAMENT LOCAL, TURI...</td>\n",
       "      <td>60</td>\n",
       "      <td>PROMOCIÓ ECONÒMICA DESENVOLUPAMENT LOCAL, TURI...</td>\n",
       "      <td>603</td>\n",
       "      <td>COMERÇ</td>\n",
       "    </tr>\n",
       "    <tr>\n",
       "      <th>40</th>\n",
       "      <td>6</td>\n",
       "      <td>PROMOCIÓ ECONÒMICA DESENVOLUPAMENT LOCAL, TURI...</td>\n",
       "      <td>60</td>\n",
       "      <td>PROMOCIÓ ECONÒMICA DESENVOLUPAMENT LOCAL, TURI...</td>\n",
       "      <td>604</td>\n",
       "      <td>SERVEI MUNICIPAL D'OCUPACIÓ</td>\n",
       "    </tr>\n",
       "    <tr>\n",
       "      <th>41</th>\n",
       "      <td>6</td>\n",
       "      <td>PROMOCIÓ ECONÒMICA DESENVOLUPAMENT LOCAL, TURI...</td>\n",
       "      <td>60</td>\n",
       "      <td>PROMOCIÓ ECONÒMICA DESENVOLUPAMENT LOCAL, TURI...</td>\n",
       "      <td>605</td>\n",
       "      <td>OFICINA MUNICIPAL ATENCIÓ AL CONSUMIDOR</td>\n",
       "    </tr>\n",
       "  </tbody>\n",
       "</table>\n",
       "</div>"
      ],
      "text/plain": [
       "    ÀREA\\t                                    ÀREA_descripció  UNITAT  \\\n",
       "0        1                                           ALCALDIA      10   \n",
       "1        1                                           ALCALDIA      11   \n",
       "2        1                                           ALCALDIA      12   \n",
       "3        1                                           ALCALDIA      13   \n",
       "4        1                                           ALCALDIA      14   \n",
       "5        1                                           ALCALDIA      14   \n",
       "6        1                                           ALCALDIA      14   \n",
       "7        1                                           ALCALDIA      14   \n",
       "8        1                                           ALCALDIA      14   \n",
       "9        1                                           ALCALDIA      14   \n",
       "10       1                                           ALCALDIA      15   \n",
       "11       1                                           ALCALDIA      16   \n",
       "12       3                                          TERRITORI      30   \n",
       "13       3                                          TERRITORI      31   \n",
       "14       3                                          TERRITORI      32   \n",
       "15       3                                          TERRITORI      32   \n",
       "16       3                                          TERRITORI      32   \n",
       "17       3                                          TERRITORI      32   \n",
       "18       4                           HISENDA I RÈGIM INTERIOR      40   \n",
       "19       4                           HISENDA I RÈGIM INTERIOR      41   \n",
       "20       4                           HISENDA I RÈGIM INTERIOR      41   \n",
       "21       4                           HISENDA I RÈGIM INTERIOR      41   \n",
       "22       4                           HISENDA I RÈGIM INTERIOR      41   \n",
       "23       4                           HISENDA I RÈGIM INTERIOR      41   \n",
       "24       5                           ÀREA DRET A LES PERSONES      50   \n",
       "25       5                           ÀREA DRET A LES PERSONES      50   \n",
       "26       5                           ÀREA DRET A LES PERSONES      50   \n",
       "27       5                           ÀREA DRET A LES PERSONES      50   \n",
       "28       5                           ÀREA DRET A LES PERSONES      50   \n",
       "29       5                           ÀREA DRET A LES PERSONES      50   \n",
       "30       5                           ÀREA DRET A LES PERSONES      50   \n",
       "31       5                           ÀREA DRET A LES PERSONES      50   \n",
       "32       5                           ÀREA DRET A LES PERSONES      50   \n",
       "33       5                           ÀREA DRET A LES PERSONES      51   \n",
       "34       5                           ÀREA DRET A LES PERSONES      51   \n",
       "35       5                           ÀREA DRET A LES PERSONES      51   \n",
       "36       6  PROMOCIÓ ECONÒMICA DESENVOLUPAMENT LOCAL, TURI...      60   \n",
       "37       6  PROMOCIÓ ECONÒMICA DESENVOLUPAMENT LOCAL, TURI...      60   \n",
       "38       6  PROMOCIÓ ECONÒMICA DESENVOLUPAMENT LOCAL, TURI...      60   \n",
       "39       6  PROMOCIÓ ECONÒMICA DESENVOLUPAMENT LOCAL, TURI...      60   \n",
       "40       6  PROMOCIÓ ECONÒMICA DESENVOLUPAMENT LOCAL, TURI...      60   \n",
       "41       6  PROMOCIÓ ECONÒMICA DESENVOLUPAMENT LOCAL, TURI...      60   \n",
       "\n",
       "                                    UNITAT_descripció  DEPARTAMENT  \\\n",
       "0                                         PRESIDÈNCIA          100   \n",
       "1                   OFICINA DEFENSOR DE LA CIUTADANIA          110   \n",
       "2                                                UMAT          120   \n",
       "3            GESTIÓ DOCUMENTAL, ARXIUS I PUBLICACIONS          130   \n",
       "4                                       DRETS SOCIALS          140   \n",
       "5                                       DRETS SOCIALS          141   \n",
       "6                                       DRETS SOCIALS          142   \n",
       "7                                       DRETS SOCIALS          143   \n",
       "8                                       DRETS SOCIALS          144   \n",
       "9                                       DRETS SOCIALS          145   \n",
       "10                                SEGURETAT CIUTADANA          150   \n",
       "11                                              SALUT          160   \n",
       "12                             URBANISME I ACTIVITATS          300   \n",
       "13                            MOBILITAT I VIA PÚBLICA          310   \n",
       "14                                       MEDI AMBIENT          320   \n",
       "15                                       MEDI AMBIENT          321   \n",
       "16                                       MEDI AMBIENT          322   \n",
       "17                                       MEDI AMBIENT          323   \n",
       "18                                            HISENDA          400   \n",
       "19                                     RÈGIM INTERIOR          410   \n",
       "20                                     RÈGIM INTERIOR          411   \n",
       "21                                     RÈGIM INTERIOR          412   \n",
       "22                                     RÈGIM INTERIOR          413   \n",
       "23                                     RÈGIM INTERIOR          414   \n",
       "24                                            CULTURA          500   \n",
       "25                                            CULTURA          501   \n",
       "26                                            CULTURA          502   \n",
       "27                                            CULTURA          503   \n",
       "28                                            CULTURA          504   \n",
       "29                                            CULTURA          505   \n",
       "30                                            CULTURA          506   \n",
       "31                                            CULTURA          507   \n",
       "32                                            CULTURA          508   \n",
       "33        EDUCACIÓ, ESPORTS I SEGURETAT EN EL TREBALL          510   \n",
       "34        EDUCACIÓ, ESPORTS I SEGURETAT EN EL TREBALL          511   \n",
       "35        EDUCACIÓ, ESPORTS I SEGURETAT EN EL TREBALL          512   \n",
       "36  PROMOCIÓ ECONÒMICA DESENVOLUPAMENT LOCAL, TURI...          600   \n",
       "37  PROMOCIÓ ECONÒMICA DESENVOLUPAMENT LOCAL, TURI...          601   \n",
       "38  PROMOCIÓ ECONÒMICA DESENVOLUPAMENT LOCAL, TURI...          602   \n",
       "39  PROMOCIÓ ECONÒMICA DESENVOLUPAMENT LOCAL, TURI...          603   \n",
       "40  PROMOCIÓ ECONÒMICA DESENVOLUPAMENT LOCAL, TURI...          604   \n",
       "41  PROMOCIÓ ECONÒMICA DESENVOLUPAMENT LOCAL, TURI...          605   \n",
       "\n",
       "                             \\tDEPARTAMENT_descripció  \n",
       "0                                         PRESIDENCIA  \n",
       "1                   OFICINA DEFENSOR DE LA CIUTADANIA  \n",
       "2                                                UMAT  \n",
       "3             GESTIÓ DOCUMENTAL, ARXIU I PUBLICACIONS  \n",
       "4                                     SERVEIS SOCIALS  \n",
       "5                    SERVEIS SOCIALS ATENCIÓ PRIMÀRIA  \n",
       "6                      SERVEIS SOCIALS ESPECIALITZATS  \n",
       "7                                      CENTRES CÍVICS  \n",
       "8                                           HABITATGE  \n",
       "9                                          COOPERACIÓ  \n",
       "10                                SEGURETAT CIUTADANA  \n",
       "11                                              SALUT  \n",
       "12                             URBANISME I ACTIVITATS  \n",
       "13                            MOBILITAT I VIA PÚBLICA  \n",
       "14                                     SOSTENIBILITAT  \n",
       "15                PARCS I JARDINS, PROTECCIÓ DEL MEDI  \n",
       "16                                     SERVEIS URBANS  \n",
       "17         QUALITAT AMBIENTAL I PROTECCIÓ DE LA SALUT  \n",
       "18                                            HISENDA  \n",
       "19                                     RÈGIM INTERIOR  \n",
       "20                                          PATRIMONI  \n",
       "21                                    RECURSOS HUMANS  \n",
       "22  SERVEI DE SISTEMES I TECNOLOGIES DE LA INFORMACIÓ  \n",
       "23               REGISTRE GENERAL, ESTADÍSTICA I OIAC  \n",
       "24                                            CULTURA  \n",
       "25                                       BIBLIOTEQUES  \n",
       "26                         MUSEU D'HISTÒRIA DE GIRONA  \n",
       "27                                   TEATRE MUNICIPAL  \n",
       "28                                           LA MERCÈ  \n",
       "29                     BÒLIT- CENTRE ART CONTEMPORANI  \n",
       "30                                        ESPAI MARFÀ  \n",
       "31                         DINAMITZACIÓ DEL TERRITORI  \n",
       "32                                           JOVENTUT  \n",
       "33                                           EDUCACIÓ  \n",
       "34                                            ESPORTS  \n",
       "35                            SEGURETAT EN EL TREBALL  \n",
       "36                                 PROMOCIÓ ECONÒMICA  \n",
       "37                                            TURISME  \n",
       "38                                            EMPRESA  \n",
       "39                                             COMERÇ  \n",
       "40                        SERVEI MUNICIPAL D'OCUPACIÓ  \n",
       "41            OFICINA MUNICIPAL ATENCIÓ AL CONSUMIDOR  "
      ]
     },
     "execution_count": 21,
     "metadata": {},
     "output_type": "execute_result"
    }
   ],
   "source": [
    "descripcion22"
   ]
  },
  {
   "cell_type": "code",
   "execution_count": 22,
   "id": "05b2f807",
   "metadata": {},
   "outputs": [],
   "source": [
    "social15 = pres15[(pres15['Orgànica'] == 200) | (pres15['Orgànica'] == 201) | (pres15['Orgànica'] == 202) | (pres15['Orgànica'] == 203) | (pres15['Orgànica'] == 412) | (pres15['Orgànica'] == 500) | (pres15['Orgànica'] == 501) | (pres15['Orgànica'] == 510) | (pres15['Orgànica'] == 511) | (pres15['Orgànica'] == 512) | (pres15['Orgànica'] == 513) | (pres15['Orgànica'] == 514)]\n",
    "social16 = pres16[(pres16['Orgànica'] == 200) | (pres16['Orgànica'] == 201) | (pres16['Orgànica'] == 412) | (pres16['Orgànica'] == 420) | (pres16['Orgànica'] == 421) | (pres16['Orgànica'] == 422) | (pres16['Orgànica'] == 423) | (pres16['Orgànica'] == 500) | (pres16['Orgànica'] == 501) | (pres16['Orgànica'] == 502) | (pres16['Orgànica'] == 503) | (pres16['Orgànica'] == 504) | (pres16['Orgànica'] == 510) | (pres16['Orgànica'] == 511) | (pres16['Orgànica'] == 601)]\n",
    "social17 = pres17[(pres17['Orgànica'] == 200) | (pres17['Orgànica'] == 201) | (pres17['Orgànica'] == 412) | (pres17['Orgànica'] == 420) | (pres17['Orgànica'] == 421) | (pres17['Orgànica'] == 422) | (pres17['Orgànica'] == 423) | (pres17['Orgànica'] == 500) | (pres17['Orgànica'] == 501) | (pres17['Orgànica'] == 502) | (pres17['Orgànica'] == 503) | (pres17['Orgànica'] == 504) | (pres17['Orgànica'] == 511) | (pres17['Orgànica'] == 530) | (pres17['Orgànica'] == 700) | (pres17['Orgànica'] == 710) | (pres17['Orgànica'] == 720) | (pres17['Orgànica'] == 740)]\n",
    "social18 = pres18[(pres18['Orgànica'] == 140) | (pres18['Orgànica'] == 141) | (pres18['Orgànica'] == 142) | (pres18['Orgànica'] == 143) | (pres18['Orgànica'] == 144) | (pres18['Orgànica'] == 160) | (pres18['Orgànica'] == 200) | (pres18['Orgànica'] == 201) | (pres18['Orgànica'] == 412) | (pres18['Orgànica'] == 700) | (pres18['Orgànica'] == 710) | (pres18['Orgànica'] == 720) | (pres18['Orgànica'] == 721)]\n",
    "social19 = pres19[(pres19['Orgànica'] == 200) | (pres19['Orgànica'] == 201) | (pres19['Orgànica'] == 140) | (pres19['Orgànica'] == 141) | (pres19['Orgànica'] == 142) | (pres19['Orgànica'] == 143) | (pres19['Orgànica'] == 144) | (pres19['Orgànica'] == 412) | (pres19['Orgànica'] == 160) | (pres19['Orgànica'] == 700) | (pres19['Orgànica'] == 710) | (pres19['Orgànica'] == 720) | (pres19['Orgànica'] == 721)]\n",
    "social20 = pres20[(pres20['Orgànica'] == 140) | (pres20['Orgànica'] == 141) | (pres20['Orgànica'] == 142) | (pres20['Orgànica'] == 143) | (pres20['Orgànica'] == 144) | (pres20['Orgànica'] == 160) | (pres20['Orgànica'] == 320) | (pres20['Orgànica'] == 321) | (pres20['Orgànica'] == 322) | (pres20['Orgànica'] == 323) | (pres20['Orgànica'] == 412) | (pres20['Orgànica'] == 510) | (pres20['Orgànica'] == 511) | (pres20['Orgànica'] == 512)]\n",
    "social21 = pres21[(pres21['Orgànica'] == 140) | (pres21['Orgànica'] == 141) | (pres21['Orgànica'] == 142) | (pres21['Orgànica'] == 143) | (pres21['Orgànica'] == 144) | (pres21['Orgànica'] == 160) | (pres21['Orgànica'] == 320) | (pres21['Orgànica'] == 321) | (pres21['Orgànica'] == 322) | (pres21['Orgànica'] == 323) | (pres21['Orgànica'] == 412) | (pres21['Orgànica'] == 510) | (pres21['Orgànica'] == 511) | (pres21['Orgànica'] == 512)]\n",
    "social22 = pres22[(pres22['Orgànica'] == 140) | (pres22['Orgànica'] == 141) | (pres22['Orgànica'] == 142) | (pres22['Orgànica'] == 143) | (pres22['Orgànica'] == 144) | (pres22['Orgànica'] == 160) | (pres22['Orgànica'] == 320) | (pres22['Orgànica'] == 321) | (pres22['Orgànica'] == 322) | (pres22['Orgànica'] == 323) | (pres22['Orgànica'] == 412) | (pres22['Orgànica'] == 510) | (pres22['Orgànica'] == 511) | (pres22['Orgànica'] == 512)]\n",
    "social23 = pres23[(pres23['Orgànica'] == 140) | (pres23['Orgànica'] == 141) | (pres23['Orgànica'] == 142) | (pres23['Orgànica'] == 143) | (pres23['Orgànica'] == 144) | (pres23['Orgànica'] == 160) | (pres23['Orgànica'] == 320) | (pres23['Orgànica'] == 321) | (pres23['Orgànica'] == 322) | (pres23['Orgànica'] == 323) | (pres23['Orgànica'] == 412) | (pres23['Orgànica'] == 510) | (pres23['Orgànica'] == 511) | (pres23['Orgànica'] == 512)]"
   ]
  },
  {
   "cell_type": "markdown",
   "id": "64ca6bfb",
   "metadata": {},
   "source": [
    "Aprovechamos el código que hemos escrito en los anteriores apartados de *Turismo* y *Cultura* guardando las variables en un *array* bajo el nombre *creditossocial*."
   ]
  },
  {
   "cell_type": "code",
   "execution_count": 23,
   "id": "973a7896",
   "metadata": {},
   "outputs": [],
   "source": [
    "creditossocial = [social15['Crèdits totals consignats'].sum(),\n",
    "           social16['Crèdits totals consignats'].sum(),\n",
    "           social17['Crèdits totals consignats'].sum(),\n",
    "           social18['Crèdits totals consignats'].sum(),\n",
    "           social19['Crèdits totals consignats'].sum(),\n",
    "           social20['Crèdits totals consignats'].sum(),\n",
    "           social21['Crèdits totals consignats'].sum(),\n",
    "           social22['Crèdits totals consignats'].sum(),\n",
    "           social23['Crèdits totals consignats'].sum()]"
   ]
  },
  {
   "cell_type": "markdown",
   "id": "5b320d50",
   "metadata": {},
   "source": [
    "### Gráfico de barras con Matplotlib"
   ]
  },
  {
   "cell_type": "code",
   "execution_count": 24,
   "id": "de429cf6",
   "metadata": {},
   "outputs": [
    {
     "data": {
      "image/png": "[encoded data removed]",
      "text/plain": [
       "<Figure size 800x500 with 1 Axes>"
      ]
     },
     "metadata": {},
     "output_type": "display_data"
    },
    {
     "data": {
      "text/plain": [
       "<Figure size 640x480 with 0 Axes>"
      ]
     },
     "metadata": {},
     "output_type": "display_data"
    }
   ],
   "source": [
    "#!pip install matplotlib\n",
    "import matplotlib.pyplot as plt\n",
    "plt.figure(figsize=(8, 5))\n",
    "plt.bar(años, creditossocial, color = \"#f4a460\")\n",
    "plt.xlabel('Años muestra')\n",
    "plt.ylabel('Dinero destinado')\n",
    "plt.title('Dinero destinado a políticas sociales en los presupuestos del ayuntamiento de Girona')\n",
    "plt.xticks(rotation=45)\n",
    "plt.ticklabel_format(axis='y', style='plain') #Para que no nos muestre las cifras en formato científico.\n",
    "plt.show() #Para mostrar el gráfico\n",
    "plt.tight_layout()  # Para evitar recorte de etiquetas\n",
    "#plt.savefig('../images/presupuestosocial1523.svg', format='svg') #para guardar el gráfico en formato svg"
   ]
  },
  {
   "cell_type": "markdown",
   "id": "0715acb2",
   "metadata": {},
   "source": [
    "### Gráfico de barras con Plotly"
   ]
  },
  {
   "cell_type": "code",
   "execution_count": 25,
   "id": "f43f697a",
   "metadata": {},
   "outputs": [
    {
     "data": {
      "text/html": [
       "        <script type=\"text/javascript\">\n",
       "        window.PlotlyConfig = {MathJaxConfig: 'local'};\n",
       "        if (window.MathJax && window.MathJax.Hub && window.MathJax.Hub.Config) {window.MathJax.Hub.Config({SVG: {font: \"STIX-Web\"}});}\n",
       "        if (typeof require !== 'undefined') {\n",
       "        require.undef(\"plotly\");\n",
       "        requirejs.config({\n",
       "            paths: {\n",
       "                'plotly': ['https://cdn.plot.ly/plotly-2.25.2.min']\n",
       "            }\n",
       "        });\n",
       "        require(['plotly'], function(Plotly) {\n",
       "            window._Plotly = Plotly;\n",
       "        });\n",
       "        }\n",
       "        </script>\n",
       "        "
      ]
     },
     "metadata": {},
     "output_type": "display_data"
    },
    {
     "data": {
      "application/vnd.plotly.v1+json": {
       "config": {
        "linkText": "Export to plot.ly",
        "plotlyServerURL": "https://plot.ly",
        "showLink": false
       },
       "data": [
        {
         "marker": {
          "color": "#f4a460"
         },
         "name": "Numero",
         "type": "bar",
         "x": [
          "2015",
          "2016",
          "2017",
          "2018",
          "2019",
          "2020",
          "2021",
          "2022",
          "2023"
         ],
         "y": [
          55301570.97,
          64749668.59,
          63992858.63,
          40833250.09,
          42152845.85,
          65097817.53,
          84301476.33999999,
          97151702.94,
          115218010.84
         ]
        }
       ],
       "layout": {
        "font": {
         "color": "black"
        },
        "plot_bgcolor": "white",
        "template": {
         "data": {
          "bar": [
           {
            "error_x": {
             "color": "#2a3f5f"
            },
            "error_y": {
             "color": "#2a3f5f"
            },
            "marker": {
             "line": {
              "color": "#E5ECF6",
              "width": 0.5
             },
             "pattern": {
              "fillmode": "overlay",
              "size": 10,
              "solidity": 0.2
             }
            },
            "type": "bar"
           }
          ],
          "barpolar": [
           {
            "marker": {
             "line": {
              "color": "#E5ECF6",
              "width": 0.5
             },
             "pattern": {
              "fillmode": "overlay",
              "size": 10,
              "solidity": 0.2
             }
            },
            "type": "barpolar"
           }
          ],
          "carpet": [
           {
            "aaxis": {
             "endlinecolor": "#2a3f5f",
             "gridcolor": "white",
             "linecolor": "white",
             "minorgridcolor": "white",
             "startlinecolor": "#2a3f5f"
            },
            "baxis": {
             "endlinecolor": "#2a3f5f",
             "gridcolor": "white",
             "linecolor": "white",
             "minorgridcolor": "white",
             "startlinecolor": "#2a3f5f"
            },
            "type": "carpet"
           }
          ],
          "choropleth": [
           {
            "colorbar": {
             "outlinewidth": 0,
             "ticks": ""
            },
            "type": "choropleth"
           }
          ],
          "contour": [
           {
            "colorbar": {
             "outlinewidth": 0,
             "ticks": ""
            },
            "colorscale": [
             [
              0,
              "#0d0887"
             ],
             [
              0.1111111111111111,
              "#46039f"
             ],
             [
              0.2222222222222222,
              "#7201a8"
             ],
             [
              0.3333333333333333,
              "#9c179e"
             ],
             [
              0.4444444444444444,
              "#bd3786"
             ],
             [
              0.5555555555555556,
              "#d8576b"
             ],
             [
              0.6666666666666666,
              "#ed7953"
             ],
             [
              0.7777777777777778,
              "#fb9f3a"
             ],
             [
              0.8888888888888888,
              "#fdca26"
             ],
             [
              1,
              "#f0f921"
             ]
            ],
            "type": "contour"
           }
          ],
          "contourcarpet": [
           {
            "colorbar": {
             "outlinewidth": 0,
             "ticks": ""
            },
            "type": "contourcarpet"
           }
          ],
          "heatmap": [
           {
            "colorbar": {
             "outlinewidth": 0,
             "ticks": ""
            },
            "colorscale": [
             [
              0,
              "#0d0887"
             ],
             [
              0.1111111111111111,
              "#46039f"
             ],
             [
              0.2222222222222222,
              "#7201a8"
             ],
             [
              0.3333333333333333,
              "#9c179e"
             ],
             [
              0.4444444444444444,
              "#bd3786"
             ],
             [
              0.5555555555555556,
              "#d8576b"
             ],
             [
              0.6666666666666666,
              "#ed7953"
             ],
             [
              0.7777777777777778,
              "#fb9f3a"
             ],
             [
              0.8888888888888888,
              "#fdca26"
             ],
             [
              1,
              "#f0f921"
             ]
            ],
            "type": "heatmap"
           }
          ],
          "heatmapgl": [
           {
            "colorbar": {
             "outlinewidth": 0,
             "ticks": ""
            },
            "colorscale": [
             [
              0,
              "#0d0887"
             ],
             [
              0.1111111111111111,
              "#46039f"
             ],
             [
              0.2222222222222222,
              "#7201a8"
             ],
             [
              0.3333333333333333,
              "#9c179e"
             ],
             [
              0.4444444444444444,
              "#bd3786"
             ],
             [
              0.5555555555555556,
              "#d8576b"
             ],
             [
              0.6666666666666666,
              "#ed7953"
             ],
             [
              0.7777777777777778,
              "#fb9f3a"
             ],
             [
              0.8888888888888888,
              "#fdca26"
             ],
             [
              1,
              "#f0f921"
             ]
            ],
            "type": "heatmapgl"
           }
          ],
          "histogram": [
           {
            "marker": {
             "pattern": {
              "fillmode": "overlay",
              "size": 10,
              "solidity": 0.2
             }
            },
            "type": "histogram"
           }
          ],
          "histogram2d": [
           {
            "colorbar": {
             "outlinewidth": 0,
             "ticks": ""
            },
            "colorscale": [
             [
              0,
              "#0d0887"
             ],
             [
              0.1111111111111111,
              "#46039f"
             ],
             [
              0.2222222222222222,
              "#7201a8"
             ],
             [
              0.3333333333333333,
              "#9c179e"
             ],
             [
              0.4444444444444444,
              "#bd3786"
             ],
             [
              0.5555555555555556,
              "#d8576b"
             ],
             [
              0.6666666666666666,
              "#ed7953"
             ],
             [
              0.7777777777777778,
              "#fb9f3a"
             ],
             [
              0.8888888888888888,
              "#fdca26"
             ],
             [
              1,
              "#f0f921"
             ]
            ],
            "type": "histogram2d"
           }
          ],
          "histogram2dcontour": [
           {
            "colorbar": {
             "outlinewidth": 0,
             "ticks": ""
            },
            "colorscale": [
             [
              0,
              "#0d0887"
             ],
             [
              0.1111111111111111,
              "#46039f"
             ],
             [
              0.2222222222222222,
              "#7201a8"
             ],
             [
              0.3333333333333333,
              "#9c179e"
             ],
             [
              0.4444444444444444,
              "#bd3786"
             ],
             [
              0.5555555555555556,
              "#d8576b"
             ],
             [
              0.6666666666666666,
              "#ed7953"
             ],
             [
              0.7777777777777778,
              "#fb9f3a"
             ],
             [
              0.8888888888888888,
              "#fdca26"
             ],
             [
              1,
              "#f0f921"
             ]
            ],
            "type": "histogram2dcontour"
           }
          ],
          "mesh3d": [
           {
            "colorbar": {
             "outlinewidth": 0,
             "ticks": ""
            },
            "type": "mesh3d"
           }
          ],
          "parcoords": [
           {
            "line": {
             "colorbar": {
              "outlinewidth": 0,
              "ticks": ""
             }
            },
            "type": "parcoords"
           }
          ],
          "pie": [
           {
            "automargin": true,
            "type": "pie"
           }
          ],
          "scatter": [
           {
            "fillpattern": {
             "fillmode": "overlay",
             "size": 10,
             "solidity": 0.2
            },
            "type": "scatter"
           }
          ],
          "scatter3d": [
           {
            "line": {
             "colorbar": {
              "outlinewidth": 0,
              "ticks": ""
             }
            },
            "marker": {
             "colorbar": {
              "outlinewidth": 0,
              "ticks": ""
             }
            },
            "type": "scatter3d"
           }
          ],
          "scattercarpet": [
           {
            "marker": {
             "colorbar": {
              "outlinewidth": 0,
              "ticks": ""
             }
            },
            "type": "scattercarpet"
           }
          ],
          "scattergeo": [
           {
            "marker": {
             "colorbar": {
              "outlinewidth": 0,
              "ticks": ""
             }
            },
            "type": "scattergeo"
           }
          ],
          "scattergl": [
           {
            "marker": {
             "colorbar": {
              "outlinewidth": 0,
              "ticks": ""
             }
            },
            "type": "scattergl"
           }
          ],
          "scattermapbox": [
           {
            "marker": {
             "colorbar": {
              "outlinewidth": 0,
              "ticks": ""
             }
            },
            "type": "scattermapbox"
           }
          ],
          "scatterpolar": [
           {
            "marker": {
             "colorbar": {
              "outlinewidth": 0,
              "ticks": ""
             }
            },
            "type": "scatterpolar"
           }
          ],
          "scatterpolargl": [
           {
            "marker": {
             "colorbar": {
              "outlinewidth": 0,
              "ticks": ""
             }
            },
            "type": "scatterpolargl"
           }
          ],
          "scatterternary": [
           {
            "marker": {
             "colorbar": {
              "outlinewidth": 0,
              "ticks": ""
             }
            },
            "type": "scatterternary"
           }
          ],
          "surface": [
           {
            "colorbar": {
             "outlinewidth": 0,
             "ticks": ""
            },
            "colorscale": [
             [
              0,
              "#0d0887"
             ],
             [
              0.1111111111111111,
              "#46039f"
             ],
             [
              0.2222222222222222,
              "#7201a8"
             ],
             [
              0.3333333333333333,
              "#9c179e"
             ],
             [
              0.4444444444444444,
              "#bd3786"
             ],
             [
              0.5555555555555556,
              "#d8576b"
             ],
             [
              0.6666666666666666,
              "#ed7953"
             ],
             [
              0.7777777777777778,
              "#fb9f3a"
             ],
             [
              0.8888888888888888,
              "#fdca26"
             ],
             [
              1,
              "#f0f921"
             ]
            ],
            "type": "surface"
           }
          ],
          "table": [
           {
            "cells": {
             "fill": {
              "color": "#EBF0F8"
             },
             "line": {
              "color": "white"
             }
            },
            "header": {
             "fill": {
              "color": "#C8D4E3"
             },
             "line": {
              "color": "white"
             }
            },
            "type": "table"
           }
          ]
         },
         "layout": {
          "annotationdefaults": {
           "arrowcolor": "#2a3f5f",
           "arrowhead": 0,
           "arrowwidth": 1
          },
          "autotypenumbers": "strict",
          "coloraxis": {
           "colorbar": {
            "outlinewidth": 0,
            "ticks": ""
           }
          },
          "colorscale": {
           "diverging": [
            [
             0,
             "#8e0152"
            ],
            [
             0.1,
             "#c51b7d"
            ],
            [
             0.2,
             "#de77ae"
            ],
            [
             0.3,
             "#f1b6da"
            ],
            [
             0.4,
             "#fde0ef"
            ],
            [
             0.5,
             "#f7f7f7"
            ],
            [
             0.6,
             "#e6f5d0"
            ],
            [
             0.7,
             "#b8e186"
            ],
            [
             0.8,
             "#7fbc41"
            ],
            [
             0.9,
             "#4d9221"
            ],
            [
             1,
             "#276419"
            ]
           ],
           "sequential": [
            [
             0,
             "#0d0887"
            ],
            [
             0.1111111111111111,
             "#46039f"
            ],
            [
             0.2222222222222222,
             "#7201a8"
            ],
            [
             0.3333333333333333,
             "#9c179e"
            ],
            [
             0.4444444444444444,
             "#bd3786"
            ],
            [
             0.5555555555555556,
             "#d8576b"
            ],
            [
             0.6666666666666666,
             "#ed7953"
            ],
            [
             0.7777777777777778,
             "#fb9f3a"
            ],
            [
             0.8888888888888888,
             "#fdca26"
            ],
            [
             1,
             "#f0f921"
            ]
           ],
           "sequentialminus": [
            [
             0,
             "#0d0887"
            ],
            [
             0.1111111111111111,
             "#46039f"
            ],
            [
             0.2222222222222222,
             "#7201a8"
            ],
            [
             0.3333333333333333,
             "#9c179e"
            ],
            [
             0.4444444444444444,
             "#bd3786"
            ],
            [
             0.5555555555555556,
             "#d8576b"
            ],
            [
             0.6666666666666666,
             "#ed7953"
            ],
            [
             0.7777777777777778,
             "#fb9f3a"
            ],
            [
             0.8888888888888888,
             "#fdca26"
            ],
            [
             1,
             "#f0f921"
            ]
           ]
          },
          "colorway": [
           "#636efa",
           "#EF553B",
           "#00cc96",
           "#ab63fa",
           "#FFA15A",
           "#19d3f3",
           "#FF6692",
           "#B6E880",
           "#FF97FF",
           "#FECB52"
          ],
          "font": {
           "color": "#2a3f5f"
          },
          "geo": {
           "bgcolor": "white",
           "lakecolor": "white",
           "landcolor": "#E5ECF6",
           "showlakes": true,
           "showland": true,
           "subunitcolor": "white"
          },
          "hoverlabel": {
           "align": "left"
          },
          "hovermode": "closest",
          "mapbox": {
           "style": "light"
          },
          "paper_bgcolor": "white",
          "plot_bgcolor": "#E5ECF6",
          "polar": {
           "angularaxis": {
            "gridcolor": "white",
            "linecolor": "white",
            "ticks": ""
           },
           "bgcolor": "#E5ECF6",
           "radialaxis": {
            "gridcolor": "white",
            "linecolor": "white",
            "ticks": ""
           }
          },
          "scene": {
           "xaxis": {
            "backgroundcolor": "#E5ECF6",
            "gridcolor": "white",
            "gridwidth": 2,
            "linecolor": "white",
            "showbackground": true,
            "ticks": "",
            "zerolinecolor": "white"
           },
           "yaxis": {
            "backgroundcolor": "#E5ECF6",
            "gridcolor": "white",
            "gridwidth": 2,
            "linecolor": "white",
            "showbackground": true,
            "ticks": "",
            "zerolinecolor": "white"
           },
           "zaxis": {
            "backgroundcolor": "#E5ECF6",
            "gridcolor": "white",
            "gridwidth": 2,
            "linecolor": "white",
            "showbackground": true,
            "ticks": "",
            "zerolinecolor": "white"
           }
          },
          "shapedefaults": {
           "line": {
            "color": "#2a3f5f"
           }
          },
          "ternary": {
           "aaxis": {
            "gridcolor": "white",
            "linecolor": "white",
            "ticks": ""
           },
           "baxis": {
            "gridcolor": "white",
            "linecolor": "white",
            "ticks": ""
           },
           "bgcolor": "#E5ECF6",
           "caxis": {
            "gridcolor": "white",
            "linecolor": "white",
            "ticks": ""
           }
          },
          "title": {
           "x": 0.05
          },
          "xaxis": {
           "automargin": true,
           "gridcolor": "white",
           "linecolor": "white",
           "ticks": "",
           "title": {
            "standoff": 15
           },
           "zerolinecolor": "white",
           "zerolinewidth": 2
          },
          "yaxis": {
           "automargin": true,
           "gridcolor": "white",
           "linecolor": "white",
           "ticks": "",
           "title": {
            "standoff": 15
           },
           "zerolinecolor": "white",
           "zerolinewidth": 2
          }
         }
        },
        "title": {
         "text": "Dinero destinado a políticas sociales en los presupuestos del ayuntamiento de Girona"
        },
        "xaxis": {
         "dtick": 1,
         "tick0": 2021,
         "tickmode": "linear"
        }
       }
      },
      "text/html": [
       "<div>                            <div id=\"924673d5-5207-4941-bcc6-904a2841a287\" class=\"plotly-graph-div\" style=\"height:525px; width:100%;\"></div>            <script type=\"text/javascript\">                require([\"plotly\"], function(Plotly) {                    window.PLOTLYENV=window.PLOTLYENV || {};                                    if (document.getElementById(\"924673d5-5207-4941-bcc6-904a2841a287\")) {                    Plotly.newPlot(                        \"924673d5-5207-4941-bcc6-904a2841a287\",                        [{\"marker\":{\"color\":\"#f4a460\"},\"name\":\"Numero\",\"x\":[\"2015\",\"2016\",\"2017\",\"2018\",\"2019\",\"2020\",\"2021\",\"2022\",\"2023\"],\"y\":[55301570.97,64749668.59,63992858.63,40833250.09,42152845.85,65097817.53,84301476.33999999,97151702.94,115218010.84],\"type\":\"bar\"}],                        {\"font\":{\"color\":\"black\"},\"plot_bgcolor\":\"white\",\"template\":{\"data\":{\"barpolar\":[{\"marker\":{\"line\":{\"color\":\"#E5ECF6\",\"width\":0.5},\"pattern\":{\"fillmode\":\"overlay\",\"size\":10,\"solidity\":0.2}},\"type\":\"barpolar\"}],\"bar\":[{\"error_x\":{\"color\":\"#2a3f5f\"},\"error_y\":{\"color\":\"#2a3f5f\"},\"marker\":{\"line\":{\"color\":\"#E5ECF6\",\"width\":0.5},\"pattern\":{\"fillmode\":\"overlay\",\"size\":10,\"solidity\":0.2}},\"type\":\"bar\"}],\"carpet\":[{\"aaxis\":{\"endlinecolor\":\"#2a3f5f\",\"gridcolor\":\"white\",\"linecolor\":\"white\",\"minorgridcolor\":\"white\",\"startlinecolor\":\"#2a3f5f\"},\"baxis\":{\"endlinecolor\":\"#2a3f5f\",\"gridcolor\":\"white\",\"linecolor\":\"white\",\"minorgridcolor\":\"white\",\"startlinecolor\":\"#2a3f5f\"},\"type\":\"carpet\"}],\"choropleth\":[{\"colorbar\":{\"outlinewidth\":0,\"ticks\":\"\"},\"type\":\"choropleth\"}],\"contourcarpet\":[{\"colorbar\":{\"outlinewidth\":0,\"ticks\":\"\"},\"type\":\"contourcarpet\"}],\"contour\":[{\"colorbar\":{\"outlinewidth\":0,\"ticks\":\"\"},\"colorscale\":[[0.0,\"#0d0887\"],[0.1111111111111111,\"#46039f\"],[0.2222222222222222,\"#7201a8\"],[0.3333333333333333,\"#9c179e\"],[0.4444444444444444,\"#bd3786\"],[0.5555555555555556,\"#d8576b\"],[0.6666666666666666,\"#ed7953\"],[0.7777777777777778,\"#fb9f3a\"],[0.8888888888888888,\"#fdca26\"],[1.0,\"#f0f921\"]],\"type\":\"contour\"}],\"heatmapgl\":[{\"colorbar\":{\"outlinewidth\":0,\"ticks\":\"\"},\"colorscale\":[[0.0,\"#0d0887\"],[0.1111111111111111,\"#46039f\"],[0.2222222222222222,\"#7201a8\"],[0.3333333333333333,\"#9c179e\"],[0.4444444444444444,\"#bd3786\"],[0.5555555555555556,\"#d8576b\"],[0.6666666666666666,\"#ed7953\"],[0.7777777777777778,\"#fb9f3a\"],[0.8888888888888888,\"#fdca26\"],[1.0,\"#f0f921\"]],\"type\":\"heatmapgl\"}],\"heatmap\":[{\"colorbar\":{\"outlinewidth\":0,\"ticks\":\"\"},\"colorscale\":[[0.0,\"#0d0887\"],[0.1111111111111111,\"#46039f\"],[0.2222222222222222,\"#7201a8\"],[0.3333333333333333,\"#9c179e\"],[0.4444444444444444,\"#bd3786\"],[0.5555555555555556,\"#d8576b\"],[0.6666666666666666,\"#ed7953\"],[0.7777777777777778,\"#fb9f3a\"],[0.8888888888888888,\"#fdca26\"],[1.0,\"#f0f921\"]],\"type\":\"heatmap\"}],\"histogram2dcontour\":[{\"colorbar\":{\"outlinewidth\":0,\"ticks\":\"\"},\"colorscale\":[[0.0,\"#0d0887\"],[0.1111111111111111,\"#46039f\"],[0.2222222222222222,\"#7201a8\"],[0.3333333333333333,\"#9c179e\"],[0.4444444444444444,\"#bd3786\"],[0.5555555555555556,\"#d8576b\"],[0.6666666666666666,\"#ed7953\"],[0.7777777777777778,\"#fb9f3a\"],[0.8888888888888888,\"#fdca26\"],[1.0,\"#f0f921\"]],\"type\":\"histogram2dcontour\"}],\"histogram2d\":[{\"colorbar\":{\"outlinewidth\":0,\"ticks\":\"\"},\"colorscale\":[[0.0,\"#0d0887\"],[0.1111111111111111,\"#46039f\"],[0.2222222222222222,\"#7201a8\"],[0.3333333333333333,\"#9c179e\"],[0.4444444444444444,\"#bd3786\"],[0.5555555555555556,\"#d8576b\"],[0.6666666666666666,\"#ed7953\"],[0.7777777777777778,\"#fb9f3a\"],[0.8888888888888888,\"#fdca26\"],[1.0,\"#f0f921\"]],\"type\":\"histogram2d\"}],\"histogram\":[{\"marker\":{\"pattern\":{\"fillmode\":\"overlay\",\"size\":10,\"solidity\":0.2}},\"type\":\"histogram\"}],\"mesh3d\":[{\"colorbar\":{\"outlinewidth\":0,\"ticks\":\"\"},\"type\":\"mesh3d\"}],\"parcoords\":[{\"line\":{\"colorbar\":{\"outlinewidth\":0,\"ticks\":\"\"}},\"type\":\"parcoords\"}],\"pie\":[{\"automargin\":true,\"type\":\"pie\"}],\"scatter3d\":[{\"line\":{\"colorbar\":{\"outlinewidth\":0,\"ticks\":\"\"}},\"marker\":{\"colorbar\":{\"outlinewidth\":0,\"ticks\":\"\"}},\"type\":\"scatter3d\"}],\"scattercarpet\":[{\"marker\":{\"colorbar\":{\"outlinewidth\":0,\"ticks\":\"\"}},\"type\":\"scattercarpet\"}],\"scattergeo\":[{\"marker\":{\"colorbar\":{\"outlinewidth\":0,\"ticks\":\"\"}},\"type\":\"scattergeo\"}],\"scattergl\":[{\"marker\":{\"colorbar\":{\"outlinewidth\":0,\"ticks\":\"\"}},\"type\":\"scattergl\"}],\"scattermapbox\":[{\"marker\":{\"colorbar\":{\"outlinewidth\":0,\"ticks\":\"\"}},\"type\":\"scattermapbox\"}],\"scatterpolargl\":[{\"marker\":{\"colorbar\":{\"outlinewidth\":0,\"ticks\":\"\"}},\"type\":\"scatterpolargl\"}],\"scatterpolar\":[{\"marker\":{\"colorbar\":{\"outlinewidth\":0,\"ticks\":\"\"}},\"type\":\"scatterpolar\"}],\"scatter\":[{\"fillpattern\":{\"fillmode\":\"overlay\",\"size\":10,\"solidity\":0.2},\"type\":\"scatter\"}],\"scatterternary\":[{\"marker\":{\"colorbar\":{\"outlinewidth\":0,\"ticks\":\"\"}},\"type\":\"scatterternary\"}],\"surface\":[{\"colorbar\":{\"outlinewidth\":0,\"ticks\":\"\"},\"colorscale\":[[0.0,\"#0d0887\"],[0.1111111111111111,\"#46039f\"],[0.2222222222222222,\"#7201a8\"],[0.3333333333333333,\"#9c179e\"],[0.4444444444444444,\"#bd3786\"],[0.5555555555555556,\"#d8576b\"],[0.6666666666666666,\"#ed7953\"],[0.7777777777777778,\"#fb9f3a\"],[0.8888888888888888,\"#fdca26\"],[1.0,\"#f0f921\"]],\"type\":\"surface\"}],\"table\":[{\"cells\":{\"fill\":{\"color\":\"#EBF0F8\"},\"line\":{\"color\":\"white\"}},\"header\":{\"fill\":{\"color\":\"#C8D4E3\"},\"line\":{\"color\":\"white\"}},\"type\":\"table\"}]},\"layout\":{\"annotationdefaults\":{\"arrowcolor\":\"#2a3f5f\",\"arrowhead\":0,\"arrowwidth\":1},\"autotypenumbers\":\"strict\",\"coloraxis\":{\"colorbar\":{\"outlinewidth\":0,\"ticks\":\"\"}},\"colorscale\":{\"diverging\":[[0,\"#8e0152\"],[0.1,\"#c51b7d\"],[0.2,\"#de77ae\"],[0.3,\"#f1b6da\"],[0.4,\"#fde0ef\"],[0.5,\"#f7f7f7\"],[0.6,\"#e6f5d0\"],[0.7,\"#b8e186\"],[0.8,\"#7fbc41\"],[0.9,\"#4d9221\"],[1,\"#276419\"]],\"sequential\":[[0.0,\"#0d0887\"],[0.1111111111111111,\"#46039f\"],[0.2222222222222222,\"#7201a8\"],[0.3333333333333333,\"#9c179e\"],[0.4444444444444444,\"#bd3786\"],[0.5555555555555556,\"#d8576b\"],[0.6666666666666666,\"#ed7953\"],[0.7777777777777778,\"#fb9f3a\"],[0.8888888888888888,\"#fdca26\"],[1.0,\"#f0f921\"]],\"sequentialminus\":[[0.0,\"#0d0887\"],[0.1111111111111111,\"#46039f\"],[0.2222222222222222,\"#7201a8\"],[0.3333333333333333,\"#9c179e\"],[0.4444444444444444,\"#bd3786\"],[0.5555555555555556,\"#d8576b\"],[0.6666666666666666,\"#ed7953\"],[0.7777777777777778,\"#fb9f3a\"],[0.8888888888888888,\"#fdca26\"],[1.0,\"#f0f921\"]]},\"colorway\":[\"#636efa\",\"#EF553B\",\"#00cc96\",\"#ab63fa\",\"#FFA15A\",\"#19d3f3\",\"#FF6692\",\"#B6E880\",\"#FF97FF\",\"#FECB52\"],\"font\":{\"color\":\"#2a3f5f\"},\"geo\":{\"bgcolor\":\"white\",\"lakecolor\":\"white\",\"landcolor\":\"#E5ECF6\",\"showlakes\":true,\"showland\":true,\"subunitcolor\":\"white\"},\"hoverlabel\":{\"align\":\"left\"},\"hovermode\":\"closest\",\"mapbox\":{\"style\":\"light\"},\"paper_bgcolor\":\"white\",\"plot_bgcolor\":\"#E5ECF6\",\"polar\":{\"angularaxis\":{\"gridcolor\":\"white\",\"linecolor\":\"white\",\"ticks\":\"\"},\"bgcolor\":\"#E5ECF6\",\"radialaxis\":{\"gridcolor\":\"white\",\"linecolor\":\"white\",\"ticks\":\"\"}},\"scene\":{\"xaxis\":{\"backgroundcolor\":\"#E5ECF6\",\"gridcolor\":\"white\",\"gridwidth\":2,\"linecolor\":\"white\",\"showbackground\":true,\"ticks\":\"\",\"zerolinecolor\":\"white\"},\"yaxis\":{\"backgroundcolor\":\"#E5ECF6\",\"gridcolor\":\"white\",\"gridwidth\":2,\"linecolor\":\"white\",\"showbackground\":true,\"ticks\":\"\",\"zerolinecolor\":\"white\"},\"zaxis\":{\"backgroundcolor\":\"#E5ECF6\",\"gridcolor\":\"white\",\"gridwidth\":2,\"linecolor\":\"white\",\"showbackground\":true,\"ticks\":\"\",\"zerolinecolor\":\"white\"}},\"shapedefaults\":{\"line\":{\"color\":\"#2a3f5f\"}},\"ternary\":{\"aaxis\":{\"gridcolor\":\"white\",\"linecolor\":\"white\",\"ticks\":\"\"},\"baxis\":{\"gridcolor\":\"white\",\"linecolor\":\"white\",\"ticks\":\"\"},\"bgcolor\":\"#E5ECF6\",\"caxis\":{\"gridcolor\":\"white\",\"linecolor\":\"white\",\"ticks\":\"\"}},\"title\":{\"x\":0.05},\"xaxis\":{\"automargin\":true,\"gridcolor\":\"white\",\"linecolor\":\"white\",\"ticks\":\"\",\"title\":{\"standoff\":15},\"zerolinecolor\":\"white\",\"zerolinewidth\":2},\"yaxis\":{\"automargin\":true,\"gridcolor\":\"white\",\"linecolor\":\"white\",\"ticks\":\"\",\"title\":{\"standoff\":15},\"zerolinecolor\":\"white\",\"zerolinewidth\":2}}},\"title\":{\"text\":\"Dinero destinado a pol\\u00edticas sociales en los presupuestos del ayuntamiento de Girona\"},\"xaxis\":{\"dtick\":1,\"tick0\":2021,\"tickmode\":\"linear\"}},                        {\"responsive\": true}                    ).then(function(){\n",
       "                            \n",
       "var gd = document.getElementById('924673d5-5207-4941-bcc6-904a2841a287');\n",
       "var x = new MutationObserver(function (mutations, observer) {{\n",
       "        var display = window.getComputedStyle(gd).display;\n",
       "        if (!display || display === 'none') {{\n",
       "            console.log([gd, 'removed!']);\n",
       "            Plotly.purge(gd);\n",
       "            observer.disconnect();\n",
       "        }}\n",
       "}});\n",
       "\n",
       "// Listen for the removal of the full notebook cells\n",
       "var notebookContainer = gd.closest('#notebook-container');\n",
       "if (notebookContainer) {{\n",
       "    x.observe(notebookContainer, {childList: true});\n",
       "}}\n",
       "\n",
       "// Listen for the clearing of the current output cell\n",
       "var outputEl = gd.closest('.output');\n",
       "if (outputEl) {{\n",
       "    x.observe(outputEl, {childList: true});\n",
       "}}\n",
       "\n",
       "                        })                };                });            </script>        </div>"
      ]
     },
     "metadata": {},
     "output_type": "display_data"
    }
   ],
   "source": [
    "#!pip install plotly\n",
    "import plotly.graph_objects as go\n",
    "from plotly.offline import init_notebook_mode, iplot\n",
    "init_notebook_mode(connected=True)\n",
    "\n",
    "trace1 = go.Bar(\n",
    "    x = años,\n",
    "    y = creditossocial,\n",
    "    name = 'Numero',\n",
    "    marker=dict(color='#f4a460')\n",
    ")\n",
    "datas = [trace1]\n",
    "\n",
    "\n",
    "# Creamos el layout\n",
    "layout = dict(\n",
    "            # Título\n",
    "            title = dict( text = \"Dinero destinado a políticas sociales en los presupuestos del ayuntamiento de Girona\" ),\n",
    "    font=dict(color='black'),\n",
    "     xaxis = dict(\n",
    "      tickmode = 'linear',\n",
    "      tick0 = 2021,\n",
    "      dtick = 1\n",
    "   ),\n",
    "     plot_bgcolor='white'       \n",
    "         )\n",
    "fig = go.Figure(data=datas, layout=layout)\n",
    "iplot(fig) #Para mostrar el gráfico\n",
    "#fig.write_html('../images/presupuestosocial1523.html') # Lo guardamos en formato HTML para incrustarlo en la web"
   ]
  },
  {
   "cell_type": "markdown",
   "id": "16ab66e9",
   "metadata": {},
   "source": [
    "## Movilidad "
   ]
  },
  {
   "cell_type": "markdown",
   "id": "e683a956",
   "metadata": {},
   "source": [
    "Por último, vamos a analizar cuánto ha presupuestado el ayuntamiento para las partidas relacionadas con la movilidad en la ciudad. Utilizaremos los mismos presupuestos que en los análisis anteriores y la misma metodología."
   ]
  },
  {
   "cell_type": "code",
   "execution_count": 26,
   "id": "a748d085",
   "metadata": {},
   "outputs": [
    {
     "data": {
      "text/html": [
       "<div>\n",
       "<style scoped>\n",
       "    .dataframe tbody tr th:only-of-type {\n",
       "        vertical-align: middle;\n",
       "    }\n",
       "\n",
       "    .dataframe tbody tr th {\n",
       "        vertical-align: top;\n",
       "    }\n",
       "\n",
       "    .dataframe thead th {\n",
       "        text-align: right;\n",
       "    }\n",
       "</style>\n",
       "<table border=\"1\" class=\"dataframe\">\n",
       "  <thead>\n",
       "    <tr style=\"text-align: right;\">\n",
       "      <th></th>\n",
       "      <th>ÀREA\\t</th>\n",
       "      <th>ÀREA_descripció</th>\n",
       "      <th>UNITAT</th>\n",
       "      <th>UNITAT_descripció</th>\n",
       "      <th>DEPARTAMENT</th>\n",
       "      <th>\\tDEPARTAMENT_descripció</th>\n",
       "    </tr>\n",
       "  </thead>\n",
       "  <tbody>\n",
       "    <tr>\n",
       "      <th>0</th>\n",
       "      <td>1</td>\n",
       "      <td>ALCALDIA</td>\n",
       "      <td>10</td>\n",
       "      <td>PRESIDÈNCIA</td>\n",
       "      <td>100</td>\n",
       "      <td>PRESIDENCIA</td>\n",
       "    </tr>\n",
       "    <tr>\n",
       "      <th>1</th>\n",
       "      <td>1</td>\n",
       "      <td>ALCALDIA</td>\n",
       "      <td>11</td>\n",
       "      <td>OFICINA DEFENSOR DE LA CIUTADANIA</td>\n",
       "      <td>110</td>\n",
       "      <td>OFICINA DEFENSOR DE LA CIUTADANIA</td>\n",
       "    </tr>\n",
       "    <tr>\n",
       "      <th>2</th>\n",
       "      <td>1</td>\n",
       "      <td>ALCALDIA</td>\n",
       "      <td>12</td>\n",
       "      <td>UMAT</td>\n",
       "      <td>120</td>\n",
       "      <td>UMAT</td>\n",
       "    </tr>\n",
       "    <tr>\n",
       "      <th>3</th>\n",
       "      <td>1</td>\n",
       "      <td>ALCALDIA</td>\n",
       "      <td>13</td>\n",
       "      <td>GESTIÓ DOCUMENTAL, ARXIUS I PUBLICACIONS</td>\n",
       "      <td>130</td>\n",
       "      <td>GESTIÓ DOCUMENTAL, ARXIU I PUBLICACIONS</td>\n",
       "    </tr>\n",
       "    <tr>\n",
       "      <th>4</th>\n",
       "      <td>1</td>\n",
       "      <td>ALCALDIA</td>\n",
       "      <td>14</td>\n",
       "      <td>DRETS SOCIALS</td>\n",
       "      <td>140</td>\n",
       "      <td>SERVEIS SOCIALS</td>\n",
       "    </tr>\n",
       "    <tr>\n",
       "      <th>5</th>\n",
       "      <td>1</td>\n",
       "      <td>ALCALDIA</td>\n",
       "      <td>14</td>\n",
       "      <td>DRETS SOCIALS</td>\n",
       "      <td>141</td>\n",
       "      <td>SERVEIS SOCIALS ATENCIÓ PRIMÀRIA</td>\n",
       "    </tr>\n",
       "    <tr>\n",
       "      <th>6</th>\n",
       "      <td>1</td>\n",
       "      <td>ALCALDIA</td>\n",
       "      <td>14</td>\n",
       "      <td>DRETS SOCIALS</td>\n",
       "      <td>142</td>\n",
       "      <td>SERVEIS SOCIALS ESPECIALITZATS</td>\n",
       "    </tr>\n",
       "    <tr>\n",
       "      <th>7</th>\n",
       "      <td>1</td>\n",
       "      <td>ALCALDIA</td>\n",
       "      <td>14</td>\n",
       "      <td>DRETS SOCIALS</td>\n",
       "      <td>143</td>\n",
       "      <td>CENTRES CÍVICS</td>\n",
       "    </tr>\n",
       "    <tr>\n",
       "      <th>8</th>\n",
       "      <td>1</td>\n",
       "      <td>ALCALDIA</td>\n",
       "      <td>14</td>\n",
       "      <td>DRETS SOCIALS</td>\n",
       "      <td>144</td>\n",
       "      <td>HABITATGE</td>\n",
       "    </tr>\n",
       "    <tr>\n",
       "      <th>9</th>\n",
       "      <td>1</td>\n",
       "      <td>ALCALDIA</td>\n",
       "      <td>14</td>\n",
       "      <td>DRETS SOCIALS</td>\n",
       "      <td>145</td>\n",
       "      <td>COOPERACIÓ</td>\n",
       "    </tr>\n",
       "    <tr>\n",
       "      <th>10</th>\n",
       "      <td>1</td>\n",
       "      <td>ALCALDIA</td>\n",
       "      <td>15</td>\n",
       "      <td>SEGURETAT CIUTADANA</td>\n",
       "      <td>150</td>\n",
       "      <td>SEGURETAT CIUTADANA</td>\n",
       "    </tr>\n",
       "    <tr>\n",
       "      <th>11</th>\n",
       "      <td>1</td>\n",
       "      <td>ALCALDIA</td>\n",
       "      <td>16</td>\n",
       "      <td>SALUT</td>\n",
       "      <td>160</td>\n",
       "      <td>SALUT</td>\n",
       "    </tr>\n",
       "    <tr>\n",
       "      <th>12</th>\n",
       "      <td>3</td>\n",
       "      <td>TERRITORI</td>\n",
       "      <td>30</td>\n",
       "      <td>URBANISME I ACTIVITATS</td>\n",
       "      <td>300</td>\n",
       "      <td>URBANISME I ACTIVITATS</td>\n",
       "    </tr>\n",
       "    <tr>\n",
       "      <th>13</th>\n",
       "      <td>3</td>\n",
       "      <td>TERRITORI</td>\n",
       "      <td>31</td>\n",
       "      <td>MOBILITAT I VIA PÚBLICA</td>\n",
       "      <td>310</td>\n",
       "      <td>MOBILITAT I VIA PÚBLICA</td>\n",
       "    </tr>\n",
       "    <tr>\n",
       "      <th>14</th>\n",
       "      <td>3</td>\n",
       "      <td>TERRITORI</td>\n",
       "      <td>32</td>\n",
       "      <td>MEDI AMBIENT</td>\n",
       "      <td>320</td>\n",
       "      <td>SOSTENIBILITAT</td>\n",
       "    </tr>\n",
       "    <tr>\n",
       "      <th>15</th>\n",
       "      <td>3</td>\n",
       "      <td>TERRITORI</td>\n",
       "      <td>32</td>\n",
       "      <td>MEDI AMBIENT</td>\n",
       "      <td>321</td>\n",
       "      <td>PARCS I JARDINS, PROTECCIÓ DEL MEDI</td>\n",
       "    </tr>\n",
       "    <tr>\n",
       "      <th>16</th>\n",
       "      <td>3</td>\n",
       "      <td>TERRITORI</td>\n",
       "      <td>32</td>\n",
       "      <td>MEDI AMBIENT</td>\n",
       "      <td>322</td>\n",
       "      <td>SERVEIS URBANS</td>\n",
       "    </tr>\n",
       "    <tr>\n",
       "      <th>17</th>\n",
       "      <td>3</td>\n",
       "      <td>TERRITORI</td>\n",
       "      <td>32</td>\n",
       "      <td>MEDI AMBIENT</td>\n",
       "      <td>323</td>\n",
       "      <td>QUALITAT AMBIENTAL I PROTECCIÓ DE LA SALUT</td>\n",
       "    </tr>\n",
       "    <tr>\n",
       "      <th>18</th>\n",
       "      <td>4</td>\n",
       "      <td>HISENDA I RÈGIM INTERIOR</td>\n",
       "      <td>40</td>\n",
       "      <td>HISENDA</td>\n",
       "      <td>400</td>\n",
       "      <td>HISENDA</td>\n",
       "    </tr>\n",
       "    <tr>\n",
       "      <th>19</th>\n",
       "      <td>4</td>\n",
       "      <td>HISENDA I RÈGIM INTERIOR</td>\n",
       "      <td>41</td>\n",
       "      <td>RÈGIM INTERIOR</td>\n",
       "      <td>410</td>\n",
       "      <td>RÈGIM INTERIOR</td>\n",
       "    </tr>\n",
       "    <tr>\n",
       "      <th>20</th>\n",
       "      <td>4</td>\n",
       "      <td>HISENDA I RÈGIM INTERIOR</td>\n",
       "      <td>41</td>\n",
       "      <td>RÈGIM INTERIOR</td>\n",
       "      <td>411</td>\n",
       "      <td>PATRIMONI</td>\n",
       "    </tr>\n",
       "    <tr>\n",
       "      <th>21</th>\n",
       "      <td>4</td>\n",
       "      <td>HISENDA I RÈGIM INTERIOR</td>\n",
       "      <td>41</td>\n",
       "      <td>RÈGIM INTERIOR</td>\n",
       "      <td>412</td>\n",
       "      <td>RECURSOS HUMANS</td>\n",
       "    </tr>\n",
       "    <tr>\n",
       "      <th>22</th>\n",
       "      <td>4</td>\n",
       "      <td>HISENDA I RÈGIM INTERIOR</td>\n",
       "      <td>41</td>\n",
       "      <td>RÈGIM INTERIOR</td>\n",
       "      <td>413</td>\n",
       "      <td>SERVEI DE SISTEMES I TECNOLOGIES DE LA INFORMACIÓ</td>\n",
       "    </tr>\n",
       "    <tr>\n",
       "      <th>23</th>\n",
       "      <td>4</td>\n",
       "      <td>HISENDA I RÈGIM INTERIOR</td>\n",
       "      <td>41</td>\n",
       "      <td>RÈGIM INTERIOR</td>\n",
       "      <td>414</td>\n",
       "      <td>REGISTRE GENERAL, ESTADÍSTICA I OIAC</td>\n",
       "    </tr>\n",
       "    <tr>\n",
       "      <th>24</th>\n",
       "      <td>5</td>\n",
       "      <td>ÀREA DRET A LES PERSONES</td>\n",
       "      <td>50</td>\n",
       "      <td>CULTURA</td>\n",
       "      <td>500</td>\n",
       "      <td>CULTURA</td>\n",
       "    </tr>\n",
       "    <tr>\n",
       "      <th>25</th>\n",
       "      <td>5</td>\n",
       "      <td>ÀREA DRET A LES PERSONES</td>\n",
       "      <td>50</td>\n",
       "      <td>CULTURA</td>\n",
       "      <td>501</td>\n",
       "      <td>BIBLIOTEQUES</td>\n",
       "    </tr>\n",
       "    <tr>\n",
       "      <th>26</th>\n",
       "      <td>5</td>\n",
       "      <td>ÀREA DRET A LES PERSONES</td>\n",
       "      <td>50</td>\n",
       "      <td>CULTURA</td>\n",
       "      <td>502</td>\n",
       "      <td>MUSEU D'HISTÒRIA DE GIRONA</td>\n",
       "    </tr>\n",
       "    <tr>\n",
       "      <th>27</th>\n",
       "      <td>5</td>\n",
       "      <td>ÀREA DRET A LES PERSONES</td>\n",
       "      <td>50</td>\n",
       "      <td>CULTURA</td>\n",
       "      <td>503</td>\n",
       "      <td>TEATRE MUNICIPAL</td>\n",
       "    </tr>\n",
       "    <tr>\n",
       "      <th>28</th>\n",
       "      <td>5</td>\n",
       "      <td>ÀREA DRET A LES PERSONES</td>\n",
       "      <td>50</td>\n",
       "      <td>CULTURA</td>\n",
       "      <td>504</td>\n",
       "      <td>LA MERCÈ</td>\n",
       "    </tr>\n",
       "    <tr>\n",
       "      <th>29</th>\n",
       "      <td>5</td>\n",
       "      <td>ÀREA DRET A LES PERSONES</td>\n",
       "      <td>50</td>\n",
       "      <td>CULTURA</td>\n",
       "      <td>505</td>\n",
       "      <td>BÒLIT- CENTRE ART CONTEMPORANI</td>\n",
       "    </tr>\n",
       "    <tr>\n",
       "      <th>30</th>\n",
       "      <td>5</td>\n",
       "      <td>ÀREA DRET A LES PERSONES</td>\n",
       "      <td>50</td>\n",
       "      <td>CULTURA</td>\n",
       "      <td>506</td>\n",
       "      <td>ESPAI MARFÀ</td>\n",
       "    </tr>\n",
       "    <tr>\n",
       "      <th>31</th>\n",
       "      <td>5</td>\n",
       "      <td>ÀREA DRET A LES PERSONES</td>\n",
       "      <td>50</td>\n",
       "      <td>CULTURA</td>\n",
       "      <td>507</td>\n",
       "      <td>DINAMITZACIÓ DEL TERRITORI</td>\n",
       "    </tr>\n",
       "    <tr>\n",
       "      <th>32</th>\n",
       "      <td>5</td>\n",
       "      <td>ÀREA DRET A LES PERSONES</td>\n",
       "      <td>50</td>\n",
       "      <td>CULTURA</td>\n",
       "      <td>508</td>\n",
       "      <td>JOVENTUT</td>\n",
       "    </tr>\n",
       "    <tr>\n",
       "      <th>33</th>\n",
       "      <td>5</td>\n",
       "      <td>ÀREA DRET A LES PERSONES</td>\n",
       "      <td>51</td>\n",
       "      <td>EDUCACIÓ, ESPORTS I SEGURETAT EN EL TREBALL</td>\n",
       "      <td>510</td>\n",
       "      <td>EDUCACIÓ</td>\n",
       "    </tr>\n",
       "    <tr>\n",
       "      <th>34</th>\n",
       "      <td>5</td>\n",
       "      <td>ÀREA DRET A LES PERSONES</td>\n",
       "      <td>51</td>\n",
       "      <td>EDUCACIÓ, ESPORTS I SEGURETAT EN EL TREBALL</td>\n",
       "      <td>511</td>\n",
       "      <td>ESPORTS</td>\n",
       "    </tr>\n",
       "    <tr>\n",
       "      <th>35</th>\n",
       "      <td>5</td>\n",
       "      <td>ÀREA DRET A LES PERSONES</td>\n",
       "      <td>51</td>\n",
       "      <td>EDUCACIÓ, ESPORTS I SEGURETAT EN EL TREBALL</td>\n",
       "      <td>512</td>\n",
       "      <td>SEGURETAT EN EL TREBALL</td>\n",
       "    </tr>\n",
       "    <tr>\n",
       "      <th>36</th>\n",
       "      <td>6</td>\n",
       "      <td>PROMOCIÓ ECONÒMICA DESENVOLUPAMENT LOCAL, TURI...</td>\n",
       "      <td>60</td>\n",
       "      <td>PROMOCIÓ ECONÒMICA DESENVOLUPAMENT LOCAL, TURI...</td>\n",
       "      <td>600</td>\n",
       "      <td>PROMOCIÓ ECONÒMICA</td>\n",
       "    </tr>\n",
       "    <tr>\n",
       "      <th>37</th>\n",
       "      <td>6</td>\n",
       "      <td>PROMOCIÓ ECONÒMICA DESENVOLUPAMENT LOCAL, TURI...</td>\n",
       "      <td>60</td>\n",
       "      <td>PROMOCIÓ ECONÒMICA DESENVOLUPAMENT LOCAL, TURI...</td>\n",
       "      <td>601</td>\n",
       "      <td>TURISME</td>\n",
       "    </tr>\n",
       "    <tr>\n",
       "      <th>38</th>\n",
       "      <td>6</td>\n",
       "      <td>PROMOCIÓ ECONÒMICA DESENVOLUPAMENT LOCAL, TURI...</td>\n",
       "      <td>60</td>\n",
       "      <td>PROMOCIÓ ECONÒMICA DESENVOLUPAMENT LOCAL, TURI...</td>\n",
       "      <td>602</td>\n",
       "      <td>EMPRESA</td>\n",
       "    </tr>\n",
       "    <tr>\n",
       "      <th>39</th>\n",
       "      <td>6</td>\n",
       "      <td>PROMOCIÓ ECONÒMICA DESENVOLUPAMENT LOCAL, TURI...</td>\n",
       "      <td>60</td>\n",
       "      <td>PROMOCIÓ ECONÒMICA DESENVOLUPAMENT LOCAL, TURI...</td>\n",
       "      <td>603</td>\n",
       "      <td>COMERÇ</td>\n",
       "    </tr>\n",
       "    <tr>\n",
       "      <th>40</th>\n",
       "      <td>6</td>\n",
       "      <td>PROMOCIÓ ECONÒMICA DESENVOLUPAMENT LOCAL, TURI...</td>\n",
       "      <td>60</td>\n",
       "      <td>PROMOCIÓ ECONÒMICA DESENVOLUPAMENT LOCAL, TURI...</td>\n",
       "      <td>604</td>\n",
       "      <td>SERVEI MUNICIPAL D'OCUPACIÓ</td>\n",
       "    </tr>\n",
       "    <tr>\n",
       "      <th>41</th>\n",
       "      <td>6</td>\n",
       "      <td>PROMOCIÓ ECONÒMICA DESENVOLUPAMENT LOCAL, TURI...</td>\n",
       "      <td>60</td>\n",
       "      <td>PROMOCIÓ ECONÒMICA DESENVOLUPAMENT LOCAL, TURI...</td>\n",
       "      <td>605</td>\n",
       "      <td>OFICINA MUNICIPAL ATENCIÓ AL CONSUMIDOR</td>\n",
       "    </tr>\n",
       "  </tbody>\n",
       "</table>\n",
       "</div>"
      ],
      "text/plain": [
       "    ÀREA\\t                                    ÀREA_descripció  UNITAT  \\\n",
       "0        1                                           ALCALDIA      10   \n",
       "1        1                                           ALCALDIA      11   \n",
       "2        1                                           ALCALDIA      12   \n",
       "3        1                                           ALCALDIA      13   \n",
       "4        1                                           ALCALDIA      14   \n",
       "5        1                                           ALCALDIA      14   \n",
       "6        1                                           ALCALDIA      14   \n",
       "7        1                                           ALCALDIA      14   \n",
       "8        1                                           ALCALDIA      14   \n",
       "9        1                                           ALCALDIA      14   \n",
       "10       1                                           ALCALDIA      15   \n",
       "11       1                                           ALCALDIA      16   \n",
       "12       3                                          TERRITORI      30   \n",
       "13       3                                          TERRITORI      31   \n",
       "14       3                                          TERRITORI      32   \n",
       "15       3                                          TERRITORI      32   \n",
       "16       3                                          TERRITORI      32   \n",
       "17       3                                          TERRITORI      32   \n",
       "18       4                           HISENDA I RÈGIM INTERIOR      40   \n",
       "19       4                           HISENDA I RÈGIM INTERIOR      41   \n",
       "20       4                           HISENDA I RÈGIM INTERIOR      41   \n",
       "21       4                           HISENDA I RÈGIM INTERIOR      41   \n",
       "22       4                           HISENDA I RÈGIM INTERIOR      41   \n",
       "23       4                           HISENDA I RÈGIM INTERIOR      41   \n",
       "24       5                           ÀREA DRET A LES PERSONES      50   \n",
       "25       5                           ÀREA DRET A LES PERSONES      50   \n",
       "26       5                           ÀREA DRET A LES PERSONES      50   \n",
       "27       5                           ÀREA DRET A LES PERSONES      50   \n",
       "28       5                           ÀREA DRET A LES PERSONES      50   \n",
       "29       5                           ÀREA DRET A LES PERSONES      50   \n",
       "30       5                           ÀREA DRET A LES PERSONES      50   \n",
       "31       5                           ÀREA DRET A LES PERSONES      50   \n",
       "32       5                           ÀREA DRET A LES PERSONES      50   \n",
       "33       5                           ÀREA DRET A LES PERSONES      51   \n",
       "34       5                           ÀREA DRET A LES PERSONES      51   \n",
       "35       5                           ÀREA DRET A LES PERSONES      51   \n",
       "36       6  PROMOCIÓ ECONÒMICA DESENVOLUPAMENT LOCAL, TURI...      60   \n",
       "37       6  PROMOCIÓ ECONÒMICA DESENVOLUPAMENT LOCAL, TURI...      60   \n",
       "38       6  PROMOCIÓ ECONÒMICA DESENVOLUPAMENT LOCAL, TURI...      60   \n",
       "39       6  PROMOCIÓ ECONÒMICA DESENVOLUPAMENT LOCAL, TURI...      60   \n",
       "40       6  PROMOCIÓ ECONÒMICA DESENVOLUPAMENT LOCAL, TURI...      60   \n",
       "41       6  PROMOCIÓ ECONÒMICA DESENVOLUPAMENT LOCAL, TURI...      60   \n",
       "\n",
       "                                    UNITAT_descripció  DEPARTAMENT  \\\n",
       "0                                         PRESIDÈNCIA          100   \n",
       "1                   OFICINA DEFENSOR DE LA CIUTADANIA          110   \n",
       "2                                                UMAT          120   \n",
       "3            GESTIÓ DOCUMENTAL, ARXIUS I PUBLICACIONS          130   \n",
       "4                                       DRETS SOCIALS          140   \n",
       "5                                       DRETS SOCIALS          141   \n",
       "6                                       DRETS SOCIALS          142   \n",
       "7                                       DRETS SOCIALS          143   \n",
       "8                                       DRETS SOCIALS          144   \n",
       "9                                       DRETS SOCIALS          145   \n",
       "10                                SEGURETAT CIUTADANA          150   \n",
       "11                                              SALUT          160   \n",
       "12                             URBANISME I ACTIVITATS          300   \n",
       "13                            MOBILITAT I VIA PÚBLICA          310   \n",
       "14                                       MEDI AMBIENT          320   \n",
       "15                                       MEDI AMBIENT          321   \n",
       "16                                       MEDI AMBIENT          322   \n",
       "17                                       MEDI AMBIENT          323   \n",
       "18                                            HISENDA          400   \n",
       "19                                     RÈGIM INTERIOR          410   \n",
       "20                                     RÈGIM INTERIOR          411   \n",
       "21                                     RÈGIM INTERIOR          412   \n",
       "22                                     RÈGIM INTERIOR          413   \n",
       "23                                     RÈGIM INTERIOR          414   \n",
       "24                                            CULTURA          500   \n",
       "25                                            CULTURA          501   \n",
       "26                                            CULTURA          502   \n",
       "27                                            CULTURA          503   \n",
       "28                                            CULTURA          504   \n",
       "29                                            CULTURA          505   \n",
       "30                                            CULTURA          506   \n",
       "31                                            CULTURA          507   \n",
       "32                                            CULTURA          508   \n",
       "33        EDUCACIÓ, ESPORTS I SEGURETAT EN EL TREBALL          510   \n",
       "34        EDUCACIÓ, ESPORTS I SEGURETAT EN EL TREBALL          511   \n",
       "35        EDUCACIÓ, ESPORTS I SEGURETAT EN EL TREBALL          512   \n",
       "36  PROMOCIÓ ECONÒMICA DESENVOLUPAMENT LOCAL, TURI...          600   \n",
       "37  PROMOCIÓ ECONÒMICA DESENVOLUPAMENT LOCAL, TURI...          601   \n",
       "38  PROMOCIÓ ECONÒMICA DESENVOLUPAMENT LOCAL, TURI...          602   \n",
       "39  PROMOCIÓ ECONÒMICA DESENVOLUPAMENT LOCAL, TURI...          603   \n",
       "40  PROMOCIÓ ECONÒMICA DESENVOLUPAMENT LOCAL, TURI...          604   \n",
       "41  PROMOCIÓ ECONÒMICA DESENVOLUPAMENT LOCAL, TURI...          605   \n",
       "\n",
       "                             \\tDEPARTAMENT_descripció  \n",
       "0                                         PRESIDENCIA  \n",
       "1                   OFICINA DEFENSOR DE LA CIUTADANIA  \n",
       "2                                                UMAT  \n",
       "3             GESTIÓ DOCUMENTAL, ARXIU I PUBLICACIONS  \n",
       "4                                     SERVEIS SOCIALS  \n",
       "5                    SERVEIS SOCIALS ATENCIÓ PRIMÀRIA  \n",
       "6                      SERVEIS SOCIALS ESPECIALITZATS  \n",
       "7                                      CENTRES CÍVICS  \n",
       "8                                           HABITATGE  \n",
       "9                                          COOPERACIÓ  \n",
       "10                                SEGURETAT CIUTADANA  \n",
       "11                                              SALUT  \n",
       "12                             URBANISME I ACTIVITATS  \n",
       "13                            MOBILITAT I VIA PÚBLICA  \n",
       "14                                     SOSTENIBILITAT  \n",
       "15                PARCS I JARDINS, PROTECCIÓ DEL MEDI  \n",
       "16                                     SERVEIS URBANS  \n",
       "17         QUALITAT AMBIENTAL I PROTECCIÓ DE LA SALUT  \n",
       "18                                            HISENDA  \n",
       "19                                     RÈGIM INTERIOR  \n",
       "20                                          PATRIMONI  \n",
       "21                                    RECURSOS HUMANS  \n",
       "22  SERVEI DE SISTEMES I TECNOLOGIES DE LA INFORMACIÓ  \n",
       "23               REGISTRE GENERAL, ESTADÍSTICA I OIAC  \n",
       "24                                            CULTURA  \n",
       "25                                       BIBLIOTEQUES  \n",
       "26                         MUSEU D'HISTÒRIA DE GIRONA  \n",
       "27                                   TEATRE MUNICIPAL  \n",
       "28                                           LA MERCÈ  \n",
       "29                     BÒLIT- CENTRE ART CONTEMPORANI  \n",
       "30                                        ESPAI MARFÀ  \n",
       "31                         DINAMITZACIÓ DEL TERRITORI  \n",
       "32                                           JOVENTUT  \n",
       "33                                           EDUCACIÓ  \n",
       "34                                            ESPORTS  \n",
       "35                            SEGURETAT EN EL TREBALL  \n",
       "36                                 PROMOCIÓ ECONÒMICA  \n",
       "37                                            TURISME  \n",
       "38                                            EMPRESA  \n",
       "39                                             COMERÇ  \n",
       "40                        SERVEI MUNICIPAL D'OCUPACIÓ  \n",
       "41            OFICINA MUNICIPAL ATENCIÓ AL CONSUMIDOR  "
      ]
     },
     "execution_count": 26,
     "metadata": {},
     "output_type": "execute_result"
    }
   ],
   "source": [
    "descripcion23"
   ]
  },
  {
   "cell_type": "markdown",
   "id": "4c35d2e4",
   "metadata": {},
   "source": [
    "En este caso (año 2013) nos sirve el departamento 310 (*Mobilitat i via pública*) que recoge aquellas partidas relacionadas con la movilidad. Sin embargo, como hemos visto anteriormente, en otros presupuestos puede que no tenga el mismo número de departamento. Guardaremos nuestra selección bajo el nombre *movilidad + año del presupuesto correspondiente*."
   ]
  },
  {
   "cell_type": "code",
   "execution_count": 27,
   "id": "a56ba45a",
   "metadata": {},
   "outputs": [],
   "source": [
    "movilidad15 = pres15[(pres15['Orgànica'] == 210)]\n",
    "movilidad16 = pres16[(pres16['Orgànica'] == 710)]\n",
    "movilidad17 = pres17[(pres17['Orgànica'] == 310)]\n",
    "movilidad18 = pres18[(pres18['Orgànica'] == 310)]\n",
    "movilidad19 = pres19[(pres19['Orgànica'] == 310)]\n",
    "movilidad20 = pres20[(pres20['Orgànica'] == 310)]\n",
    "movilidad21 = pres21[(pres21['Orgànica'] == 310)]\n",
    "movilidad22 = pres22[(pres22['Orgànica'] == 310)]\n",
    "movilidad23 = pres23[(pres23['Orgànica'] == 310)]"
   ]
  },
  {
   "cell_type": "markdown",
   "id": "b657c2ae",
   "metadata": {},
   "source": [
    "Como hemos hecho en las otras secciones, guardamos la suma de los créditos de cada año en bajo un mismo *array*."
   ]
  },
  {
   "cell_type": "code",
   "execution_count": 28,
   "id": "5d83c702",
   "metadata": {},
   "outputs": [],
   "source": [
    "creditosmovilidad = [movilidad15['Crèdits totals consignats'].sum(),\n",
    "           movilidad16['Crèdits totals consignats'].sum(),\n",
    "           movilidad17['Crèdits totals consignats'].sum(),\n",
    "           movilidad18['Crèdits totals consignats'].sum(),\n",
    "           movilidad19['Crèdits totals consignats'].sum(),\n",
    "           movilidad20['Crèdits totals consignats'].sum(),\n",
    "           movilidad21['Crèdits totals consignats'].sum(),\n",
    "           movilidad22['Crèdits totals consignats'].sum(),\n",
    "           movilidad23['Crèdits totals consignats'].sum()]"
   ]
  },
  {
   "cell_type": "markdown",
   "id": "67d64cf6",
   "metadata": {},
   "source": [
    "### Gráfico de barras con Matplotlib"
   ]
  },
  {
   "cell_type": "markdown",
   "id": "57412c15",
   "metadata": {},
   "source": [
    "Reciclaremos el código que hemos usado en las anteriores secciones para hacer los gráficos de barras que representen el dinero destinado a la movilidad."
   ]
  },
  {
   "cell_type": "code",
   "execution_count": 29,
   "id": "e07097d2",
   "metadata": {},
   "outputs": [
    {
     "data": {
      "image/png": "[encoded data removed]",
      "text/plain": [
       "<Figure size 800x500 with 1 Axes>"
      ]
     },
     "metadata": {},
     "output_type": "display_data"
    },
    {
     "data": {
      "text/plain": [
       "<Figure size 640x480 with 0 Axes>"
      ]
     },
     "metadata": {},
     "output_type": "display_data"
    }
   ],
   "source": [
    "#!pip install matplotlib\n",
    "import matplotlib.pyplot as plt\n",
    "plt.figure(figsize=(8, 5))\n",
    "plt.bar(años, creditosmovilidad, color = \"#f4a460\")\n",
    "plt.xlabel('Años muestra')\n",
    "plt.ylabel('Dinero destinado')\n",
    "plt.title('Dinero destinado a movilidad en los presupuestos del ayuntamiento de Girona')\n",
    "plt.xticks(rotation=45)\n",
    "plt.ticklabel_format(axis='y', style='plain') #Para que no nos muestre las cifras en formato científico.\n",
    "plt.show() #Para mostrar el gráfico\n",
    "plt.tight_layout()  # Para evitar recorte de etiquetas\n",
    "#plt.savefig('../images/presupuestomovilidad1523.svg', format='svg') #para guardar el gráfico en formato svg"
   ]
  },
  {
   "cell_type": "markdown",
   "id": "1d3546f3",
   "metadata": {},
   "source": [
    "### Gráfico de barras interactivo con Plotly"
   ]
  },
  {
   "cell_type": "code",
   "execution_count": 30,
   "id": "f113e5e1",
   "metadata": {},
   "outputs": [
    {
     "data": {
      "text/html": [
       "        <script type=\"text/javascript\">\n",
       "        window.PlotlyConfig = {MathJaxConfig: 'local'};\n",
       "        if (window.MathJax && window.MathJax.Hub && window.MathJax.Hub.Config) {window.MathJax.Hub.Config({SVG: {font: \"STIX-Web\"}});}\n",
       "        if (typeof require !== 'undefined') {\n",
       "        require.undef(\"plotly\");\n",
       "        requirejs.config({\n",
       "            paths: {\n",
       "                'plotly': ['https://cdn.plot.ly/plotly-2.25.2.min']\n",
       "            }\n",
       "        });\n",
       "        require(['plotly'], function(Plotly) {\n",
       "            window._Plotly = Plotly;\n",
       "        });\n",
       "        }\n",
       "        </script>\n",
       "        "
      ]
     },
     "metadata": {},
     "output_type": "display_data"
    },
    {
     "data": {
      "application/vnd.plotly.v1+json": {
       "config": {
        "linkText": "Export to plot.ly",
        "plotlyServerURL": "https://plot.ly",
        "showLink": false
       },
       "data": [
        {
         "marker": {
          "color": "#f4a460"
         },
         "name": "Numero",
         "type": "bar",
         "x": [
          "2015",
          "2016",
          "2017",
          "2018",
          "2019",
          "2020",
          "2021",
          "2022",
          "2023"
         ],
         "y": [
          11110408.87,
          10771480.13,
          10490410.34,
          11259246.4,
          12769443.83,
          13975970.2,
          14898938.59,
          13594039.34,
          15554345.9
         ]
        }
       ],
       "layout": {
        "font": {
         "color": "black"
        },
        "plot_bgcolor": "white",
        "template": {
         "data": {
          "bar": [
           {
            "error_x": {
             "color": "#2a3f5f"
            },
            "error_y": {
             "color": "#2a3f5f"
            },
            "marker": {
             "line": {
              "color": "#E5ECF6",
              "width": 0.5
             },
             "pattern": {
              "fillmode": "overlay",
              "size": 10,
              "solidity": 0.2
             }
            },
            "type": "bar"
           }
          ],
          "barpolar": [
           {
            "marker": {
             "line": {
              "color": "#E5ECF6",
              "width": 0.5
             },
             "pattern": {
              "fillmode": "overlay",
              "size": 10,
              "solidity": 0.2
             }
            },
            "type": "barpolar"
           }
          ],
          "carpet": [
           {
            "aaxis": {
             "endlinecolor": "#2a3f5f",
             "gridcolor": "white",
             "linecolor": "white",
             "minorgridcolor": "white",
             "startlinecolor": "#2a3f5f"
            },
            "baxis": {
             "endlinecolor": "#2a3f5f",
             "gridcolor": "white",
             "linecolor": "white",
             "minorgridcolor": "white",
             "startlinecolor": "#2a3f5f"
            },
            "type": "carpet"
           }
          ],
          "choropleth": [
           {
            "colorbar": {
             "outlinewidth": 0,
             "ticks": ""
            },
            "type": "choropleth"
           }
          ],
          "contour": [
           {
            "colorbar": {
             "outlinewidth": 0,
             "ticks": ""
            },
            "colorscale": [
             [
              0,
              "#0d0887"
             ],
             [
              0.1111111111111111,
              "#46039f"
             ],
             [
              0.2222222222222222,
              "#7201a8"
             ],
             [
              0.3333333333333333,
              "#9c179e"
             ],
             [
              0.4444444444444444,
              "#bd3786"
             ],
             [
              0.5555555555555556,
              "#d8576b"
             ],
             [
              0.6666666666666666,
              "#ed7953"
             ],
             [
              0.7777777777777778,
              "#fb9f3a"
             ],
             [
              0.8888888888888888,
              "#fdca26"
             ],
             [
              1,
              "#f0f921"
             ]
            ],
            "type": "contour"
           }
          ],
          "contourcarpet": [
           {
            "colorbar": {
             "outlinewidth": 0,
             "ticks": ""
            },
            "type": "contourcarpet"
           }
          ],
          "heatmap": [
           {
            "colorbar": {
             "outlinewidth": 0,
             "ticks": ""
            },
            "colorscale": [
             [
              0,
              "#0d0887"
             ],
             [
              0.1111111111111111,
              "#46039f"
             ],
             [
              0.2222222222222222,
              "#7201a8"
             ],
             [
              0.3333333333333333,
              "#9c179e"
             ],
             [
              0.4444444444444444,
              "#bd3786"
             ],
             [
              0.5555555555555556,
              "#d8576b"
             ],
             [
              0.6666666666666666,
              "#ed7953"
             ],
             [
              0.7777777777777778,
              "#fb9f3a"
             ],
             [
              0.8888888888888888,
              "#fdca26"
             ],
             [
              1,
              "#f0f921"
             ]
            ],
            "type": "heatmap"
           }
          ],
          "heatmapgl": [
           {
            "colorbar": {
             "outlinewidth": 0,
             "ticks": ""
            },
            "colorscale": [
             [
              0,
              "#0d0887"
             ],
             [
              0.1111111111111111,
              "#46039f"
             ],
             [
              0.2222222222222222,
              "#7201a8"
             ],
             [
              0.3333333333333333,
              "#9c179e"
             ],
             [
              0.4444444444444444,
              "#bd3786"
             ],
             [
              0.5555555555555556,
              "#d8576b"
             ],
             [
              0.6666666666666666,
              "#ed7953"
             ],
             [
              0.7777777777777778,
              "#fb9f3a"
             ],
             [
              0.8888888888888888,
              "#fdca26"
             ],
             [
              1,
              "#f0f921"
             ]
            ],
            "type": "heatmapgl"
           }
          ],
          "histogram": [
           {
            "marker": {
             "pattern": {
              "fillmode": "overlay",
              "size": 10,
              "solidity": 0.2
             }
            },
            "type": "histogram"
           }
          ],
          "histogram2d": [
           {
            "colorbar": {
             "outlinewidth": 0,
             "ticks": ""
            },
            "colorscale": [
             [
              0,
              "#0d0887"
             ],
             [
              0.1111111111111111,
              "#46039f"
             ],
             [
              0.2222222222222222,
              "#7201a8"
             ],
             [
              0.3333333333333333,
              "#9c179e"
             ],
             [
              0.4444444444444444,
              "#bd3786"
             ],
             [
              0.5555555555555556,
              "#d8576b"
             ],
             [
              0.6666666666666666,
              "#ed7953"
             ],
             [
              0.7777777777777778,
              "#fb9f3a"
             ],
             [
              0.8888888888888888,
              "#fdca26"
             ],
             [
              1,
              "#f0f921"
             ]
            ],
            "type": "histogram2d"
           }
          ],
          "histogram2dcontour": [
           {
            "colorbar": {
             "outlinewidth": 0,
             "ticks": ""
            },
            "colorscale": [
             [
              0,
              "#0d0887"
             ],
             [
              0.1111111111111111,
              "#46039f"
             ],
             [
              0.2222222222222222,
              "#7201a8"
             ],
             [
              0.3333333333333333,
              "#9c179e"
             ],
             [
              0.4444444444444444,
              "#bd3786"
             ],
             [
              0.5555555555555556,
              "#d8576b"
             ],
             [
              0.6666666666666666,
              "#ed7953"
             ],
             [
              0.7777777777777778,
              "#fb9f3a"
             ],
             [
              0.8888888888888888,
              "#fdca26"
             ],
             [
              1,
              "#f0f921"
             ]
            ],
            "type": "histogram2dcontour"
           }
          ],
          "mesh3d": [
           {
            "colorbar": {
             "outlinewidth": 0,
             "ticks": ""
            },
            "type": "mesh3d"
           }
          ],
          "parcoords": [
           {
            "line": {
             "colorbar": {
              "outlinewidth": 0,
              "ticks": ""
             }
            },
            "type": "parcoords"
           }
          ],
          "pie": [
           {
            "automargin": true,
            "type": "pie"
           }
          ],
          "scatter": [
           {
            "fillpattern": {
             "fillmode": "overlay",
             "size": 10,
             "solidity": 0.2
            },
            "type": "scatter"
           }
          ],
          "scatter3d": [
           {
            "line": {
             "colorbar": {
              "outlinewidth": 0,
              "ticks": ""
             }
            },
            "marker": {
             "colorbar": {
              "outlinewidth": 0,
              "ticks": ""
             }
            },
            "type": "scatter3d"
           }
          ],
          "scattercarpet": [
           {
            "marker": {
             "colorbar": {
              "outlinewidth": 0,
              "ticks": ""
             }
            },
            "type": "scattercarpet"
           }
          ],
          "scattergeo": [
           {
            "marker": {
             "colorbar": {
              "outlinewidth": 0,
              "ticks": ""
             }
            },
            "type": "scattergeo"
           }
          ],
          "scattergl": [
           {
            "marker": {
             "colorbar": {
              "outlinewidth": 0,
              "ticks": ""
             }
            },
            "type": "scattergl"
           }
          ],
          "scattermapbox": [
           {
            "marker": {
             "colorbar": {
              "outlinewidth": 0,
              "ticks": ""
             }
            },
            "type": "scattermapbox"
           }
          ],
          "scatterpolar": [
           {
            "marker": {
             "colorbar": {
              "outlinewidth": 0,
              "ticks": ""
             }
            },
            "type": "scatterpolar"
           }
          ],
          "scatterpolargl": [
           {
            "marker": {
             "colorbar": {
              "outlinewidth": 0,
              "ticks": ""
             }
            },
            "type": "scatterpolargl"
           }
          ],
          "scatterternary": [
           {
            "marker": {
             "colorbar": {
              "outlinewidth": 0,
              "ticks": ""
             }
            },
            "type": "scatterternary"
           }
          ],
          "surface": [
           {
            "colorbar": {
             "outlinewidth": 0,
             "ticks": ""
            },
            "colorscale": [
             [
              0,
              "#0d0887"
             ],
             [
              0.1111111111111111,
              "#46039f"
             ],
             [
              0.2222222222222222,
              "#7201a8"
             ],
             [
              0.3333333333333333,
              "#9c179e"
             ],
             [
              0.4444444444444444,
              "#bd3786"
             ],
             [
              0.5555555555555556,
              "#d8576b"
             ],
             [
              0.6666666666666666,
              "#ed7953"
             ],
             [
              0.7777777777777778,
              "#fb9f3a"
             ],
             [
              0.8888888888888888,
              "#fdca26"
             ],
             [
              1,
              "#f0f921"
             ]
            ],
            "type": "surface"
           }
          ],
          "table": [
           {
            "cells": {
             "fill": {
              "color": "#EBF0F8"
             },
             "line": {
              "color": "white"
             }
            },
            "header": {
             "fill": {
              "color": "#C8D4E3"
             },
             "line": {
              "color": "white"
             }
            },
            "type": "table"
           }
          ]
         },
         "layout": {
          "annotationdefaults": {
           "arrowcolor": "#2a3f5f",
           "arrowhead": 0,
           "arrowwidth": 1
          },
          "autotypenumbers": "strict",
          "coloraxis": {
           "colorbar": {
            "outlinewidth": 0,
            "ticks": ""
           }
          },
          "colorscale": {
           "diverging": [
            [
             0,
             "#8e0152"
            ],
            [
             0.1,
             "#c51b7d"
            ],
            [
             0.2,
             "#de77ae"
            ],
            [
             0.3,
             "#f1b6da"
            ],
            [
             0.4,
             "#fde0ef"
            ],
            [
             0.5,
             "#f7f7f7"
            ],
            [
             0.6,
             "#e6f5d0"
            ],
            [
             0.7,
             "#b8e186"
            ],
            [
             0.8,
             "#7fbc41"
            ],
            [
             0.9,
             "#4d9221"
            ],
            [
             1,
             "#276419"
            ]
           ],
           "sequential": [
            [
             0,
             "#0d0887"
            ],
            [
             0.1111111111111111,
             "#46039f"
            ],
            [
             0.2222222222222222,
             "#7201a8"
            ],
            [
             0.3333333333333333,
             "#9c179e"
            ],
            [
             0.4444444444444444,
             "#bd3786"
            ],
            [
             0.5555555555555556,
             "#d8576b"
            ],
            [
             0.6666666666666666,
             "#ed7953"
            ],
            [
             0.7777777777777778,
             "#fb9f3a"
            ],
            [
             0.8888888888888888,
             "#fdca26"
            ],
            [
             1,
             "#f0f921"
            ]
           ],
           "sequentialminus": [
            [
             0,
             "#0d0887"
            ],
            [
             0.1111111111111111,
             "#46039f"
            ],
            [
             0.2222222222222222,
             "#7201a8"
            ],
            [
             0.3333333333333333,
             "#9c179e"
            ],
            [
             0.4444444444444444,
             "#bd3786"
            ],
            [
             0.5555555555555556,
             "#d8576b"
            ],
            [
             0.6666666666666666,
             "#ed7953"
            ],
            [
             0.7777777777777778,
             "#fb9f3a"
            ],
            [
             0.8888888888888888,
             "#fdca26"
            ],
            [
             1,
             "#f0f921"
            ]
           ]
          },
          "colorway": [
           "#636efa",
           "#EF553B",
           "#00cc96",
           "#ab63fa",
           "#FFA15A",
           "#19d3f3",
           "#FF6692",
           "#B6E880",
           "#FF97FF",
           "#FECB52"
          ],
          "font": {
           "color": "#2a3f5f"
          },
          "geo": {
           "bgcolor": "white",
           "lakecolor": "white",
           "landcolor": "#E5ECF6",
           "showlakes": true,
           "showland": true,
           "subunitcolor": "white"
          },
          "hoverlabel": {
           "align": "left"
          },
          "hovermode": "closest",
          "mapbox": {
           "style": "light"
          },
          "paper_bgcolor": "white",
          "plot_bgcolor": "#E5ECF6",
          "polar": {
           "angularaxis": {
            "gridcolor": "white",
            "linecolor": "white",
            "ticks": ""
           },
           "bgcolor": "#E5ECF6",
           "radialaxis": {
            "gridcolor": "white",
            "linecolor": "white",
            "ticks": ""
           }
          },
          "scene": {
           "xaxis": {
            "backgroundcolor": "#E5ECF6",
            "gridcolor": "white",
            "gridwidth": 2,
            "linecolor": "white",
            "showbackground": true,
            "ticks": "",
            "zerolinecolor": "white"
           },
           "yaxis": {
            "backgroundcolor": "#E5ECF6",
            "gridcolor": "white",
            "gridwidth": 2,
            "linecolor": "white",
            "showbackground": true,
            "ticks": "",
            "zerolinecolor": "white"
           },
           "zaxis": {
            "backgroundcolor": "#E5ECF6",
            "gridcolor": "white",
            "gridwidth": 2,
            "linecolor": "white",
            "showbackground": true,
            "ticks": "",
            "zerolinecolor": "white"
           }
          },
          "shapedefaults": {
           "line": {
            "color": "#2a3f5f"
           }
          },
          "ternary": {
           "aaxis": {
            "gridcolor": "white",
            "linecolor": "white",
            "ticks": ""
           },
           "baxis": {
            "gridcolor": "white",
            "linecolor": "white",
            "ticks": ""
           },
           "bgcolor": "#E5ECF6",
           "caxis": {
            "gridcolor": "white",
            "linecolor": "white",
            "ticks": ""
           }
          },
          "title": {
           "x": 0.05
          },
          "xaxis": {
           "automargin": true,
           "gridcolor": "white",
           "linecolor": "white",
           "ticks": "",
           "title": {
            "standoff": 15
           },
           "zerolinecolor": "white",
           "zerolinewidth": 2
          },
          "yaxis": {
           "automargin": true,
           "gridcolor": "white",
           "linecolor": "white",
           "ticks": "",
           "title": {
            "standoff": 15
           },
           "zerolinecolor": "white",
           "zerolinewidth": 2
          }
         }
        },
        "title": {
         "text": "Dinero destinado a movilidad en los presupuestos del ayuntamiento de Girona"
        },
        "xaxis": {
         "dtick": 1,
         "tick0": 2021,
         "tickmode": "linear"
        }
       }
      },
      "text/html": [
       "<div>                            <div id=\"5095109a-846f-4a3e-a57f-e867582e44ba\" class=\"plotly-graph-div\" style=\"height:525px; width:100%;\"></div>            <script type=\"text/javascript\">                require([\"plotly\"], function(Plotly) {                    window.PLOTLYENV=window.PLOTLYENV || {};                                    if (document.getElementById(\"5095109a-846f-4a3e-a57f-e867582e44ba\")) {                    Plotly.newPlot(                        \"5095109a-846f-4a3e-a57f-e867582e44ba\",                        [{\"marker\":{\"color\":\"#f4a460\"},\"name\":\"Numero\",\"x\":[\"2015\",\"2016\",\"2017\",\"2018\",\"2019\",\"2020\",\"2021\",\"2022\",\"2023\"],\"y\":[11110408.87,10771480.13,10490410.34,11259246.4,12769443.83,13975970.2,14898938.59,13594039.34,15554345.9],\"type\":\"bar\"}],                        {\"font\":{\"color\":\"black\"},\"plot_bgcolor\":\"white\",\"template\":{\"data\":{\"barpolar\":[{\"marker\":{\"line\":{\"color\":\"#E5ECF6\",\"width\":0.5},\"pattern\":{\"fillmode\":\"overlay\",\"size\":10,\"solidity\":0.2}},\"type\":\"barpolar\"}],\"bar\":[{\"error_x\":{\"color\":\"#2a3f5f\"},\"error_y\":{\"color\":\"#2a3f5f\"},\"marker\":{\"line\":{\"color\":\"#E5ECF6\",\"width\":0.5},\"pattern\":{\"fillmode\":\"overlay\",\"size\":10,\"solidity\":0.2}},\"type\":\"bar\"}],\"carpet\":[{\"aaxis\":{\"endlinecolor\":\"#2a3f5f\",\"gridcolor\":\"white\",\"linecolor\":\"white\",\"minorgridcolor\":\"white\",\"startlinecolor\":\"#2a3f5f\"},\"baxis\":{\"endlinecolor\":\"#2a3f5f\",\"gridcolor\":\"white\",\"linecolor\":\"white\",\"minorgridcolor\":\"white\",\"startlinecolor\":\"#2a3f5f\"},\"type\":\"carpet\"}],\"choropleth\":[{\"colorbar\":{\"outlinewidth\":0,\"ticks\":\"\"},\"type\":\"choropleth\"}],\"contourcarpet\":[{\"colorbar\":{\"outlinewidth\":0,\"ticks\":\"\"},\"type\":\"contourcarpet\"}],\"contour\":[{\"colorbar\":{\"outlinewidth\":0,\"ticks\":\"\"},\"colorscale\":[[0.0,\"#0d0887\"],[0.1111111111111111,\"#46039f\"],[0.2222222222222222,\"#7201a8\"],[0.3333333333333333,\"#9c179e\"],[0.4444444444444444,\"#bd3786\"],[0.5555555555555556,\"#d8576b\"],[0.6666666666666666,\"#ed7953\"],[0.7777777777777778,\"#fb9f3a\"],[0.8888888888888888,\"#fdca26\"],[1.0,\"#f0f921\"]],\"type\":\"contour\"}],\"heatmapgl\":[{\"colorbar\":{\"outlinewidth\":0,\"ticks\":\"\"},\"colorscale\":[[0.0,\"#0d0887\"],[0.1111111111111111,\"#46039f\"],[0.2222222222222222,\"#7201a8\"],[0.3333333333333333,\"#9c179e\"],[0.4444444444444444,\"#bd3786\"],[0.5555555555555556,\"#d8576b\"],[0.6666666666666666,\"#ed7953\"],[0.7777777777777778,\"#fb9f3a\"],[0.8888888888888888,\"#fdca26\"],[1.0,\"#f0f921\"]],\"type\":\"heatmapgl\"}],\"heatmap\":[{\"colorbar\":{\"outlinewidth\":0,\"ticks\":\"\"},\"colorscale\":[[0.0,\"#0d0887\"],[0.1111111111111111,\"#46039f\"],[0.2222222222222222,\"#7201a8\"],[0.3333333333333333,\"#9c179e\"],[0.4444444444444444,\"#bd3786\"],[0.5555555555555556,\"#d8576b\"],[0.6666666666666666,\"#ed7953\"],[0.7777777777777778,\"#fb9f3a\"],[0.8888888888888888,\"#fdca26\"],[1.0,\"#f0f921\"]],\"type\":\"heatmap\"}],\"histogram2dcontour\":[{\"colorbar\":{\"outlinewidth\":0,\"ticks\":\"\"},\"colorscale\":[[0.0,\"#0d0887\"],[0.1111111111111111,\"#46039f\"],[0.2222222222222222,\"#7201a8\"],[0.3333333333333333,\"#9c179e\"],[0.4444444444444444,\"#bd3786\"],[0.5555555555555556,\"#d8576b\"],[0.6666666666666666,\"#ed7953\"],[0.7777777777777778,\"#fb9f3a\"],[0.8888888888888888,\"#fdca26\"],[1.0,\"#f0f921\"]],\"type\":\"histogram2dcontour\"}],\"histogram2d\":[{\"colorbar\":{\"outlinewidth\":0,\"ticks\":\"\"},\"colorscale\":[[0.0,\"#0d0887\"],[0.1111111111111111,\"#46039f\"],[0.2222222222222222,\"#7201a8\"],[0.3333333333333333,\"#9c179e\"],[0.4444444444444444,\"#bd3786\"],[0.5555555555555556,\"#d8576b\"],[0.6666666666666666,\"#ed7953\"],[0.7777777777777778,\"#fb9f3a\"],[0.8888888888888888,\"#fdca26\"],[1.0,\"#f0f921\"]],\"type\":\"histogram2d\"}],\"histogram\":[{\"marker\":{\"pattern\":{\"fillmode\":\"overlay\",\"size\":10,\"solidity\":0.2}},\"type\":\"histogram\"}],\"mesh3d\":[{\"colorbar\":{\"outlinewidth\":0,\"ticks\":\"\"},\"type\":\"mesh3d\"}],\"parcoords\":[{\"line\":{\"colorbar\":{\"outlinewidth\":0,\"ticks\":\"\"}},\"type\":\"parcoords\"}],\"pie\":[{\"automargin\":true,\"type\":\"pie\"}],\"scatter3d\":[{\"line\":{\"colorbar\":{\"outlinewidth\":0,\"ticks\":\"\"}},\"marker\":{\"colorbar\":{\"outlinewidth\":0,\"ticks\":\"\"}},\"type\":\"scatter3d\"}],\"scattercarpet\":[{\"marker\":{\"colorbar\":{\"outlinewidth\":0,\"ticks\":\"\"}},\"type\":\"scattercarpet\"}],\"scattergeo\":[{\"marker\":{\"colorbar\":{\"outlinewidth\":0,\"ticks\":\"\"}},\"type\":\"scattergeo\"}],\"scattergl\":[{\"marker\":{\"colorbar\":{\"outlinewidth\":0,\"ticks\":\"\"}},\"type\":\"scattergl\"}],\"scattermapbox\":[{\"marker\":{\"colorbar\":{\"outlinewidth\":0,\"ticks\":\"\"}},\"type\":\"scattermapbox\"}],\"scatterpolargl\":[{\"marker\":{\"colorbar\":{\"outlinewidth\":0,\"ticks\":\"\"}},\"type\":\"scatterpolargl\"}],\"scatterpolar\":[{\"marker\":{\"colorbar\":{\"outlinewidth\":0,\"ticks\":\"\"}},\"type\":\"scatterpolar\"}],\"scatter\":[{\"fillpattern\":{\"fillmode\":\"overlay\",\"size\":10,\"solidity\":0.2},\"type\":\"scatter\"}],\"scatterternary\":[{\"marker\":{\"colorbar\":{\"outlinewidth\":0,\"ticks\":\"\"}},\"type\":\"scatterternary\"}],\"surface\":[{\"colorbar\":{\"outlinewidth\":0,\"ticks\":\"\"},\"colorscale\":[[0.0,\"#0d0887\"],[0.1111111111111111,\"#46039f\"],[0.2222222222222222,\"#7201a8\"],[0.3333333333333333,\"#9c179e\"],[0.4444444444444444,\"#bd3786\"],[0.5555555555555556,\"#d8576b\"],[0.6666666666666666,\"#ed7953\"],[0.7777777777777778,\"#fb9f3a\"],[0.8888888888888888,\"#fdca26\"],[1.0,\"#f0f921\"]],\"type\":\"surface\"}],\"table\":[{\"cells\":{\"fill\":{\"color\":\"#EBF0F8\"},\"line\":{\"color\":\"white\"}},\"header\":{\"fill\":{\"color\":\"#C8D4E3\"},\"line\":{\"color\":\"white\"}},\"type\":\"table\"}]},\"layout\":{\"annotationdefaults\":{\"arrowcolor\":\"#2a3f5f\",\"arrowhead\":0,\"arrowwidth\":1},\"autotypenumbers\":\"strict\",\"coloraxis\":{\"colorbar\":{\"outlinewidth\":0,\"ticks\":\"\"}},\"colorscale\":{\"diverging\":[[0,\"#8e0152\"],[0.1,\"#c51b7d\"],[0.2,\"#de77ae\"],[0.3,\"#f1b6da\"],[0.4,\"#fde0ef\"],[0.5,\"#f7f7f7\"],[0.6,\"#e6f5d0\"],[0.7,\"#b8e186\"],[0.8,\"#7fbc41\"],[0.9,\"#4d9221\"],[1,\"#276419\"]],\"sequential\":[[0.0,\"#0d0887\"],[0.1111111111111111,\"#46039f\"],[0.2222222222222222,\"#7201a8\"],[0.3333333333333333,\"#9c179e\"],[0.4444444444444444,\"#bd3786\"],[0.5555555555555556,\"#d8576b\"],[0.6666666666666666,\"#ed7953\"],[0.7777777777777778,\"#fb9f3a\"],[0.8888888888888888,\"#fdca26\"],[1.0,\"#f0f921\"]],\"sequentialminus\":[[0.0,\"#0d0887\"],[0.1111111111111111,\"#46039f\"],[0.2222222222222222,\"#7201a8\"],[0.3333333333333333,\"#9c179e\"],[0.4444444444444444,\"#bd3786\"],[0.5555555555555556,\"#d8576b\"],[0.6666666666666666,\"#ed7953\"],[0.7777777777777778,\"#fb9f3a\"],[0.8888888888888888,\"#fdca26\"],[1.0,\"#f0f921\"]]},\"colorway\":[\"#636efa\",\"#EF553B\",\"#00cc96\",\"#ab63fa\",\"#FFA15A\",\"#19d3f3\",\"#FF6692\",\"#B6E880\",\"#FF97FF\",\"#FECB52\"],\"font\":{\"color\":\"#2a3f5f\"},\"geo\":{\"bgcolor\":\"white\",\"lakecolor\":\"white\",\"landcolor\":\"#E5ECF6\",\"showlakes\":true,\"showland\":true,\"subunitcolor\":\"white\"},\"hoverlabel\":{\"align\":\"left\"},\"hovermode\":\"closest\",\"mapbox\":{\"style\":\"light\"},\"paper_bgcolor\":\"white\",\"plot_bgcolor\":\"#E5ECF6\",\"polar\":{\"angularaxis\":{\"gridcolor\":\"white\",\"linecolor\":\"white\",\"ticks\":\"\"},\"bgcolor\":\"#E5ECF6\",\"radialaxis\":{\"gridcolor\":\"white\",\"linecolor\":\"white\",\"ticks\":\"\"}},\"scene\":{\"xaxis\":{\"backgroundcolor\":\"#E5ECF6\",\"gridcolor\":\"white\",\"gridwidth\":2,\"linecolor\":\"white\",\"showbackground\":true,\"ticks\":\"\",\"zerolinecolor\":\"white\"},\"yaxis\":{\"backgroundcolor\":\"#E5ECF6\",\"gridcolor\":\"white\",\"gridwidth\":2,\"linecolor\":\"white\",\"showbackground\":true,\"ticks\":\"\",\"zerolinecolor\":\"white\"},\"zaxis\":{\"backgroundcolor\":\"#E5ECF6\",\"gridcolor\":\"white\",\"gridwidth\":2,\"linecolor\":\"white\",\"showbackground\":true,\"ticks\":\"\",\"zerolinecolor\":\"white\"}},\"shapedefaults\":{\"line\":{\"color\":\"#2a3f5f\"}},\"ternary\":{\"aaxis\":{\"gridcolor\":\"white\",\"linecolor\":\"white\",\"ticks\":\"\"},\"baxis\":{\"gridcolor\":\"white\",\"linecolor\":\"white\",\"ticks\":\"\"},\"bgcolor\":\"#E5ECF6\",\"caxis\":{\"gridcolor\":\"white\",\"linecolor\":\"white\",\"ticks\":\"\"}},\"title\":{\"x\":0.05},\"xaxis\":{\"automargin\":true,\"gridcolor\":\"white\",\"linecolor\":\"white\",\"ticks\":\"\",\"title\":{\"standoff\":15},\"zerolinecolor\":\"white\",\"zerolinewidth\":2},\"yaxis\":{\"automargin\":true,\"gridcolor\":\"white\",\"linecolor\":\"white\",\"ticks\":\"\",\"title\":{\"standoff\":15},\"zerolinecolor\":\"white\",\"zerolinewidth\":2}}},\"title\":{\"text\":\"Dinero destinado a movilidad en los presupuestos del ayuntamiento de Girona\"},\"xaxis\":{\"dtick\":1,\"tick0\":2021,\"tickmode\":\"linear\"}},                        {\"responsive\": true}                    ).then(function(){\n",
       "                            \n",
       "var gd = document.getElementById('5095109a-846f-4a3e-a57f-e867582e44ba');\n",
       "var x = new MutationObserver(function (mutations, observer) {{\n",
       "        var display = window.getComputedStyle(gd).display;\n",
       "        if (!display || display === 'none') {{\n",
       "            console.log([gd, 'removed!']);\n",
       "            Plotly.purge(gd);\n",
       "            observer.disconnect();\n",
       "        }}\n",
       "}});\n",
       "\n",
       "// Listen for the removal of the full notebook cells\n",
       "var notebookContainer = gd.closest('#notebook-container');\n",
       "if (notebookContainer) {{\n",
       "    x.observe(notebookContainer, {childList: true});\n",
       "}}\n",
       "\n",
       "// Listen for the clearing of the current output cell\n",
       "var outputEl = gd.closest('.output');\n",
       "if (outputEl) {{\n",
       "    x.observe(outputEl, {childList: true});\n",
       "}}\n",
       "\n",
       "                        })                };                });            </script>        </div>"
      ]
     },
     "metadata": {},
     "output_type": "display_data"
    }
   ],
   "source": [
    "#!pip install plotly\n",
    "import plotly.graph_objects as go\n",
    "from plotly.offline import init_notebook_mode, iplot\n",
    "init_notebook_mode(connected=True)\n",
    "\n",
    "trace1 = go.Bar(\n",
    "    x = años,\n",
    "    y = creditosmovilidad,\n",
    "    name = 'Numero',\n",
    "    marker=dict(color='#f4a460')\n",
    ")\n",
    "datas = [trace1]\n",
    "\n",
    "\n",
    "# Creamos el layout\n",
    "layout = dict(\n",
    "            # Título\n",
    "            title = dict( text = \"Dinero destinado a movilidad en los presupuestos del ayuntamiento de Girona\" ),\n",
    "    font=dict(color='black'),\n",
    "     xaxis = dict(\n",
    "      tickmode = 'linear',\n",
    "      tick0 = 2021,\n",
    "      dtick = 1\n",
    "   ),\n",
    "     plot_bgcolor='white'       \n",
    "         )\n",
    "fig = go.Figure(data=datas, layout=layout)\n",
    "iplot(fig) #Para mostrar el gráfico\n",
    "#fig.write_html('../images/presupuestomovilidad1523.html') # Lo guardamos en formato HTML para incrustarlo en la web"
   ]
  },
  {
   "cell_type": "markdown",
   "id": "691e76d0",
   "metadata": {},
   "source": [
    "## Comparativa de presupuestos"
   ]
  },
  {
   "cell_type": "markdown",
   "id": "450ccaaf",
   "metadata": {},
   "source": [
    "Finalmente, vamos a comparar las cuatro divisiones que hemos hecho (turismo, cultura, derechos sociales y movilidad) para ver con perspectiva cuánto ha evolucionado el presupuesto en cada partida y en cuáles se gasta más. Usaremos la librería Plotly ya que muestra mejor este tipo de gráficos."
   ]
  },
  {
   "cell_type": "markdown",
   "id": "acabc443",
   "metadata": {},
   "source": [
    "### Gráfico interactivo de barras múltiples en Plotly"
   ]
  },
  {
   "cell_type": "code",
   "execution_count": 42,
   "id": "3b30938e",
   "metadata": {},
   "outputs": [
    {
     "data": {
      "application/vnd.plotly.v1+json": {
       "config": {
        "plotlyServerURL": "https://plot.ly"
       },
       "data": [
        {
         "marker": {
          "color": "#994b1b"
         },
         "name": "Turismo",
         "type": "bar",
         "x": [
          "2015",
          "2016",
          "2017",
          "2018",
          "2019",
          "2020",
          "2021",
          "2022",
          "2023"
         ],
         "y": [
          2398542.6100000003,
          2064694.5699999998,
          2578727.18,
          2436540.9899999998,
          4430860.79,
          3901131.07,
          4802787.44,
          3626150.61,
          6644509.89
         ]
        },
        {
         "marker": {
          "color": "#cbaeaa"
         },
         "name": "Cultura",
         "type": "bar",
         "x": [
          "2015",
          "2016",
          "2017",
          "2018",
          "2019",
          "2020",
          "2021",
          "2022",
          "2023"
         ],
         "y": [
          10544263.819999998,
          11288650.93,
          12048672.32,
          12261326.209999997,
          12550243.28,
          12326067.66,
          13765421.9,
          13804177.130000003,
          15082603.23
         ]
        },
        {
         "marker": {
          "color": "#c68238"
         },
         "name": "Derechos sociales",
         "type": "bar",
         "x": [
          "2015",
          "2016",
          "2017",
          "2018",
          "2019",
          "2020",
          "2021",
          "2022",
          "2023"
         ],
         "y": [
          55301570.97,
          64749668.59,
          63992858.63,
          40833250.09,
          42152845.85,
          65097817.53,
          84301476.33999999,
          97151702.94,
          115218010.84
         ]
        },
        {
         "marker": {
          "color": "#f4a460"
         },
         "name": "Movilidad",
         "type": "bar",
         "x": [
          "2015",
          "2016",
          "2017",
          "2018",
          "2019",
          "2020",
          "2021",
          "2022",
          "2023"
         ],
         "y": [
          11110408.87,
          10771480.13,
          10490410.34,
          11259246.4,
          12769443.83,
          13975970.2,
          14898938.59,
          13594039.34,
          15554345.9
         ]
        }
       ],
       "layout": {
        "annotations": [
         {
          "font": {
           "color": "black",
           "family": "Calibri",
           "size": 12
          },
          "showarrow": false,
          "text": "Fuente: Ayuntamiento de Girona <br> Elaboración: Juan Luis Monterroso",
          "x": 0.5,
          "xref": "paper",
          "y": -0.24,
          "yref": "paper"
         }
        ],
        "barmode": "group",
        "font": {
         "color": "black"
        },
        "legend": {
         "bgcolor": "#F4A460",
         "bordercolor": "Black",
         "borderwidth": 2,
         "font": {
          "color": "black",
          "family": "Calibri",
          "size": 10
         },
         "title": {
          "font": {
           "family": "Calibri"
          }
         },
         "x": 0,
         "y": 1
        },
        "plot_bgcolor": "white",
        "template": {
         "data": {
          "bar": [
           {
            "error_x": {
             "color": "#2a3f5f"
            },
            "error_y": {
             "color": "#2a3f5f"
            },
            "marker": {
             "line": {
              "color": "#E5ECF6",
              "width": 0.5
             },
             "pattern": {
              "fillmode": "overlay",
              "size": 10,
              "solidity": 0.2
             }
            },
            "type": "bar"
           }
          ],
          "barpolar": [
           {
            "marker": {
             "line": {
              "color": "#E5ECF6",
              "width": 0.5
             },
             "pattern": {
              "fillmode": "overlay",
              "size": 10,
              "solidity": 0.2
             }
            },
            "type": "barpolar"
           }
          ],
          "carpet": [
           {
            "aaxis": {
             "endlinecolor": "#2a3f5f",
             "gridcolor": "white",
             "linecolor": "white",
             "minorgridcolor": "white",
             "startlinecolor": "#2a3f5f"
            },
            "baxis": {
             "endlinecolor": "#2a3f5f",
             "gridcolor": "white",
             "linecolor": "white",
             "minorgridcolor": "white",
             "startlinecolor": "#2a3f5f"
            },
            "type": "carpet"
           }
          ],
          "choropleth": [
           {
            "colorbar": {
             "outlinewidth": 0,
             "ticks": ""
            },
            "type": "choropleth"
           }
          ],
          "contour": [
           {
            "colorbar": {
             "outlinewidth": 0,
             "ticks": ""
            },
            "colorscale": [
             [
              0,
              "#0d0887"
             ],
             [
              0.1111111111111111,
              "#46039f"
             ],
             [
              0.2222222222222222,
              "#7201a8"
             ],
             [
              0.3333333333333333,
              "#9c179e"
             ],
             [
              0.4444444444444444,
              "#bd3786"
             ],
             [
              0.5555555555555556,
              "#d8576b"
             ],
             [
              0.6666666666666666,
              "#ed7953"
             ],
             [
              0.7777777777777778,
              "#fb9f3a"
             ],
             [
              0.8888888888888888,
              "#fdca26"
             ],
             [
              1,
              "#f0f921"
             ]
            ],
            "type": "contour"
           }
          ],
          "contourcarpet": [
           {
            "colorbar": {
             "outlinewidth": 0,
             "ticks": ""
            },
            "type": "contourcarpet"
           }
          ],
          "heatmap": [
           {
            "colorbar": {
             "outlinewidth": 0,
             "ticks": ""
            },
            "colorscale": [
             [
              0,
              "#0d0887"
             ],
             [
              0.1111111111111111,
              "#46039f"
             ],
             [
              0.2222222222222222,
              "#7201a8"
             ],
             [
              0.3333333333333333,
              "#9c179e"
             ],
             [
              0.4444444444444444,
              "#bd3786"
             ],
             [
              0.5555555555555556,
              "#d8576b"
             ],
             [
              0.6666666666666666,
              "#ed7953"
             ],
             [
              0.7777777777777778,
              "#fb9f3a"
             ],
             [
              0.8888888888888888,
              "#fdca26"
             ],
             [
              1,
              "#f0f921"
             ]
            ],
            "type": "heatmap"
           }
          ],
          "heatmapgl": [
           {
            "colorbar": {
             "outlinewidth": 0,
             "ticks": ""
            },
            "colorscale": [
             [
              0,
              "#0d0887"
             ],
             [
              0.1111111111111111,
              "#46039f"
             ],
             [
              0.2222222222222222,
              "#7201a8"
             ],
             [
              0.3333333333333333,
              "#9c179e"
             ],
             [
              0.4444444444444444,
              "#bd3786"
             ],
             [
              0.5555555555555556,
              "#d8576b"
             ],
             [
              0.6666666666666666,
              "#ed7953"
             ],
             [
              0.7777777777777778,
              "#fb9f3a"
             ],
             [
              0.8888888888888888,
              "#fdca26"
             ],
             [
              1,
              "#f0f921"
             ]
            ],
            "type": "heatmapgl"
           }
          ],
          "histogram": [
           {
            "marker": {
             "pattern": {
              "fillmode": "overlay",
              "size": 10,
              "solidity": 0.2
             }
            },
            "type": "histogram"
           }
          ],
          "histogram2d": [
           {
            "colorbar": {
             "outlinewidth": 0,
             "ticks": ""
            },
            "colorscale": [
             [
              0,
              "#0d0887"
             ],
             [
              0.1111111111111111,
              "#46039f"
             ],
             [
              0.2222222222222222,
              "#7201a8"
             ],
             [
              0.3333333333333333,
              "#9c179e"
             ],
             [
              0.4444444444444444,
              "#bd3786"
             ],
             [
              0.5555555555555556,
              "#d8576b"
             ],
             [
              0.6666666666666666,
              "#ed7953"
             ],
             [
              0.7777777777777778,
              "#fb9f3a"
             ],
             [
              0.8888888888888888,
              "#fdca26"
             ],
             [
              1,
              "#f0f921"
             ]
            ],
            "type": "histogram2d"
           }
          ],
          "histogram2dcontour": [
           {
            "colorbar": {
             "outlinewidth": 0,
             "ticks": ""
            },
            "colorscale": [
             [
              0,
              "#0d0887"
             ],
             [
              0.1111111111111111,
              "#46039f"
             ],
             [
              0.2222222222222222,
              "#7201a8"
             ],
             [
              0.3333333333333333,
              "#9c179e"
             ],
             [
              0.4444444444444444,
              "#bd3786"
             ],
             [
              0.5555555555555556,
              "#d8576b"
             ],
             [
              0.6666666666666666,
              "#ed7953"
             ],
             [
              0.7777777777777778,
              "#fb9f3a"
             ],
             [
              0.8888888888888888,
              "#fdca26"
             ],
             [
              1,
              "#f0f921"
             ]
            ],
            "type": "histogram2dcontour"
           }
          ],
          "mesh3d": [
           {
            "colorbar": {
             "outlinewidth": 0,
             "ticks": ""
            },
            "type": "mesh3d"
           }
          ],
          "parcoords": [
           {
            "line": {
             "colorbar": {
              "outlinewidth": 0,
              "ticks": ""
             }
            },
            "type": "parcoords"
           }
          ],
          "pie": [
           {
            "automargin": true,
            "type": "pie"
           }
          ],
          "scatter": [
           {
            "fillpattern": {
             "fillmode": "overlay",
             "size": 10,
             "solidity": 0.2
            },
            "type": "scatter"
           }
          ],
          "scatter3d": [
           {
            "line": {
             "colorbar": {
              "outlinewidth": 0,
              "ticks": ""
             }
            },
            "marker": {
             "colorbar": {
              "outlinewidth": 0,
              "ticks": ""
             }
            },
            "type": "scatter3d"
           }
          ],
          "scattercarpet": [
           {
            "marker": {
             "colorbar": {
              "outlinewidth": 0,
              "ticks": ""
             }
            },
            "type": "scattercarpet"
           }
          ],
          "scattergeo": [
           {
            "marker": {
             "colorbar": {
              "outlinewidth": 0,
              "ticks": ""
             }
            },
            "type": "scattergeo"
           }
          ],
          "scattergl": [
           {
            "marker": {
             "colorbar": {
              "outlinewidth": 0,
              "ticks": ""
             }
            },
            "type": "scattergl"
           }
          ],
          "scattermapbox": [
           {
            "marker": {
             "colorbar": {
              "outlinewidth": 0,
              "ticks": ""
             }
            },
            "type": "scattermapbox"
           }
          ],
          "scatterpolar": [
           {
            "marker": {
             "colorbar": {
              "outlinewidth": 0,
              "ticks": ""
             }
            },
            "type": "scatterpolar"
           }
          ],
          "scatterpolargl": [
           {
            "marker": {
             "colorbar": {
              "outlinewidth": 0,
              "ticks": ""
             }
            },
            "type": "scatterpolargl"
           }
          ],
          "scatterternary": [
           {
            "marker": {
             "colorbar": {
              "outlinewidth": 0,
              "ticks": ""
             }
            },
            "type": "scatterternary"
           }
          ],
          "surface": [
           {
            "colorbar": {
             "outlinewidth": 0,
             "ticks": ""
            },
            "colorscale": [
             [
              0,
              "#0d0887"
             ],
             [
              0.1111111111111111,
              "#46039f"
             ],
             [
              0.2222222222222222,
              "#7201a8"
             ],
             [
              0.3333333333333333,
              "#9c179e"
             ],
             [
              0.4444444444444444,
              "#bd3786"
             ],
             [
              0.5555555555555556,
              "#d8576b"
             ],
             [
              0.6666666666666666,
              "#ed7953"
             ],
             [
              0.7777777777777778,
              "#fb9f3a"
             ],
             [
              0.8888888888888888,
              "#fdca26"
             ],
             [
              1,
              "#f0f921"
             ]
            ],
            "type": "surface"
           }
          ],
          "table": [
           {
            "cells": {
             "fill": {
              "color": "#EBF0F8"
             },
             "line": {
              "color": "white"
             }
            },
            "header": {
             "fill": {
              "color": "#C8D4E3"
             },
             "line": {
              "color": "white"
             }
            },
            "type": "table"
           }
          ]
         },
         "layout": {
          "annotationdefaults": {
           "arrowcolor": "#2a3f5f",
           "arrowhead": 0,
           "arrowwidth": 1
          },
          "autotypenumbers": "strict",
          "coloraxis": {
           "colorbar": {
            "outlinewidth": 0,
            "ticks": ""
           }
          },
          "colorscale": {
           "diverging": [
            [
             0,
             "#8e0152"
            ],
            [
             0.1,
             "#c51b7d"
            ],
            [
             0.2,
             "#de77ae"
            ],
            [
             0.3,
             "#f1b6da"
            ],
            [
             0.4,
             "#fde0ef"
            ],
            [
             0.5,
             "#f7f7f7"
            ],
            [
             0.6,
             "#e6f5d0"
            ],
            [
             0.7,
             "#b8e186"
            ],
            [
             0.8,
             "#7fbc41"
            ],
            [
             0.9,
             "#4d9221"
            ],
            [
             1,
             "#276419"
            ]
           ],
           "sequential": [
            [
             0,
             "#0d0887"
            ],
            [
             0.1111111111111111,
             "#46039f"
            ],
            [
             0.2222222222222222,
             "#7201a8"
            ],
            [
             0.3333333333333333,
             "#9c179e"
            ],
            [
             0.4444444444444444,
             "#bd3786"
            ],
            [
             0.5555555555555556,
             "#d8576b"
            ],
            [
             0.6666666666666666,
             "#ed7953"
            ],
            [
             0.7777777777777778,
             "#fb9f3a"
            ],
            [
             0.8888888888888888,
             "#fdca26"
            ],
            [
             1,
             "#f0f921"
            ]
           ],
           "sequentialminus": [
            [
             0,
             "#0d0887"
            ],
            [
             0.1111111111111111,
             "#46039f"
            ],
            [
             0.2222222222222222,
             "#7201a8"
            ],
            [
             0.3333333333333333,
             "#9c179e"
            ],
            [
             0.4444444444444444,
             "#bd3786"
            ],
            [
             0.5555555555555556,
             "#d8576b"
            ],
            [
             0.6666666666666666,
             "#ed7953"
            ],
            [
             0.7777777777777778,
             "#fb9f3a"
            ],
            [
             0.8888888888888888,
             "#fdca26"
            ],
            [
             1,
             "#f0f921"
            ]
           ]
          },
          "colorway": [
           "#636efa",
           "#EF553B",
           "#00cc96",
           "#ab63fa",
           "#FFA15A",
           "#19d3f3",
           "#FF6692",
           "#B6E880",
           "#FF97FF",
           "#FECB52"
          ],
          "font": {
           "color": "#2a3f5f"
          },
          "geo": {
           "bgcolor": "white",
           "lakecolor": "white",
           "landcolor": "#E5ECF6",
           "showlakes": true,
           "showland": true,
           "subunitcolor": "white"
          },
          "hoverlabel": {
           "align": "left"
          },
          "hovermode": "closest",
          "mapbox": {
           "style": "light"
          },
          "paper_bgcolor": "white",
          "plot_bgcolor": "#E5ECF6",
          "polar": {
           "angularaxis": {
            "gridcolor": "white",
            "linecolor": "white",
            "ticks": ""
           },
           "bgcolor": "#E5ECF6",
           "radialaxis": {
            "gridcolor": "white",
            "linecolor": "white",
            "ticks": ""
           }
          },
          "scene": {
           "xaxis": {
            "backgroundcolor": "#E5ECF6",
            "gridcolor": "white",
            "gridwidth": 2,
            "linecolor": "white",
            "showbackground": true,
            "ticks": "",
            "zerolinecolor": "white"
           },
           "yaxis": {
            "backgroundcolor": "#E5ECF6",
            "gridcolor": "white",
            "gridwidth": 2,
            "linecolor": "white",
            "showbackground": true,
            "ticks": "",
            "zerolinecolor": "white"
           },
           "zaxis": {
            "backgroundcolor": "#E5ECF6",
            "gridcolor": "white",
            "gridwidth": 2,
            "linecolor": "white",
            "showbackground": true,
            "ticks": "",
            "zerolinecolor": "white"
           }
          },
          "shapedefaults": {
           "line": {
            "color": "#2a3f5f"
           }
          },
          "ternary": {
           "aaxis": {
            "gridcolor": "white",
            "linecolor": "white",
            "ticks": ""
           },
           "baxis": {
            "gridcolor": "white",
            "linecolor": "white",
            "ticks": ""
           },
           "bgcolor": "#E5ECF6",
           "caxis": {
            "gridcolor": "white",
            "linecolor": "white",
            "ticks": ""
           }
          },
          "title": {
           "x": 0.05
          },
          "xaxis": {
           "automargin": true,
           "gridcolor": "white",
           "linecolor": "white",
           "ticks": "",
           "title": {
            "standoff": 15
           },
           "zerolinecolor": "white",
           "zerolinewidth": 2
          },
          "yaxis": {
           "automargin": true,
           "gridcolor": "white",
           "linecolor": "white",
           "ticks": "",
           "title": {
            "standoff": 15
           },
           "zerolinecolor": "white",
           "zerolinewidth": 2
          }
         }
        },
        "title": {
         "font": {
          "color": "black",
          "family": "Calibri",
          "size": 18
         },
         "text": "Presupuesto del ayuntamiento de Girona <br> en el período 2015-2023"
        },
        "yaxis": {
         "title": {
          "text": "Dinero destinado"
         }
        }
       }
      },
      "text/html": [
       "<div>                            <div id=\"09a95323-447a-47f3-9d60-87e83b6d7009\" class=\"plotly-graph-div\" style=\"height:525px; width:100%;\"></div>            <script type=\"text/javascript\">                require([\"plotly\"], function(Plotly) {                    window.PLOTLYENV=window.PLOTLYENV || {};                                    if (document.getElementById(\"09a95323-447a-47f3-9d60-87e83b6d7009\")) {                    Plotly.newPlot(                        \"09a95323-447a-47f3-9d60-87e83b6d7009\",                        [{\"marker\":{\"color\":\"#994b1b\"},\"name\":\"Turismo\",\"x\":[\"2015\",\"2016\",\"2017\",\"2018\",\"2019\",\"2020\",\"2021\",\"2022\",\"2023\"],\"y\":[2398542.6100000003,2064694.5699999998,2578727.18,2436540.9899999998,4430860.79,3901131.07,4802787.44,3626150.61,6644509.89],\"type\":\"bar\"},{\"marker\":{\"color\":\"#cbaeaa\"},\"name\":\"Cultura\",\"x\":[\"2015\",\"2016\",\"2017\",\"2018\",\"2019\",\"2020\",\"2021\",\"2022\",\"2023\"],\"y\":[10544263.819999998,11288650.93,12048672.32,12261326.209999997,12550243.28,12326067.66,13765421.9,13804177.130000003,15082603.23],\"type\":\"bar\"},{\"marker\":{\"color\":\"#c68238\"},\"name\":\"Derechos sociales\",\"x\":[\"2015\",\"2016\",\"2017\",\"2018\",\"2019\",\"2020\",\"2021\",\"2022\",\"2023\"],\"y\":[55301570.97,64749668.59,63992858.63,40833250.09,42152845.85,65097817.53,84301476.33999999,97151702.94,115218010.84],\"type\":\"bar\"},{\"marker\":{\"color\":\"#f4a460\"},\"name\":\"Movilidad\",\"x\":[\"2015\",\"2016\",\"2017\",\"2018\",\"2019\",\"2020\",\"2021\",\"2022\",\"2023\"],\"y\":[11110408.87,10771480.13,10490410.34,11259246.4,12769443.83,13975970.2,14898938.59,13594039.34,15554345.9],\"type\":\"bar\"}],                        {\"template\":{\"data\":{\"histogram2dcontour\":[{\"type\":\"histogram2dcontour\",\"colorbar\":{\"outlinewidth\":0,\"ticks\":\"\"},\"colorscale\":[[0.0,\"#0d0887\"],[0.1111111111111111,\"#46039f\"],[0.2222222222222222,\"#7201a8\"],[0.3333333333333333,\"#9c179e\"],[0.4444444444444444,\"#bd3786\"],[0.5555555555555556,\"#d8576b\"],[0.6666666666666666,\"#ed7953\"],[0.7777777777777778,\"#fb9f3a\"],[0.8888888888888888,\"#fdca26\"],[1.0,\"#f0f921\"]]}],\"choropleth\":[{\"type\":\"choropleth\",\"colorbar\":{\"outlinewidth\":0,\"ticks\":\"\"}}],\"histogram2d\":[{\"type\":\"histogram2d\",\"colorbar\":{\"outlinewidth\":0,\"ticks\":\"\"},\"colorscale\":[[0.0,\"#0d0887\"],[0.1111111111111111,\"#46039f\"],[0.2222222222222222,\"#7201a8\"],[0.3333333333333333,\"#9c179e\"],[0.4444444444444444,\"#bd3786\"],[0.5555555555555556,\"#d8576b\"],[0.6666666666666666,\"#ed7953\"],[0.7777777777777778,\"#fb9f3a\"],[0.8888888888888888,\"#fdca26\"],[1.0,\"#f0f921\"]]}],\"heatmap\":[{\"type\":\"heatmap\",\"colorbar\":{\"outlinewidth\":0,\"ticks\":\"\"},\"colorscale\":[[0.0,\"#0d0887\"],[0.1111111111111111,\"#46039f\"],[0.2222222222222222,\"#7201a8\"],[0.3333333333333333,\"#9c179e\"],[0.4444444444444444,\"#bd3786\"],[0.5555555555555556,\"#d8576b\"],[0.6666666666666666,\"#ed7953\"],[0.7777777777777778,\"#fb9f3a\"],[0.8888888888888888,\"#fdca26\"],[1.0,\"#f0f921\"]]}],\"heatmapgl\":[{\"type\":\"heatmapgl\",\"colorbar\":{\"outlinewidth\":0,\"ticks\":\"\"},\"colorscale\":[[0.0,\"#0d0887\"],[0.1111111111111111,\"#46039f\"],[0.2222222222222222,\"#7201a8\"],[0.3333333333333333,\"#9c179e\"],[0.4444444444444444,\"#bd3786\"],[0.5555555555555556,\"#d8576b\"],[0.6666666666666666,\"#ed7953\"],[0.7777777777777778,\"#fb9f3a\"],[0.8888888888888888,\"#fdca26\"],[1.0,\"#f0f921\"]]}],\"contourcarpet\":[{\"type\":\"contourcarpet\",\"colorbar\":{\"outlinewidth\":0,\"ticks\":\"\"}}],\"contour\":[{\"type\":\"contour\",\"colorbar\":{\"outlinewidth\":0,\"ticks\":\"\"},\"colorscale\":[[0.0,\"#0d0887\"],[0.1111111111111111,\"#46039f\"],[0.2222222222222222,\"#7201a8\"],[0.3333333333333333,\"#9c179e\"],[0.4444444444444444,\"#bd3786\"],[0.5555555555555556,\"#d8576b\"],[0.6666666666666666,\"#ed7953\"],[0.7777777777777778,\"#fb9f3a\"],[0.8888888888888888,\"#fdca26\"],[1.0,\"#f0f921\"]]}],\"surface\":[{\"type\":\"surface\",\"colorbar\":{\"outlinewidth\":0,\"ticks\":\"\"},\"colorscale\":[[0.0,\"#0d0887\"],[0.1111111111111111,\"#46039f\"],[0.2222222222222222,\"#7201a8\"],[0.3333333333333333,\"#9c179e\"],[0.4444444444444444,\"#bd3786\"],[0.5555555555555556,\"#d8576b\"],[0.6666666666666666,\"#ed7953\"],[0.7777777777777778,\"#fb9f3a\"],[0.8888888888888888,\"#fdca26\"],[1.0,\"#f0f921\"]]}],\"mesh3d\":[{\"type\":\"mesh3d\",\"colorbar\":{\"outlinewidth\":0,\"ticks\":\"\"}}],\"scatter\":[{\"fillpattern\":{\"fillmode\":\"overlay\",\"size\":10,\"solidity\":0.2},\"type\":\"scatter\"}],\"parcoords\":[{\"type\":\"parcoords\",\"line\":{\"colorbar\":{\"outlinewidth\":0,\"ticks\":\"\"}}}],\"scatterpolargl\":[{\"type\":\"scatterpolargl\",\"marker\":{\"colorbar\":{\"outlinewidth\":0,\"ticks\":\"\"}}}],\"bar\":[{\"error_x\":{\"color\":\"#2a3f5f\"},\"error_y\":{\"color\":\"#2a3f5f\"},\"marker\":{\"line\":{\"color\":\"#E5ECF6\",\"width\":0.5},\"pattern\":{\"fillmode\":\"overlay\",\"size\":10,\"solidity\":0.2}},\"type\":\"bar\"}],\"scattergeo\":[{\"type\":\"scattergeo\",\"marker\":{\"colorbar\":{\"outlinewidth\":0,\"ticks\":\"\"}}}],\"scatterpolar\":[{\"type\":\"scatterpolar\",\"marker\":{\"colorbar\":{\"outlinewidth\":0,\"ticks\":\"\"}}}],\"histogram\":[{\"marker\":{\"pattern\":{\"fillmode\":\"overlay\",\"size\":10,\"solidity\":0.2}},\"type\":\"histogram\"}],\"scattergl\":[{\"type\":\"scattergl\",\"marker\":{\"colorbar\":{\"outlinewidth\":0,\"ticks\":\"\"}}}],\"scatter3d\":[{\"type\":\"scatter3d\",\"line\":{\"colorbar\":{\"outlinewidth\":0,\"ticks\":\"\"}},\"marker\":{\"colorbar\":{\"outlinewidth\":0,\"ticks\":\"\"}}}],\"scattermapbox\":[{\"type\":\"scattermapbox\",\"marker\":{\"colorbar\":{\"outlinewidth\":0,\"ticks\":\"\"}}}],\"scatterternary\":[{\"type\":\"scatterternary\",\"marker\":{\"colorbar\":{\"outlinewidth\":0,\"ticks\":\"\"}}}],\"scattercarpet\":[{\"type\":\"scattercarpet\",\"marker\":{\"colorbar\":{\"outlinewidth\":0,\"ticks\":\"\"}}}],\"carpet\":[{\"aaxis\":{\"endlinecolor\":\"#2a3f5f\",\"gridcolor\":\"white\",\"linecolor\":\"white\",\"minorgridcolor\":\"white\",\"startlinecolor\":\"#2a3f5f\"},\"baxis\":{\"endlinecolor\":\"#2a3f5f\",\"gridcolor\":\"white\",\"linecolor\":\"white\",\"minorgridcolor\":\"white\",\"startlinecolor\":\"#2a3f5f\"},\"type\":\"carpet\"}],\"table\":[{\"cells\":{\"fill\":{\"color\":\"#EBF0F8\"},\"line\":{\"color\":\"white\"}},\"header\":{\"fill\":{\"color\":\"#C8D4E3\"},\"line\":{\"color\":\"white\"}},\"type\":\"table\"}],\"barpolar\":[{\"marker\":{\"line\":{\"color\":\"#E5ECF6\",\"width\":0.5},\"pattern\":{\"fillmode\":\"overlay\",\"size\":10,\"solidity\":0.2}},\"type\":\"barpolar\"}],\"pie\":[{\"automargin\":true,\"type\":\"pie\"}]},\"layout\":{\"autotypenumbers\":\"strict\",\"colorway\":[\"#636efa\",\"#EF553B\",\"#00cc96\",\"#ab63fa\",\"#FFA15A\",\"#19d3f3\",\"#FF6692\",\"#B6E880\",\"#FF97FF\",\"#FECB52\"],\"font\":{\"color\":\"#2a3f5f\"},\"hovermode\":\"closest\",\"hoverlabel\":{\"align\":\"left\"},\"paper_bgcolor\":\"white\",\"plot_bgcolor\":\"#E5ECF6\",\"polar\":{\"bgcolor\":\"#E5ECF6\",\"angularaxis\":{\"gridcolor\":\"white\",\"linecolor\":\"white\",\"ticks\":\"\"},\"radialaxis\":{\"gridcolor\":\"white\",\"linecolor\":\"white\",\"ticks\":\"\"}},\"ternary\":{\"bgcolor\":\"#E5ECF6\",\"aaxis\":{\"gridcolor\":\"white\",\"linecolor\":\"white\",\"ticks\":\"\"},\"baxis\":{\"gridcolor\":\"white\",\"linecolor\":\"white\",\"ticks\":\"\"},\"caxis\":{\"gridcolor\":\"white\",\"linecolor\":\"white\",\"ticks\":\"\"}},\"coloraxis\":{\"colorbar\":{\"outlinewidth\":0,\"ticks\":\"\"}},\"colorscale\":{\"sequential\":[[0.0,\"#0d0887\"],[0.1111111111111111,\"#46039f\"],[0.2222222222222222,\"#7201a8\"],[0.3333333333333333,\"#9c179e\"],[0.4444444444444444,\"#bd3786\"],[0.5555555555555556,\"#d8576b\"],[0.6666666666666666,\"#ed7953\"],[0.7777777777777778,\"#fb9f3a\"],[0.8888888888888888,\"#fdca26\"],[1.0,\"#f0f921\"]],\"sequentialminus\":[[0.0,\"#0d0887\"],[0.1111111111111111,\"#46039f\"],[0.2222222222222222,\"#7201a8\"],[0.3333333333333333,\"#9c179e\"],[0.4444444444444444,\"#bd3786\"],[0.5555555555555556,\"#d8576b\"],[0.6666666666666666,\"#ed7953\"],[0.7777777777777778,\"#fb9f3a\"],[0.8888888888888888,\"#fdca26\"],[1.0,\"#f0f921\"]],\"diverging\":[[0,\"#8e0152\"],[0.1,\"#c51b7d\"],[0.2,\"#de77ae\"],[0.3,\"#f1b6da\"],[0.4,\"#fde0ef\"],[0.5,\"#f7f7f7\"],[0.6,\"#e6f5d0\"],[0.7,\"#b8e186\"],[0.8,\"#7fbc41\"],[0.9,\"#4d9221\"],[1,\"#276419\"]]},\"xaxis\":{\"gridcolor\":\"white\",\"linecolor\":\"white\",\"ticks\":\"\",\"title\":{\"standoff\":15},\"zerolinecolor\":\"white\",\"automargin\":true,\"zerolinewidth\":2},\"yaxis\":{\"gridcolor\":\"white\",\"linecolor\":\"white\",\"ticks\":\"\",\"title\":{\"standoff\":15},\"zerolinecolor\":\"white\",\"automargin\":true,\"zerolinewidth\":2},\"scene\":{\"xaxis\":{\"backgroundcolor\":\"#E5ECF6\",\"gridcolor\":\"white\",\"linecolor\":\"white\",\"showbackground\":true,\"ticks\":\"\",\"zerolinecolor\":\"white\",\"gridwidth\":2},\"yaxis\":{\"backgroundcolor\":\"#E5ECF6\",\"gridcolor\":\"white\",\"linecolor\":\"white\",\"showbackground\":true,\"ticks\":\"\",\"zerolinecolor\":\"white\",\"gridwidth\":2},\"zaxis\":{\"backgroundcolor\":\"#E5ECF6\",\"gridcolor\":\"white\",\"linecolor\":\"white\",\"showbackground\":true,\"ticks\":\"\",\"zerolinecolor\":\"white\",\"gridwidth\":2}},\"shapedefaults\":{\"line\":{\"color\":\"#2a3f5f\"}},\"annotationdefaults\":{\"arrowcolor\":\"#2a3f5f\",\"arrowhead\":0,\"arrowwidth\":1},\"geo\":{\"bgcolor\":\"white\",\"landcolor\":\"#E5ECF6\",\"subunitcolor\":\"white\",\"showland\":true,\"showlakes\":true,\"lakecolor\":\"white\"},\"title\":{\"x\":0.05},\"mapbox\":{\"style\":\"light\"}}},\"title\":{\"font\":{\"family\":\"Calibri\",\"size\":18,\"color\":\"black\"},\"text\":\"Presupuesto del ayuntamiento de Girona \\u003cbr\\u003e en el per\\u00edodo 2015-2023\"},\"font\":{\"color\":\"black\"},\"yaxis\":{\"title\":{\"text\":\"Dinero destinado\"}},\"barmode\":\"group\",\"plot_bgcolor\":\"white\",\"annotations\":[{\"font\":{\"color\":\"black\",\"family\":\"Calibri\",\"size\":12},\"showarrow\":false,\"text\":\"Fuente: Ayuntamiento de Girona \\u003cbr\\u003e Elaboraci\\u00f3n: Juan Luis Monterroso\",\"x\":0.5,\"xref\":\"paper\",\"y\":-0.24,\"yref\":\"paper\"}],\"legend\":{\"title\":{\"font\":{\"family\":\"Calibri\"}},\"font\":{\"family\":\"Calibri\",\"size\":10,\"color\":\"black\"},\"x\":0,\"y\":1,\"bgcolor\":\"#F4A460\",\"bordercolor\":\"Black\",\"borderwidth\":2}},                        {\"responsive\": true}                    ).then(function(){\n",
       "                            \n",
       "var gd = document.getElementById('09a95323-447a-47f3-9d60-87e83b6d7009');\n",
       "var x = new MutationObserver(function (mutations, observer) {{\n",
       "        var display = window.getComputedStyle(gd).display;\n",
       "        if (!display || display === 'none') {{\n",
       "            console.log([gd, 'removed!']);\n",
       "            Plotly.purge(gd);\n",
       "            observer.disconnect();\n",
       "        }}\n",
       "}});\n",
       "\n",
       "// Listen for the removal of the full notebook cells\n",
       "var notebookContainer = gd.closest('#notebook-container');\n",
       "if (notebookContainer) {{\n",
       "    x.observe(notebookContainer, {childList: true});\n",
       "}}\n",
       "\n",
       "// Listen for the clearing of the current output cell\n",
       "var outputEl = gd.closest('.output');\n",
       "if (outputEl) {{\n",
       "    x.observe(outputEl, {childList: true});\n",
       "}}\n",
       "\n",
       "                        })                };                });            </script>        </div>"
      ]
     },
     "metadata": {},
     "output_type": "display_data"
    }
   ],
   "source": [
    "import plotly.graph_objects as go\n",
    "\n",
    "fig = go.Figure()\n",
    "\n",
    "# Agregamos las barras y el nombre de cada array\n",
    "fig.add_trace(go.Bar(x=años, y=creditosturismo, name='Turismo', marker_color='#994b1b'))\n",
    "fig.add_trace(go.Bar(x=años, y=creditoscultura, name='Cultura', marker_color='#cbaeaa'))\n",
    "fig.add_trace(go.Bar(x=años, y=creditossocial, name='Derechos sociales', marker_color='#c68238'))\n",
    "fig.add_trace(go.Bar(x=años, y=creditosmovilidad, name='Movilidad', marker_color='#f4a460'))\n",
    "\n",
    "# Personalizamos el gráfico\n",
    "fig.update_layout(\n",
    "    title=dict(\n",
    "        text='Presupuesto del ayuntamiento de Girona <br> en el período 2015-2023',\n",
    "        font=dict(family='Calibri', size=18, color='black')  # Fuente, tamaño y color del título\n",
    "    ),\n",
    "    #xaxis=dict(title='Años muestra'),\n",
    "    yaxis=dict(title='Dinero destinado'),\n",
    "    barmode='group',\n",
    "    font=dict(color='black'),\n",
    "    plot_bgcolor='white',\n",
    "    annotations=[\n",
    "        dict(\n",
    "            x=0.5,\n",
    "            y=-0.24,\n",
    "            xref='paper',\n",
    "            yref='paper',\n",
    "            text='Fuente: Ayuntamiento de Girona <br> Elaboración: Juan Luis Monterroso',\n",
    "            showarrow=False,\n",
    "            font=dict(family='Calibri', size=12, color='black')\n",
    "        )\n",
    "    ]\n",
    ")\n",
    "\n",
    "fig.update_layout(\n",
    "    legend=dict(\n",
    "        x=0,\n",
    "        y=1,\n",
    "        title_font_family=\"Calibri\",\n",
    "        font=dict(\n",
    "            family=\"Calibri\",\n",
    "            size=10,\n",
    "            color=\"black\"\n",
    "        ),\n",
    "        bgcolor=\"#F4A460\",\n",
    "        bordercolor=\"Black\",\n",
    "        borderwidth=2\n",
    "    )\n",
    ")\n",
    "\n",
    "# Mostramos el gráfico\n",
    "fig.show()\n",
    "\n",
    "# Lo guardamos en formato HTML para incrustarlo en la web\n",
    "fig.write_html('../images/grafico-barras-presupuesto20152023.html') "
   ]
  }
 ],
 "metadata": {
  "kernelspec": {
   "display_name": "Python 3 (ipykernel)",
   "language": "python",
   "name": "python3"
  },
  "language_info": {
   "codemirror_mode": {
    "name": "ipython",
    "version": 3
   },
   "file_extension": ".py",
   "mimetype": "text/x-python",
   "name": "python",
   "nbconvert_exporter": "python",
   "pygments_lexer": "ipython3",
   "version": "3.11.1"
  }
 },
 "nbformat": 4,
 "nbformat_minor": 5
}
